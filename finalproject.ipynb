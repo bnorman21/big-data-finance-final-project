{
 "cells": [
  {
   "cell_type": "code",
   "execution_count": 164,
   "metadata": {
    "collapsed": true,
    "pycharm": {
     "name": "#%%\n"
    }
   },
   "outputs": [
    {
     "data": {
      "text/plain": "         gvkey  datadate  fyearq  fqtr indfmt consol popsrc datafmt     tic  \\\n0         1013  19950131    1995   1.0   INDL      C      D     STD  ADCT.1   \n1         1013  19950430    1995   2.0   INDL      C      D     STD  ADCT.1   \n2         1013  19950731    1995   3.0   INDL      C      D     STD  ADCT.1   \n3         1013  19951031    1995   4.0   INDL      C      D     STD  ADCT.1   \n4         1013  19960131    1996   1.0   INDL      C      D     STD  ADCT.1   \n...        ...       ...     ...   ...    ...    ...    ...     ...     ...   \n194111  347085  20210228    2020   4.0   INDL      C      D     STD    KARO   \n194112  347085  20210531    2021   1.0   INDL      C      D     STD    KARO   \n194113  347085  20210831    2021   2.0   INDL      C      D     STD    KARO   \n194114  347085  20211130    2021   3.0   INDL      C      D     STD    KARO   \n194115  347085  20220228    2021   4.0   INDL      C      D     STD    KARO   \n\n            cusip  ... datacqtr datafqtr epspxq         niq        revtq  \\\n0       000886309  ...   1994Q4   1995Q1   0.38  10466000.0  121774000.0   \n1       000886309  ...   1995Q1   1995Q2   0.18  10389000.0  140342000.0   \n2       000886309  ...   1995Q2   1995Q3   0.26  15674000.0  150454000.0   \n3       000886309  ...   1995Q3   1995Q4   0.30  18657000.0  173652000.0   \n4       000886309  ...   1995Q4   1996Q1   0.26  16313000.0  162591000.0   \n...           ...  ...      ...      ...    ...         ...          ...   \n194111  Y4600W108  ...   2021Q1   2020Q4   0.20   4228000.0   42641000.0   \n194112  Y4600W108  ...   2021Q2   2021Q1   0.25   6417000.0   45522000.0   \n194113  Y4600W108  ...   2021Q3   2021Q2   0.26   7888000.0   43099000.0   \n194114  Y4600W108  ...   2021Q4   2021Q3   0.25   7768000.0   36496000.0   \n194115  Y4600W108  ...   2022Q1   2021Q4   0.23   7090000.0   52870000.0   \n\n        costat  ggroup    gind  gsector   gsubind  \n0            I    4520  452010       45  45201020  \n1            I    4520  452010       45  45201020  \n2            I    4520  452010       45  45201020  \n3            I    4520  452010       45  45201020  \n4            I    4520  452010       45  45201020  \n...        ...     ...     ...      ...       ...  \n194111       A    4510  451030       45  45103010  \n194112       A    4510  451030       45  45103010  \n194113       A    4510  451030       45  45103010  \n194114       A    4510  451030       45  45103010  \n194115       A    4510  451030       45  45103010  \n\n[104629 rows x 22 columns]",
      "text/html": "<div>\n<style scoped>\n    .dataframe tbody tr th:only-of-type {\n        vertical-align: middle;\n    }\n\n    .dataframe tbody tr th {\n        vertical-align: top;\n    }\n\n    .dataframe thead th {\n        text-align: right;\n    }\n</style>\n<table border=\"1\" class=\"dataframe\">\n  <thead>\n    <tr style=\"text-align: right;\">\n      <th></th>\n      <th>gvkey</th>\n      <th>datadate</th>\n      <th>fyearq</th>\n      <th>fqtr</th>\n      <th>indfmt</th>\n      <th>consol</th>\n      <th>popsrc</th>\n      <th>datafmt</th>\n      <th>tic</th>\n      <th>cusip</th>\n      <th>...</th>\n      <th>datacqtr</th>\n      <th>datafqtr</th>\n      <th>epspxq</th>\n      <th>niq</th>\n      <th>revtq</th>\n      <th>costat</th>\n      <th>ggroup</th>\n      <th>gind</th>\n      <th>gsector</th>\n      <th>gsubind</th>\n    </tr>\n  </thead>\n  <tbody>\n    <tr>\n      <th>0</th>\n      <td>1013</td>\n      <td>19950131</td>\n      <td>1995</td>\n      <td>1.0</td>\n      <td>INDL</td>\n      <td>C</td>\n      <td>D</td>\n      <td>STD</td>\n      <td>ADCT.1</td>\n      <td>000886309</td>\n      <td>...</td>\n      <td>1994Q4</td>\n      <td>1995Q1</td>\n      <td>0.38</td>\n      <td>10466000.0</td>\n      <td>121774000.0</td>\n      <td>I</td>\n      <td>4520</td>\n      <td>452010</td>\n      <td>45</td>\n      <td>45201020</td>\n    </tr>\n    <tr>\n      <th>1</th>\n      <td>1013</td>\n      <td>19950430</td>\n      <td>1995</td>\n      <td>2.0</td>\n      <td>INDL</td>\n      <td>C</td>\n      <td>D</td>\n      <td>STD</td>\n      <td>ADCT.1</td>\n      <td>000886309</td>\n      <td>...</td>\n      <td>1995Q1</td>\n      <td>1995Q2</td>\n      <td>0.18</td>\n      <td>10389000.0</td>\n      <td>140342000.0</td>\n      <td>I</td>\n      <td>4520</td>\n      <td>452010</td>\n      <td>45</td>\n      <td>45201020</td>\n    </tr>\n    <tr>\n      <th>2</th>\n      <td>1013</td>\n      <td>19950731</td>\n      <td>1995</td>\n      <td>3.0</td>\n      <td>INDL</td>\n      <td>C</td>\n      <td>D</td>\n      <td>STD</td>\n      <td>ADCT.1</td>\n      <td>000886309</td>\n      <td>...</td>\n      <td>1995Q2</td>\n      <td>1995Q3</td>\n      <td>0.26</td>\n      <td>15674000.0</td>\n      <td>150454000.0</td>\n      <td>I</td>\n      <td>4520</td>\n      <td>452010</td>\n      <td>45</td>\n      <td>45201020</td>\n    </tr>\n    <tr>\n      <th>3</th>\n      <td>1013</td>\n      <td>19951031</td>\n      <td>1995</td>\n      <td>4.0</td>\n      <td>INDL</td>\n      <td>C</td>\n      <td>D</td>\n      <td>STD</td>\n      <td>ADCT.1</td>\n      <td>000886309</td>\n      <td>...</td>\n      <td>1995Q3</td>\n      <td>1995Q4</td>\n      <td>0.30</td>\n      <td>18657000.0</td>\n      <td>173652000.0</td>\n      <td>I</td>\n      <td>4520</td>\n      <td>452010</td>\n      <td>45</td>\n      <td>45201020</td>\n    </tr>\n    <tr>\n      <th>4</th>\n      <td>1013</td>\n      <td>19960131</td>\n      <td>1996</td>\n      <td>1.0</td>\n      <td>INDL</td>\n      <td>C</td>\n      <td>D</td>\n      <td>STD</td>\n      <td>ADCT.1</td>\n      <td>000886309</td>\n      <td>...</td>\n      <td>1995Q4</td>\n      <td>1996Q1</td>\n      <td>0.26</td>\n      <td>16313000.0</td>\n      <td>162591000.0</td>\n      <td>I</td>\n      <td>4520</td>\n      <td>452010</td>\n      <td>45</td>\n      <td>45201020</td>\n    </tr>\n    <tr>\n      <th>...</th>\n      <td>...</td>\n      <td>...</td>\n      <td>...</td>\n      <td>...</td>\n      <td>...</td>\n      <td>...</td>\n      <td>...</td>\n      <td>...</td>\n      <td>...</td>\n      <td>...</td>\n      <td>...</td>\n      <td>...</td>\n      <td>...</td>\n      <td>...</td>\n      <td>...</td>\n      <td>...</td>\n      <td>...</td>\n      <td>...</td>\n      <td>...</td>\n      <td>...</td>\n      <td>...</td>\n    </tr>\n    <tr>\n      <th>194111</th>\n      <td>347085</td>\n      <td>20210228</td>\n      <td>2020</td>\n      <td>4.0</td>\n      <td>INDL</td>\n      <td>C</td>\n      <td>D</td>\n      <td>STD</td>\n      <td>KARO</td>\n      <td>Y4600W108</td>\n      <td>...</td>\n      <td>2021Q1</td>\n      <td>2020Q4</td>\n      <td>0.20</td>\n      <td>4228000.0</td>\n      <td>42641000.0</td>\n      <td>A</td>\n      <td>4510</td>\n      <td>451030</td>\n      <td>45</td>\n      <td>45103010</td>\n    </tr>\n    <tr>\n      <th>194112</th>\n      <td>347085</td>\n      <td>20210531</td>\n      <td>2021</td>\n      <td>1.0</td>\n      <td>INDL</td>\n      <td>C</td>\n      <td>D</td>\n      <td>STD</td>\n      <td>KARO</td>\n      <td>Y4600W108</td>\n      <td>...</td>\n      <td>2021Q2</td>\n      <td>2021Q1</td>\n      <td>0.25</td>\n      <td>6417000.0</td>\n      <td>45522000.0</td>\n      <td>A</td>\n      <td>4510</td>\n      <td>451030</td>\n      <td>45</td>\n      <td>45103010</td>\n    </tr>\n    <tr>\n      <th>194113</th>\n      <td>347085</td>\n      <td>20210831</td>\n      <td>2021</td>\n      <td>2.0</td>\n      <td>INDL</td>\n      <td>C</td>\n      <td>D</td>\n      <td>STD</td>\n      <td>KARO</td>\n      <td>Y4600W108</td>\n      <td>...</td>\n      <td>2021Q3</td>\n      <td>2021Q2</td>\n      <td>0.26</td>\n      <td>7888000.0</td>\n      <td>43099000.0</td>\n      <td>A</td>\n      <td>4510</td>\n      <td>451030</td>\n      <td>45</td>\n      <td>45103010</td>\n    </tr>\n    <tr>\n      <th>194114</th>\n      <td>347085</td>\n      <td>20211130</td>\n      <td>2021</td>\n      <td>3.0</td>\n      <td>INDL</td>\n      <td>C</td>\n      <td>D</td>\n      <td>STD</td>\n      <td>KARO</td>\n      <td>Y4600W108</td>\n      <td>...</td>\n      <td>2021Q4</td>\n      <td>2021Q3</td>\n      <td>0.25</td>\n      <td>7768000.0</td>\n      <td>36496000.0</td>\n      <td>A</td>\n      <td>4510</td>\n      <td>451030</td>\n      <td>45</td>\n      <td>45103010</td>\n    </tr>\n    <tr>\n      <th>194115</th>\n      <td>347085</td>\n      <td>20220228</td>\n      <td>2021</td>\n      <td>4.0</td>\n      <td>INDL</td>\n      <td>C</td>\n      <td>D</td>\n      <td>STD</td>\n      <td>KARO</td>\n      <td>Y4600W108</td>\n      <td>...</td>\n      <td>2022Q1</td>\n      <td>2021Q4</td>\n      <td>0.23</td>\n      <td>7090000.0</td>\n      <td>52870000.0</td>\n      <td>A</td>\n      <td>4510</td>\n      <td>451030</td>\n      <td>45</td>\n      <td>45103010</td>\n    </tr>\n  </tbody>\n</table>\n<p>104629 rows × 22 columns</p>\n</div>"
     },
     "execution_count": 164,
     "metadata": {},
     "output_type": "execute_result"
    }
   ],
   "source": [
    "import pandas as pd\n",
    "financial_history = pd.read_csv('financial_results_3.csv')\n",
    "financial_history['revtq'] = financial_history['revtq'] * 1000000\n",
    "financial_history['niq'] = financial_history['niq'] * 1000000\n",
    "financial_history = financial_history[(financial_history['revtq'] >= 15000000)]\n",
    "financial_history\n"
   ]
  },
  {
   "cell_type": "code",
   "execution_count": 168,
   "outputs": [
    {
     "data": {
      "text/plain": "         gvkey  datadate  fyearq  fqtr indfmt consol popsrc datafmt     tic  \\\n8         1013  19970131    1997   1.0   INDL      C      D     STD  ADCT.1   \n9         1013  19970430    1997   2.0   INDL      C      D     STD  ADCT.1   \n10        1013  19970731    1997   3.0   INDL      C      D     STD  ADCT.1   \n11        1013  19971031    1997   4.0   INDL      C      D     STD  ADCT.1   \n12        1013  19980131    1998   1.0   INDL      C      D     STD  ADCT.1   \n...        ...       ...     ...   ...    ...    ...    ...     ...     ...   \n194086  339965  20220131    2021   4.0   INDL      C      D     STD    SNOW   \n194087  339965  20220430    2022   1.0   INDL      C      D     STD    SNOW   \n194088  339965  20220731    2022   2.0   INDL      C      D     STD    SNOW   \n194114  347085  20211130    2021   3.0   INDL      C      D     STD    KARO   \n194115  347085  20220228    2021   4.0   INDL      C      D     STD    KARO   \n\n            cusip  ...          niq        revtq costat ggroup    gind  \\\n8       000886309  ...   10395000.0  256777000.0      I   4520  452010   \n9       000886309  ...   28861000.0  279199000.0      I   4520  452010   \n10      000886309  ...   32757000.0  293312000.0      I   4520  452010   \n11      000886309  ...   36824000.0  335162000.0      I   4520  452010   \n12      000886309  ...   25409000.0  286396000.0      I   4520  452010   \n...           ...  ...          ...          ...    ...    ...     ...   \n194086  833445109  ... -132153000.0  383774000.0      A   4510  451020   \n194087  833445109  ... -165794000.0  422371000.0      A   4510  451020   \n194088  833445109  ... -222806000.0  497248000.0      A   4510  451020   \n194114  Y4600W108  ...    7768000.0   36496000.0      A   4510  451030   \n194115  Y4600W108  ...    7090000.0   52870000.0      A   4510  451030   \n\n        gsector   gsubind RevenueGrowthRate  NetProfitMargin  gp_score  \n8            45  45201020          0.579282         0.040483  0.619764  \n9            45  45201020          0.446230         0.103371  0.549601  \n10           45  45201020          0.349721         0.111680  0.461401  \n11           45  45201020          0.314093         0.109869  0.423962  \n12           45  45201020          0.115349         0.088720  0.204069  \n...         ...       ...               ...              ...       ...  \n194086       45  45102030          1.014932        -0.344351  0.670581  \n194087       45  45102030          0.845108        -0.392532  0.452576  \n194088       45  45102030          0.826788        -0.448078  0.378710  \n194114       45  45103010         -0.176051         0.212845  0.036794  \n194115       45  45103010          0.239886         0.134103  0.373989  \n\n[78096 rows x 25 columns]",
      "text/html": "<div>\n<style scoped>\n    .dataframe tbody tr th:only-of-type {\n        vertical-align: middle;\n    }\n\n    .dataframe tbody tr th {\n        vertical-align: top;\n    }\n\n    .dataframe thead th {\n        text-align: right;\n    }\n</style>\n<table border=\"1\" class=\"dataframe\">\n  <thead>\n    <tr style=\"text-align: right;\">\n      <th></th>\n      <th>gvkey</th>\n      <th>datadate</th>\n      <th>fyearq</th>\n      <th>fqtr</th>\n      <th>indfmt</th>\n      <th>consol</th>\n      <th>popsrc</th>\n      <th>datafmt</th>\n      <th>tic</th>\n      <th>cusip</th>\n      <th>...</th>\n      <th>niq</th>\n      <th>revtq</th>\n      <th>costat</th>\n      <th>ggroup</th>\n      <th>gind</th>\n      <th>gsector</th>\n      <th>gsubind</th>\n      <th>RevenueGrowthRate</th>\n      <th>NetProfitMargin</th>\n      <th>gp_score</th>\n    </tr>\n  </thead>\n  <tbody>\n    <tr>\n      <th>8</th>\n      <td>1013</td>\n      <td>19970131</td>\n      <td>1997</td>\n      <td>1.0</td>\n      <td>INDL</td>\n      <td>C</td>\n      <td>D</td>\n      <td>STD</td>\n      <td>ADCT.1</td>\n      <td>000886309</td>\n      <td>...</td>\n      <td>10395000.0</td>\n      <td>256777000.0</td>\n      <td>I</td>\n      <td>4520</td>\n      <td>452010</td>\n      <td>45</td>\n      <td>45201020</td>\n      <td>0.579282</td>\n      <td>0.040483</td>\n      <td>0.619764</td>\n    </tr>\n    <tr>\n      <th>9</th>\n      <td>1013</td>\n      <td>19970430</td>\n      <td>1997</td>\n      <td>2.0</td>\n      <td>INDL</td>\n      <td>C</td>\n      <td>D</td>\n      <td>STD</td>\n      <td>ADCT.1</td>\n      <td>000886309</td>\n      <td>...</td>\n      <td>28861000.0</td>\n      <td>279199000.0</td>\n      <td>I</td>\n      <td>4520</td>\n      <td>452010</td>\n      <td>45</td>\n      <td>45201020</td>\n      <td>0.446230</td>\n      <td>0.103371</td>\n      <td>0.549601</td>\n    </tr>\n    <tr>\n      <th>10</th>\n      <td>1013</td>\n      <td>19970731</td>\n      <td>1997</td>\n      <td>3.0</td>\n      <td>INDL</td>\n      <td>C</td>\n      <td>D</td>\n      <td>STD</td>\n      <td>ADCT.1</td>\n      <td>000886309</td>\n      <td>...</td>\n      <td>32757000.0</td>\n      <td>293312000.0</td>\n      <td>I</td>\n      <td>4520</td>\n      <td>452010</td>\n      <td>45</td>\n      <td>45201020</td>\n      <td>0.349721</td>\n      <td>0.111680</td>\n      <td>0.461401</td>\n    </tr>\n    <tr>\n      <th>11</th>\n      <td>1013</td>\n      <td>19971031</td>\n      <td>1997</td>\n      <td>4.0</td>\n      <td>INDL</td>\n      <td>C</td>\n      <td>D</td>\n      <td>STD</td>\n      <td>ADCT.1</td>\n      <td>000886309</td>\n      <td>...</td>\n      <td>36824000.0</td>\n      <td>335162000.0</td>\n      <td>I</td>\n      <td>4520</td>\n      <td>452010</td>\n      <td>45</td>\n      <td>45201020</td>\n      <td>0.314093</td>\n      <td>0.109869</td>\n      <td>0.423962</td>\n    </tr>\n    <tr>\n      <th>12</th>\n      <td>1013</td>\n      <td>19980131</td>\n      <td>1998</td>\n      <td>1.0</td>\n      <td>INDL</td>\n      <td>C</td>\n      <td>D</td>\n      <td>STD</td>\n      <td>ADCT.1</td>\n      <td>000886309</td>\n      <td>...</td>\n      <td>25409000.0</td>\n      <td>286396000.0</td>\n      <td>I</td>\n      <td>4520</td>\n      <td>452010</td>\n      <td>45</td>\n      <td>45201020</td>\n      <td>0.115349</td>\n      <td>0.088720</td>\n      <td>0.204069</td>\n    </tr>\n    <tr>\n      <th>...</th>\n      <td>...</td>\n      <td>...</td>\n      <td>...</td>\n      <td>...</td>\n      <td>...</td>\n      <td>...</td>\n      <td>...</td>\n      <td>...</td>\n      <td>...</td>\n      <td>...</td>\n      <td>...</td>\n      <td>...</td>\n      <td>...</td>\n      <td>...</td>\n      <td>...</td>\n      <td>...</td>\n      <td>...</td>\n      <td>...</td>\n      <td>...</td>\n      <td>...</td>\n      <td>...</td>\n    </tr>\n    <tr>\n      <th>194086</th>\n      <td>339965</td>\n      <td>20220131</td>\n      <td>2021</td>\n      <td>4.0</td>\n      <td>INDL</td>\n      <td>C</td>\n      <td>D</td>\n      <td>STD</td>\n      <td>SNOW</td>\n      <td>833445109</td>\n      <td>...</td>\n      <td>-132153000.0</td>\n      <td>383774000.0</td>\n      <td>A</td>\n      <td>4510</td>\n      <td>451020</td>\n      <td>45</td>\n      <td>45102030</td>\n      <td>1.014932</td>\n      <td>-0.344351</td>\n      <td>0.670581</td>\n    </tr>\n    <tr>\n      <th>194087</th>\n      <td>339965</td>\n      <td>20220430</td>\n      <td>2022</td>\n      <td>1.0</td>\n      <td>INDL</td>\n      <td>C</td>\n      <td>D</td>\n      <td>STD</td>\n      <td>SNOW</td>\n      <td>833445109</td>\n      <td>...</td>\n      <td>-165794000.0</td>\n      <td>422371000.0</td>\n      <td>A</td>\n      <td>4510</td>\n      <td>451020</td>\n      <td>45</td>\n      <td>45102030</td>\n      <td>0.845108</td>\n      <td>-0.392532</td>\n      <td>0.452576</td>\n    </tr>\n    <tr>\n      <th>194088</th>\n      <td>339965</td>\n      <td>20220731</td>\n      <td>2022</td>\n      <td>2.0</td>\n      <td>INDL</td>\n      <td>C</td>\n      <td>D</td>\n      <td>STD</td>\n      <td>SNOW</td>\n      <td>833445109</td>\n      <td>...</td>\n      <td>-222806000.0</td>\n      <td>497248000.0</td>\n      <td>A</td>\n      <td>4510</td>\n      <td>451020</td>\n      <td>45</td>\n      <td>45102030</td>\n      <td>0.826788</td>\n      <td>-0.448078</td>\n      <td>0.378710</td>\n    </tr>\n    <tr>\n      <th>194114</th>\n      <td>347085</td>\n      <td>20211130</td>\n      <td>2021</td>\n      <td>3.0</td>\n      <td>INDL</td>\n      <td>C</td>\n      <td>D</td>\n      <td>STD</td>\n      <td>KARO</td>\n      <td>Y4600W108</td>\n      <td>...</td>\n      <td>7768000.0</td>\n      <td>36496000.0</td>\n      <td>A</td>\n      <td>4510</td>\n      <td>451030</td>\n      <td>45</td>\n      <td>45103010</td>\n      <td>-0.176051</td>\n      <td>0.212845</td>\n      <td>0.036794</td>\n    </tr>\n    <tr>\n      <th>194115</th>\n      <td>347085</td>\n      <td>20220228</td>\n      <td>2021</td>\n      <td>4.0</td>\n      <td>INDL</td>\n      <td>C</td>\n      <td>D</td>\n      <td>STD</td>\n      <td>KARO</td>\n      <td>Y4600W108</td>\n      <td>...</td>\n      <td>7090000.0</td>\n      <td>52870000.0</td>\n      <td>A</td>\n      <td>4510</td>\n      <td>451030</td>\n      <td>45</td>\n      <td>45103010</td>\n      <td>0.239886</td>\n      <td>0.134103</td>\n      <td>0.373989</td>\n    </tr>\n  </tbody>\n</table>\n<p>78096 rows × 25 columns</p>\n</div>"
     },
     "execution_count": 168,
     "metadata": {},
     "output_type": "execute_result"
    }
   ],
   "source": [
    "# financial_history['RevenueGrowthRate'] = financial_history['revtq'].pct_change(periods=4)\n",
    "# sort values by id and quarter\n",
    "# shift by negative 4\n",
    "# check borders (make sure you are heetoi\n",
    "import numpy as np\n",
    "from scipy import stats\n",
    "financial_history['RevenueGrowthRate'] = financial_history.groupby(['cusip'])['revtq'].pct_change(periods=4)\n",
    "financial_history = financial_history.dropna()\n",
    "financial_history = financial_history.drop(financial_history[financial_history.RevenueGrowthRate == float('inf')].index)\n",
    "financial_history = financial_history.drop(financial_history[financial_history.RevenueGrowthRate == float('-inf')].index)\n",
    "financial_history['NetProfitMargin'] = financial_history['niq']/financial_history['revtq']\n",
    "financial_history = financial_history.drop(financial_history[financial_history.NetProfitMargin == float('inf')].index)\n",
    "financial_history = financial_history.dropna()\n",
    "financial_history['gp_score'] = financial_history['NetProfitMargin'] + financial_history['RevenueGrowthRate']\n",
    "financial_history"
   ],
   "metadata": {
    "collapsed": false,
    "pycharm": {
     "name": "#%%\n"
    }
   }
  },
  {
   "cell_type": "code",
   "execution_count": 169,
   "outputs": [
    {
     "data": {
      "text/plain": "        HdrCUSIP9 Ticker ICBIndustry  MthCalDt     MthCap  Year  Month  \\\n0       233269109   DPAC     NOAVAIL  19950131   32899.50  1995    131   \n1       233269109   DPAC     NOAVAIL  19950228   31994.38  1995    228   \n2       233269109   DPAC     NOAVAIL  19950331   31537.31  1995    331   \n3       233269109   DPAC     NOAVAIL  19950428   29252.00  1995    428   \n4       233269109   DPAC     NOAVAIL  19950531   29270.00  1995    531   \n...           ...    ...         ...       ...        ...   ...    ...   \n375531  695255109   PACT        TECH  20131129  535518.72  2013   1129   \n375532  695255109   PACT        TECH  20131231  543886.20  2013   1231   \n375533  695255109   PACT        TECH  20140131  544646.88  2014    131   \n375534  695255109   PACT        TECH  20140228  547689.60  2014    228   \n375535  695255109   PACT        TECH  20140331  550732.32  2014    331   \n\n       Quarter datafqtr  \n0           Q1   1995Q1  \n1           Q1   1995Q1  \n2           Q1   1995Q1  \n3           Q2   1995Q2  \n4           Q2   1995Q2  \n...        ...      ...  \n375531      Q4   2013Q4  \n375532      Q4   2013Q4  \n375533      Q1   2014Q1  \n375534      Q1   2014Q1  \n375535      Q1   2014Q1  \n\n[375536 rows x 9 columns]",
      "text/html": "<div>\n<style scoped>\n    .dataframe tbody tr th:only-of-type {\n        vertical-align: middle;\n    }\n\n    .dataframe tbody tr th {\n        vertical-align: top;\n    }\n\n    .dataframe thead th {\n        text-align: right;\n    }\n</style>\n<table border=\"1\" class=\"dataframe\">\n  <thead>\n    <tr style=\"text-align: right;\">\n      <th></th>\n      <th>HdrCUSIP9</th>\n      <th>Ticker</th>\n      <th>ICBIndustry</th>\n      <th>MthCalDt</th>\n      <th>MthCap</th>\n      <th>Year</th>\n      <th>Month</th>\n      <th>Quarter</th>\n      <th>datafqtr</th>\n    </tr>\n  </thead>\n  <tbody>\n    <tr>\n      <th>0</th>\n      <td>233269109</td>\n      <td>DPAC</td>\n      <td>NOAVAIL</td>\n      <td>19950131</td>\n      <td>32899.50</td>\n      <td>1995</td>\n      <td>131</td>\n      <td>Q1</td>\n      <td>1995Q1</td>\n    </tr>\n    <tr>\n      <th>1</th>\n      <td>233269109</td>\n      <td>DPAC</td>\n      <td>NOAVAIL</td>\n      <td>19950228</td>\n      <td>31994.38</td>\n      <td>1995</td>\n      <td>228</td>\n      <td>Q1</td>\n      <td>1995Q1</td>\n    </tr>\n    <tr>\n      <th>2</th>\n      <td>233269109</td>\n      <td>DPAC</td>\n      <td>NOAVAIL</td>\n      <td>19950331</td>\n      <td>31537.31</td>\n      <td>1995</td>\n      <td>331</td>\n      <td>Q1</td>\n      <td>1995Q1</td>\n    </tr>\n    <tr>\n      <th>3</th>\n      <td>233269109</td>\n      <td>DPAC</td>\n      <td>NOAVAIL</td>\n      <td>19950428</td>\n      <td>29252.00</td>\n      <td>1995</td>\n      <td>428</td>\n      <td>Q2</td>\n      <td>1995Q2</td>\n    </tr>\n    <tr>\n      <th>4</th>\n      <td>233269109</td>\n      <td>DPAC</td>\n      <td>NOAVAIL</td>\n      <td>19950531</td>\n      <td>29270.00</td>\n      <td>1995</td>\n      <td>531</td>\n      <td>Q2</td>\n      <td>1995Q2</td>\n    </tr>\n    <tr>\n      <th>...</th>\n      <td>...</td>\n      <td>...</td>\n      <td>...</td>\n      <td>...</td>\n      <td>...</td>\n      <td>...</td>\n      <td>...</td>\n      <td>...</td>\n      <td>...</td>\n    </tr>\n    <tr>\n      <th>375531</th>\n      <td>695255109</td>\n      <td>PACT</td>\n      <td>TECH</td>\n      <td>20131129</td>\n      <td>535518.72</td>\n      <td>2013</td>\n      <td>1129</td>\n      <td>Q4</td>\n      <td>2013Q4</td>\n    </tr>\n    <tr>\n      <th>375532</th>\n      <td>695255109</td>\n      <td>PACT</td>\n      <td>TECH</td>\n      <td>20131231</td>\n      <td>543886.20</td>\n      <td>2013</td>\n      <td>1231</td>\n      <td>Q4</td>\n      <td>2013Q4</td>\n    </tr>\n    <tr>\n      <th>375533</th>\n      <td>695255109</td>\n      <td>PACT</td>\n      <td>TECH</td>\n      <td>20140131</td>\n      <td>544646.88</td>\n      <td>2014</td>\n      <td>131</td>\n      <td>Q1</td>\n      <td>2014Q1</td>\n    </tr>\n    <tr>\n      <th>375534</th>\n      <td>695255109</td>\n      <td>PACT</td>\n      <td>TECH</td>\n      <td>20140228</td>\n      <td>547689.60</td>\n      <td>2014</td>\n      <td>228</td>\n      <td>Q1</td>\n      <td>2014Q1</td>\n    </tr>\n    <tr>\n      <th>375535</th>\n      <td>695255109</td>\n      <td>PACT</td>\n      <td>TECH</td>\n      <td>20140331</td>\n      <td>550732.32</td>\n      <td>2014</td>\n      <td>331</td>\n      <td>Q1</td>\n      <td>2014Q1</td>\n    </tr>\n  </tbody>\n</table>\n<p>375536 rows × 9 columns</p>\n</div>"
     },
     "execution_count": 169,
     "metadata": {},
     "output_type": "execute_result"
    }
   ],
   "source": [
    "market_cap_history = pd.read_csv('market-cap-history.csv')\n",
    "market_cap_history['Year'] = market_cap_history['MthCalDt'] // 10000\n",
    "market_cap_history['Month'] = market_cap_history['MthCalDt'].map(str)\n",
    "market_cap_history['Month'] = market_cap_history['Month'].str[4:8]\n",
    "market_cap_history['Month'] = market_cap_history['Month'].map(int)\n",
    "def assign_quarter(row):\n",
    "    if row['Month'] < 400:\n",
    "        return 'Q1'\n",
    "    elif row['Month'] < 700:\n",
    "        return 'Q2'\n",
    "    elif row['Month'] < 1000:\n",
    "        return 'Q3'\n",
    "    else:\n",
    "        return 'Q4'\n",
    "market_cap_history['Quarter'] = market_cap_history.apply(assign_quarter, axis=1)\n",
    "market_cap_history['Year'] = market_cap_history['Year'].map(str)\n",
    "market_cap_history['datafqtr'] = market_cap_history['Year'] + market_cap_history['Quarter']\n",
    "market_cap_history['MthCap'] = market_cap_history['MthCap'].str.replace(',', '')\n",
    "market_cap_history['MthCap'] = market_cap_history['MthCap'].map(float)\n",
    "market_cap_history"
   ],
   "metadata": {
    "collapsed": false,
    "pycharm": {
     "name": "#%%\n"
    }
   }
  },
  {
   "cell_type": "code",
   "execution_count": 170,
   "outputs": [
    {
     "data": {
      "text/plain": "            cusip datafqtr     QAvgMktCap\n0       000794107   1995Q1  115785.833333\n1       000794107   1995Q2  111033.916667\n2       000794107   1995Q3  135890.000000\n3       000794107   1995Q4  170517.520000\n4       000794107   1996Q1  233866.480000\n...           ...      ...            ...\n126802  Y93691106   2010Q3  507375.600000\n126803  Y93691106   2010Q4  620360.750000\n126804  Y93691106   2011Q1  816955.746667\n126805  Y93691106   2011Q2  889203.046667\n126806  Y93691106   2011Q3  925950.000000\n\n[126807 rows x 3 columns]",
      "text/html": "<div>\n<style scoped>\n    .dataframe tbody tr th:only-of-type {\n        vertical-align: middle;\n    }\n\n    .dataframe tbody tr th {\n        vertical-align: top;\n    }\n\n    .dataframe thead th {\n        text-align: right;\n    }\n</style>\n<table border=\"1\" class=\"dataframe\">\n  <thead>\n    <tr style=\"text-align: right;\">\n      <th></th>\n      <th>cusip</th>\n      <th>datafqtr</th>\n      <th>QAvgMktCap</th>\n    </tr>\n  </thead>\n  <tbody>\n    <tr>\n      <th>0</th>\n      <td>000794107</td>\n      <td>1995Q1</td>\n      <td>115785.833333</td>\n    </tr>\n    <tr>\n      <th>1</th>\n      <td>000794107</td>\n      <td>1995Q2</td>\n      <td>111033.916667</td>\n    </tr>\n    <tr>\n      <th>2</th>\n      <td>000794107</td>\n      <td>1995Q3</td>\n      <td>135890.000000</td>\n    </tr>\n    <tr>\n      <th>3</th>\n      <td>000794107</td>\n      <td>1995Q4</td>\n      <td>170517.520000</td>\n    </tr>\n    <tr>\n      <th>4</th>\n      <td>000794107</td>\n      <td>1996Q1</td>\n      <td>233866.480000</td>\n    </tr>\n    <tr>\n      <th>...</th>\n      <td>...</td>\n      <td>...</td>\n      <td>...</td>\n    </tr>\n    <tr>\n      <th>126802</th>\n      <td>Y93691106</td>\n      <td>2010Q3</td>\n      <td>507375.600000</td>\n    </tr>\n    <tr>\n      <th>126803</th>\n      <td>Y93691106</td>\n      <td>2010Q4</td>\n      <td>620360.750000</td>\n    </tr>\n    <tr>\n      <th>126804</th>\n      <td>Y93691106</td>\n      <td>2011Q1</td>\n      <td>816955.746667</td>\n    </tr>\n    <tr>\n      <th>126805</th>\n      <td>Y93691106</td>\n      <td>2011Q2</td>\n      <td>889203.046667</td>\n    </tr>\n    <tr>\n      <th>126806</th>\n      <td>Y93691106</td>\n      <td>2011Q3</td>\n      <td>925950.000000</td>\n    </tr>\n  </tbody>\n</table>\n<p>126807 rows × 3 columns</p>\n</div>"
     },
     "execution_count": 170,
     "metadata": {},
     "output_type": "execute_result"
    }
   ],
   "source": [
    "quarterly_avg_market_cap = market_cap_history.groupby(['HdrCUSIP9', 'datafqtr'], as_index=False)['MthCap'].mean()\n",
    "quarterly_avg_market_cap.rename(columns={'HdrCUSIP9': 'cusip', 'datafqtr': 'datafqtr', 'MthCap': 'QAvgMktCap'}, inplace=True)\n",
    "quarterly_avg_market_cap\n",
    "\n"
   ],
   "metadata": {
    "collapsed": false,
    "pycharm": {
     "name": "#%%\n"
    }
   }
  },
  {
   "cell_type": "code",
   "execution_count": 171,
   "outputs": [
    {
     "data": {
      "text/plain": "        gvkey  datadate  fyearq  fqtr indfmt consol popsrc datafmt     tic  \\\n0        1013  19970131    1997   1.0   INDL      C      D     STD  ADCT.1   \n1        1013  19970430    1997   2.0   INDL      C      D     STD  ADCT.1   \n2        1013  19970731    1997   3.0   INDL      C      D     STD  ADCT.1   \n3        1013  19971031    1997   4.0   INDL      C      D     STD  ADCT.1   \n4        1013  19980131    1998   1.0   INDL      C      D     STD  ADCT.1   \n...       ...       ...     ...   ...    ...    ...    ...     ...     ...   \n68080  339965  20211031    2021   3.0   INDL      C      D     STD    SNOW   \n68081  339965  20220131    2021   4.0   INDL      C      D     STD    SNOW   \n68082  339965  20220430    2022   1.0   INDL      C      D     STD    SNOW   \n68083  347085  20211130    2021   3.0   INDL      C      D     STD    KARO   \n68084  347085  20220228    2021   4.0   INDL      C      D     STD    KARO   \n\n           cusip  ... costat ggroup    gind gsector   gsubind  \\\n0      000886309  ...      I   4520  452010      45  45201020   \n1      000886309  ...      I   4520  452010      45  45201020   \n2      000886309  ...      I   4520  452010      45  45201020   \n3      000886309  ...      I   4520  452010      45  45201020   \n4      000886309  ...      I   4520  452010      45  45201020   \n...          ...  ...    ...    ...     ...     ...       ...   \n68080  833445109  ...      A   4510  451020      45  45102030   \n68081  833445109  ...      A   4510  451020      45  45102030   \n68082  833445109  ...      A   4510  451020      45  45102030   \n68083  Y4600W108  ...      A   4510  451030      45  45103010   \n68084  Y4600W108  ...      A   4510  451030      45  45103010   \n\n       RevenueGrowthRate  NetProfitMargin  gp_score    QAvgMktCap    PS_Ratio  \n0               0.579282         0.040483  0.619764  3.907296e+09   15.216691  \n1               0.446230         0.103371  0.549601  4.116000e+09   14.742173  \n2               0.349721         0.111680  0.461401  4.841210e+09   16.505325  \n3               0.314093         0.109869  0.423962  4.987080e+09   14.879611  \n4               0.115349         0.088720  0.204069  3.238898e+09   11.309159  \n...                  ...              ...       ...           ...         ...  \n68080           1.095180        -0.463029  0.632151  8.660496e+10  258.954371  \n68081           1.014932        -0.344351  0.670581  1.041936e+11  271.497215  \n68082           0.845108        -0.392532  0.452576  7.868745e+10  186.299365  \n68083          -0.176051         0.212845  0.036794  1.020867e+09   27.972028  \n68084           0.239886         0.134103  0.373989  1.124347e+09   21.266250  \n\n[68085 rows x 27 columns]",
      "text/html": "<div>\n<style scoped>\n    .dataframe tbody tr th:only-of-type {\n        vertical-align: middle;\n    }\n\n    .dataframe tbody tr th {\n        vertical-align: top;\n    }\n\n    .dataframe thead th {\n        text-align: right;\n    }\n</style>\n<table border=\"1\" class=\"dataframe\">\n  <thead>\n    <tr style=\"text-align: right;\">\n      <th></th>\n      <th>gvkey</th>\n      <th>datadate</th>\n      <th>fyearq</th>\n      <th>fqtr</th>\n      <th>indfmt</th>\n      <th>consol</th>\n      <th>popsrc</th>\n      <th>datafmt</th>\n      <th>tic</th>\n      <th>cusip</th>\n      <th>...</th>\n      <th>costat</th>\n      <th>ggroup</th>\n      <th>gind</th>\n      <th>gsector</th>\n      <th>gsubind</th>\n      <th>RevenueGrowthRate</th>\n      <th>NetProfitMargin</th>\n      <th>gp_score</th>\n      <th>QAvgMktCap</th>\n      <th>PS_Ratio</th>\n    </tr>\n  </thead>\n  <tbody>\n    <tr>\n      <th>0</th>\n      <td>1013</td>\n      <td>19970131</td>\n      <td>1997</td>\n      <td>1.0</td>\n      <td>INDL</td>\n      <td>C</td>\n      <td>D</td>\n      <td>STD</td>\n      <td>ADCT.1</td>\n      <td>000886309</td>\n      <td>...</td>\n      <td>I</td>\n      <td>4520</td>\n      <td>452010</td>\n      <td>45</td>\n      <td>45201020</td>\n      <td>0.579282</td>\n      <td>0.040483</td>\n      <td>0.619764</td>\n      <td>3.907296e+09</td>\n      <td>15.216691</td>\n    </tr>\n    <tr>\n      <th>1</th>\n      <td>1013</td>\n      <td>19970430</td>\n      <td>1997</td>\n      <td>2.0</td>\n      <td>INDL</td>\n      <td>C</td>\n      <td>D</td>\n      <td>STD</td>\n      <td>ADCT.1</td>\n      <td>000886309</td>\n      <td>...</td>\n      <td>I</td>\n      <td>4520</td>\n      <td>452010</td>\n      <td>45</td>\n      <td>45201020</td>\n      <td>0.446230</td>\n      <td>0.103371</td>\n      <td>0.549601</td>\n      <td>4.116000e+09</td>\n      <td>14.742173</td>\n    </tr>\n    <tr>\n      <th>2</th>\n      <td>1013</td>\n      <td>19970731</td>\n      <td>1997</td>\n      <td>3.0</td>\n      <td>INDL</td>\n      <td>C</td>\n      <td>D</td>\n      <td>STD</td>\n      <td>ADCT.1</td>\n      <td>000886309</td>\n      <td>...</td>\n      <td>I</td>\n      <td>4520</td>\n      <td>452010</td>\n      <td>45</td>\n      <td>45201020</td>\n      <td>0.349721</td>\n      <td>0.111680</td>\n      <td>0.461401</td>\n      <td>4.841210e+09</td>\n      <td>16.505325</td>\n    </tr>\n    <tr>\n      <th>3</th>\n      <td>1013</td>\n      <td>19971031</td>\n      <td>1997</td>\n      <td>4.0</td>\n      <td>INDL</td>\n      <td>C</td>\n      <td>D</td>\n      <td>STD</td>\n      <td>ADCT.1</td>\n      <td>000886309</td>\n      <td>...</td>\n      <td>I</td>\n      <td>4520</td>\n      <td>452010</td>\n      <td>45</td>\n      <td>45201020</td>\n      <td>0.314093</td>\n      <td>0.109869</td>\n      <td>0.423962</td>\n      <td>4.987080e+09</td>\n      <td>14.879611</td>\n    </tr>\n    <tr>\n      <th>4</th>\n      <td>1013</td>\n      <td>19980131</td>\n      <td>1998</td>\n      <td>1.0</td>\n      <td>INDL</td>\n      <td>C</td>\n      <td>D</td>\n      <td>STD</td>\n      <td>ADCT.1</td>\n      <td>000886309</td>\n      <td>...</td>\n      <td>I</td>\n      <td>4520</td>\n      <td>452010</td>\n      <td>45</td>\n      <td>45201020</td>\n      <td>0.115349</td>\n      <td>0.088720</td>\n      <td>0.204069</td>\n      <td>3.238898e+09</td>\n      <td>11.309159</td>\n    </tr>\n    <tr>\n      <th>...</th>\n      <td>...</td>\n      <td>...</td>\n      <td>...</td>\n      <td>...</td>\n      <td>...</td>\n      <td>...</td>\n      <td>...</td>\n      <td>...</td>\n      <td>...</td>\n      <td>...</td>\n      <td>...</td>\n      <td>...</td>\n      <td>...</td>\n      <td>...</td>\n      <td>...</td>\n      <td>...</td>\n      <td>...</td>\n      <td>...</td>\n      <td>...</td>\n      <td>...</td>\n      <td>...</td>\n    </tr>\n    <tr>\n      <th>68080</th>\n      <td>339965</td>\n      <td>20211031</td>\n      <td>2021</td>\n      <td>3.0</td>\n      <td>INDL</td>\n      <td>C</td>\n      <td>D</td>\n      <td>STD</td>\n      <td>SNOW</td>\n      <td>833445109</td>\n      <td>...</td>\n      <td>A</td>\n      <td>4510</td>\n      <td>451020</td>\n      <td>45</td>\n      <td>45102030</td>\n      <td>1.095180</td>\n      <td>-0.463029</td>\n      <td>0.632151</td>\n      <td>8.660496e+10</td>\n      <td>258.954371</td>\n    </tr>\n    <tr>\n      <th>68081</th>\n      <td>339965</td>\n      <td>20220131</td>\n      <td>2021</td>\n      <td>4.0</td>\n      <td>INDL</td>\n      <td>C</td>\n      <td>D</td>\n      <td>STD</td>\n      <td>SNOW</td>\n      <td>833445109</td>\n      <td>...</td>\n      <td>A</td>\n      <td>4510</td>\n      <td>451020</td>\n      <td>45</td>\n      <td>45102030</td>\n      <td>1.014932</td>\n      <td>-0.344351</td>\n      <td>0.670581</td>\n      <td>1.041936e+11</td>\n      <td>271.497215</td>\n    </tr>\n    <tr>\n      <th>68082</th>\n      <td>339965</td>\n      <td>20220430</td>\n      <td>2022</td>\n      <td>1.0</td>\n      <td>INDL</td>\n      <td>C</td>\n      <td>D</td>\n      <td>STD</td>\n      <td>SNOW</td>\n      <td>833445109</td>\n      <td>...</td>\n      <td>A</td>\n      <td>4510</td>\n      <td>451020</td>\n      <td>45</td>\n      <td>45102030</td>\n      <td>0.845108</td>\n      <td>-0.392532</td>\n      <td>0.452576</td>\n      <td>7.868745e+10</td>\n      <td>186.299365</td>\n    </tr>\n    <tr>\n      <th>68083</th>\n      <td>347085</td>\n      <td>20211130</td>\n      <td>2021</td>\n      <td>3.0</td>\n      <td>INDL</td>\n      <td>C</td>\n      <td>D</td>\n      <td>STD</td>\n      <td>KARO</td>\n      <td>Y4600W108</td>\n      <td>...</td>\n      <td>A</td>\n      <td>4510</td>\n      <td>451030</td>\n      <td>45</td>\n      <td>45103010</td>\n      <td>-0.176051</td>\n      <td>0.212845</td>\n      <td>0.036794</td>\n      <td>1.020867e+09</td>\n      <td>27.972028</td>\n    </tr>\n    <tr>\n      <th>68084</th>\n      <td>347085</td>\n      <td>20220228</td>\n      <td>2021</td>\n      <td>4.0</td>\n      <td>INDL</td>\n      <td>C</td>\n      <td>D</td>\n      <td>STD</td>\n      <td>KARO</td>\n      <td>Y4600W108</td>\n      <td>...</td>\n      <td>A</td>\n      <td>4510</td>\n      <td>451030</td>\n      <td>45</td>\n      <td>45103010</td>\n      <td>0.239886</td>\n      <td>0.134103</td>\n      <td>0.373989</td>\n      <td>1.124347e+09</td>\n      <td>21.266250</td>\n    </tr>\n  </tbody>\n</table>\n<p>68085 rows × 27 columns</p>\n</div>"
     },
     "execution_count": 171,
     "metadata": {},
     "output_type": "execute_result"
    }
   ],
   "source": [
    "merged_data = pd.merge(financial_history, quarterly_avg_market_cap, on=['cusip', 'datafqtr'])\n",
    "merged_data['QAvgMktCap'] = merged_data['QAvgMktCap'] * 1000\n",
    "merged_data['PS_Ratio'] = merged_data['QAvgMktCap']/merged_data['revtq']\n",
    "merged_data = merged_data.drop(merged_data[merged_data.PS_Ratio == float('inf')].index)\n",
    "merged_data = merged_data.drop(merged_data[merged_data.PS_Ratio == float('-inf')].index)\n",
    "merged_data"
   ],
   "metadata": {
    "collapsed": false,
    "pycharm": {
     "name": "#%%\n"
    }
   }
  },
  {
   "cell_type": "code",
   "execution_count": 158,
   "outputs": [
    {
     "data": {
      "text/plain": "datafqtr\n1996Q4    7.260000\n1997Q1    7.380984\n1997Q2    7.513692\n1997Q3    7.070462\n1997Q4    6.874545\n            ...   \n2021Q4    2.508636\n2022Q1    3.352344\n2022Q2    4.661846\n2022Q3    5.164030\n2022Q4    6.191622\nName: bbb_interest_rate, Length: 105, dtype: float64"
     },
     "execution_count": 158,
     "metadata": {},
     "output_type": "execute_result"
    }
   ],
   "source": [
    "credit_interest_rates = pd.read_csv('BAMLC0A4CBBBEY.csv')\n",
    "credit_interest_rates['DATE'] = credit_interest_rates['DATE'].map(str)\n",
    "credit_interest_rates['DATE'] = credit_interest_rates['DATE'].str.replace('-', '')\n",
    "credit_interest_rates['DATE'] = credit_interest_rates['DATE'].map(int)\n",
    "credit_interest_rates['YEAR'] = credit_interest_rates['DATE'] // 10000\n",
    "credit_interest_rates['Month'] = credit_interest_rates['DATE'].map(str)\n",
    "credit_interest_rates['Month'] = credit_interest_rates['Month'].str[4:8]\n",
    "credit_interest_rates['Month'] = credit_interest_rates['Month'].map(int)\n",
    "def assign_quarter(row):\n",
    "    if row['Month'] < 400:\n",
    "        return 'Q1'\n",
    "    elif row['Month'] < 700:\n",
    "        return 'Q2'\n",
    "    elif row['Month'] < 1000:\n",
    "        return 'Q3'\n",
    "    else:\n",
    "        return 'Q4'\n",
    "credit_interest_rates['Quarter'] = credit_interest_rates.apply(assign_quarter, axis=1)\n",
    "credit_interest_rates['YEAR'] = credit_interest_rates['YEAR'].map(str)\n",
    "credit_interest_rates['datafqtr'] = credit_interest_rates['YEAR'] + credit_interest_rates['Quarter']\n",
    "\n",
    "\n",
    "credit_interest_rates = credit_interest_rates.drop(credit_interest_rates[credit_interest_rates.BAMLC0A4CBBBEY == '.'].index)\n",
    "credit_interest_rates['bbb_interest_rate'] = credit_interest_rates['BAMLC0A4CBBBEY'].map(float)\n",
    "quarterly_interest_rates = credit_interest_rates.groupby('datafqtr')['bbb_interest_rate'].mean()\n",
    "quarterly_interest_rates\n",
    "\n"
   ],
   "metadata": {
    "collapsed": false,
    "pycharm": {
     "name": "#%%\n"
    }
   }
  },
  {
   "cell_type": "code",
   "execution_count": 172,
   "outputs": [
    {
     "data": {
      "text/plain": "      datafqtr  bbb_interest_rate     gvkey    datadate  fyearq  fqtr indfmt  \\\n0       1996Q4           7.260000    1072.0  19970331.0  1996.0   4.0   INDL   \n1       1996Q4           7.260000    1327.0  19970331.0  1996.0   4.0   INDL   \n2       1996Q4           7.260000    1562.0  19970430.0  1996.0   4.0   INDL   \n3       1996Q4           7.260000    1878.0  19970131.0  1996.0   4.0   INDL   \n4       1996Q4           7.260000    2411.0  19970331.0  1996.0   4.0   INDL   \n...        ...                ...       ...         ...     ...   ...    ...   \n68056   2022Q1           3.352344  298036.0  20220331.0  2022.0   1.0   INDL   \n68057   2022Q1           3.352344  315629.0  20220331.0  2022.0   1.0   INDL   \n68058   2022Q1           3.352344  317637.0  20220331.0  2022.0   1.0   INDL   \n68059   2022Q1           3.352344  325942.0  20220331.0  2022.0   1.0   INDL   \n68060   2022Q1           3.352344  339965.0  20220430.0  2022.0   1.0   INDL   \n\n      consol popsrc datafmt  ... costat  ggroup      gind gsector     gsubind  \\\n0          C      D     STD  ...      I  4520.0  452030.0    45.0  45203015.0   \n1          C      D     STD  ...      A  4530.0  453010.0    45.0  45301020.0   \n2          C      D     STD  ...      A  4510.0  451030.0    45.0  45103010.0   \n3          C      D     STD  ...      A  4510.0  451030.0    45.0  45103010.0   \n4          C      D     STD  ...      A  5010.0  501010.0    50.0  50101020.0   \n...      ...    ...     ...  ...    ...     ...       ...     ...         ...   \n68056      C      D     STD  ...      A  4510.0  451020.0    45.0  45102020.0   \n68057      C      D     STD  ...      A  4530.0  453010.0    45.0  45301020.0   \n68058      C      D     STD  ...      A  5020.0  502010.0    50.0  50201010.0   \n68059      C      D     STD  ...      A  5010.0  501010.0    50.0  50101020.0   \n68060      C      D     STD  ...      A  4510.0  451020.0    45.0  45102030.0   \n\n       RevenueGrowthRate  NetProfitMargin  gp_score    QAvgMktCap    PS_Ratio  \n0               0.026061         0.102069  0.128130  1.829667e+09    6.089065  \n1              -0.106983        -0.234811 -0.341794  7.466609e+07    3.280151  \n2               0.406869         0.077586  0.484455  1.042313e+08    4.157776  \n3              -0.087285         0.050750 -0.036535  1.180023e+09    9.992739  \n4              -0.018861         0.113512  0.094650  7.848167e+08    0.143687  \n...                  ...              ...       ...           ...         ...  \n68056           0.026044        -0.007429  0.018615  1.882744e+08    1.125256  \n68057           0.034518         0.182109  0.216627  1.604747e+08    0.683569  \n68058           0.138926         0.140515  0.279441  2.206991e+08    2.728925  \n68059           0.380074        -0.145005  0.235069  1.260113e+09   41.181519  \n68060           0.845108        -0.392532  0.452576  7.868745e+10  186.299365  \n\n[67782 rows x 28 columns]",
      "text/html": "<div>\n<style scoped>\n    .dataframe tbody tr th:only-of-type {\n        vertical-align: middle;\n    }\n\n    .dataframe tbody tr th {\n        vertical-align: top;\n    }\n\n    .dataframe thead th {\n        text-align: right;\n    }\n</style>\n<table border=\"1\" class=\"dataframe\">\n  <thead>\n    <tr style=\"text-align: right;\">\n      <th></th>\n      <th>datafqtr</th>\n      <th>bbb_interest_rate</th>\n      <th>gvkey</th>\n      <th>datadate</th>\n      <th>fyearq</th>\n      <th>fqtr</th>\n      <th>indfmt</th>\n      <th>consol</th>\n      <th>popsrc</th>\n      <th>datafmt</th>\n      <th>...</th>\n      <th>costat</th>\n      <th>ggroup</th>\n      <th>gind</th>\n      <th>gsector</th>\n      <th>gsubind</th>\n      <th>RevenueGrowthRate</th>\n      <th>NetProfitMargin</th>\n      <th>gp_score</th>\n      <th>QAvgMktCap</th>\n      <th>PS_Ratio</th>\n    </tr>\n  </thead>\n  <tbody>\n    <tr>\n      <th>0</th>\n      <td>1996Q4</td>\n      <td>7.260000</td>\n      <td>1072.0</td>\n      <td>19970331.0</td>\n      <td>1996.0</td>\n      <td>4.0</td>\n      <td>INDL</td>\n      <td>C</td>\n      <td>D</td>\n      <td>STD</td>\n      <td>...</td>\n      <td>I</td>\n      <td>4520.0</td>\n      <td>452030.0</td>\n      <td>45.0</td>\n      <td>45203015.0</td>\n      <td>0.026061</td>\n      <td>0.102069</td>\n      <td>0.128130</td>\n      <td>1.829667e+09</td>\n      <td>6.089065</td>\n    </tr>\n    <tr>\n      <th>1</th>\n      <td>1996Q4</td>\n      <td>7.260000</td>\n      <td>1327.0</td>\n      <td>19970331.0</td>\n      <td>1996.0</td>\n      <td>4.0</td>\n      <td>INDL</td>\n      <td>C</td>\n      <td>D</td>\n      <td>STD</td>\n      <td>...</td>\n      <td>A</td>\n      <td>4530.0</td>\n      <td>453010.0</td>\n      <td>45.0</td>\n      <td>45301020.0</td>\n      <td>-0.106983</td>\n      <td>-0.234811</td>\n      <td>-0.341794</td>\n      <td>7.466609e+07</td>\n      <td>3.280151</td>\n    </tr>\n    <tr>\n      <th>2</th>\n      <td>1996Q4</td>\n      <td>7.260000</td>\n      <td>1562.0</td>\n      <td>19970430.0</td>\n      <td>1996.0</td>\n      <td>4.0</td>\n      <td>INDL</td>\n      <td>C</td>\n      <td>D</td>\n      <td>STD</td>\n      <td>...</td>\n      <td>A</td>\n      <td>4510.0</td>\n      <td>451030.0</td>\n      <td>45.0</td>\n      <td>45103010.0</td>\n      <td>0.406869</td>\n      <td>0.077586</td>\n      <td>0.484455</td>\n      <td>1.042313e+08</td>\n      <td>4.157776</td>\n    </tr>\n    <tr>\n      <th>3</th>\n      <td>1996Q4</td>\n      <td>7.260000</td>\n      <td>1878.0</td>\n      <td>19970131.0</td>\n      <td>1996.0</td>\n      <td>4.0</td>\n      <td>INDL</td>\n      <td>C</td>\n      <td>D</td>\n      <td>STD</td>\n      <td>...</td>\n      <td>A</td>\n      <td>4510.0</td>\n      <td>451030.0</td>\n      <td>45.0</td>\n      <td>45103010.0</td>\n      <td>-0.087285</td>\n      <td>0.050750</td>\n      <td>-0.036535</td>\n      <td>1.180023e+09</td>\n      <td>9.992739</td>\n    </tr>\n    <tr>\n      <th>4</th>\n      <td>1996Q4</td>\n      <td>7.260000</td>\n      <td>2411.0</td>\n      <td>19970331.0</td>\n      <td>1996.0</td>\n      <td>4.0</td>\n      <td>INDL</td>\n      <td>C</td>\n      <td>D</td>\n      <td>STD</td>\n      <td>...</td>\n      <td>A</td>\n      <td>5010.0</td>\n      <td>501010.0</td>\n      <td>50.0</td>\n      <td>50101020.0</td>\n      <td>-0.018861</td>\n      <td>0.113512</td>\n      <td>0.094650</td>\n      <td>7.848167e+08</td>\n      <td>0.143687</td>\n    </tr>\n    <tr>\n      <th>...</th>\n      <td>...</td>\n      <td>...</td>\n      <td>...</td>\n      <td>...</td>\n      <td>...</td>\n      <td>...</td>\n      <td>...</td>\n      <td>...</td>\n      <td>...</td>\n      <td>...</td>\n      <td>...</td>\n      <td>...</td>\n      <td>...</td>\n      <td>...</td>\n      <td>...</td>\n      <td>...</td>\n      <td>...</td>\n      <td>...</td>\n      <td>...</td>\n      <td>...</td>\n      <td>...</td>\n    </tr>\n    <tr>\n      <th>68056</th>\n      <td>2022Q1</td>\n      <td>3.352344</td>\n      <td>298036.0</td>\n      <td>20220331.0</td>\n      <td>2022.0</td>\n      <td>1.0</td>\n      <td>INDL</td>\n      <td>C</td>\n      <td>D</td>\n      <td>STD</td>\n      <td>...</td>\n      <td>A</td>\n      <td>4510.0</td>\n      <td>451020.0</td>\n      <td>45.0</td>\n      <td>45102020.0</td>\n      <td>0.026044</td>\n      <td>-0.007429</td>\n      <td>0.018615</td>\n      <td>1.882744e+08</td>\n      <td>1.125256</td>\n    </tr>\n    <tr>\n      <th>68057</th>\n      <td>2022Q1</td>\n      <td>3.352344</td>\n      <td>315629.0</td>\n      <td>20220331.0</td>\n      <td>2022.0</td>\n      <td>1.0</td>\n      <td>INDL</td>\n      <td>C</td>\n      <td>D</td>\n      <td>STD</td>\n      <td>...</td>\n      <td>A</td>\n      <td>4530.0</td>\n      <td>453010.0</td>\n      <td>45.0</td>\n      <td>45301020.0</td>\n      <td>0.034518</td>\n      <td>0.182109</td>\n      <td>0.216627</td>\n      <td>1.604747e+08</td>\n      <td>0.683569</td>\n    </tr>\n    <tr>\n      <th>68058</th>\n      <td>2022Q1</td>\n      <td>3.352344</td>\n      <td>317637.0</td>\n      <td>20220331.0</td>\n      <td>2022.0</td>\n      <td>1.0</td>\n      <td>INDL</td>\n      <td>C</td>\n      <td>D</td>\n      <td>STD</td>\n      <td>...</td>\n      <td>A</td>\n      <td>5020.0</td>\n      <td>502010.0</td>\n      <td>50.0</td>\n      <td>50201010.0</td>\n      <td>0.138926</td>\n      <td>0.140515</td>\n      <td>0.279441</td>\n      <td>2.206991e+08</td>\n      <td>2.728925</td>\n    </tr>\n    <tr>\n      <th>68059</th>\n      <td>2022Q1</td>\n      <td>3.352344</td>\n      <td>325942.0</td>\n      <td>20220331.0</td>\n      <td>2022.0</td>\n      <td>1.0</td>\n      <td>INDL</td>\n      <td>C</td>\n      <td>D</td>\n      <td>STD</td>\n      <td>...</td>\n      <td>A</td>\n      <td>5010.0</td>\n      <td>501010.0</td>\n      <td>50.0</td>\n      <td>50101020.0</td>\n      <td>0.380074</td>\n      <td>-0.145005</td>\n      <td>0.235069</td>\n      <td>1.260113e+09</td>\n      <td>41.181519</td>\n    </tr>\n    <tr>\n      <th>68060</th>\n      <td>2022Q1</td>\n      <td>3.352344</td>\n      <td>339965.0</td>\n      <td>20220430.0</td>\n      <td>2022.0</td>\n      <td>1.0</td>\n      <td>INDL</td>\n      <td>C</td>\n      <td>D</td>\n      <td>STD</td>\n      <td>...</td>\n      <td>A</td>\n      <td>4510.0</td>\n      <td>451020.0</td>\n      <td>45.0</td>\n      <td>45102030.0</td>\n      <td>0.845108</td>\n      <td>-0.392532</td>\n      <td>0.452576</td>\n      <td>7.868745e+10</td>\n      <td>186.299365</td>\n    </tr>\n  </tbody>\n</table>\n<p>67782 rows × 28 columns</p>\n</div>"
     },
     "execution_count": 172,
     "metadata": {},
     "output_type": "execute_result"
    }
   ],
   "source": [
    "full_data = pd.merge(quarterly_interest_rates, merged_data, how='outer', on='datafqtr')\n",
    "full_data = full_data.dropna()\n",
    "full_data\n"
   ],
   "metadata": {
    "collapsed": false,
    "pycharm": {
     "name": "#%%\n"
    }
   }
  },
  {
   "cell_type": "code",
   "execution_count": 173,
   "outputs": [
    {
     "name": "stdout",
     "output_type": "stream",
     "text": [
      "Telecommunication Services\n",
      "+ 30% Revenue Growth\n",
      "count    1111.000000\n",
      "mean        6.180972\n",
      "std        11.905122\n",
      "min         0.001339\n",
      "25%         0.534047\n",
      "50%         3.030853\n",
      "75%         7.648617\n",
      "max       221.611773\n",
      "Name: PS_Ratio, dtype: float64\n",
      "+ 20% Revenue Growth\n",
      "count    574.000000\n",
      "mean       5.182150\n",
      "std        9.398549\n",
      "min        0.002735\n",
      "25%        0.638411\n",
      "50%        2.557709\n",
      "75%        6.929012\n",
      "max      138.756365\n",
      "Name: PS_Ratio, dtype: float64\n",
      "+ < 20% Revenue Growth\n",
      "count    5046.000000\n",
      "mean        4.167931\n",
      "std         7.427093\n",
      "min         0.001662\n",
      "25%         0.607001\n",
      "50%         2.273066\n",
      "75%         5.709976\n",
      "max       243.093799\n",
      "Name: PS_Ratio, dtype: float64\n"
     ]
    }
   ],
   "source": [
    "ts_group = full_data[(full_data['ggroup'] == 5010)]\n",
    "ts_group = ts_group[(ts_group['revtq'] >= 15000000)]\n",
    "\n",
    "high_growth = ts_group[(ts_group['RevenueGrowthRate'] >= 0.30)]\n",
    "mid_growth = ts_group[(ts_group['RevenueGrowthRate'] < 0.30) & (ts_group['RevenueGrowthRate'] >= 0.20)]\n",
    "low_growth = ts_group[(ts_group['RevenueGrowthRate'] < 0.20)]\n",
    "\n",
    "print('Telecommunication Services')\n",
    "print('+ 30% Revenue Growth')\n",
    "print(high_growth['PS_Ratio'].describe())\n",
    "print('+ 20% Revenue Growth')\n",
    "print(mid_growth['PS_Ratio'].describe())\n",
    "print('+ < 20% Revenue Growth')\n",
    "print(low_growth['PS_Ratio'].describe())\n",
    "\n",
    "\n"
   ],
   "metadata": {
    "collapsed": false,
    "pycharm": {
     "name": "#%%\n"
    }
   }
  },
  {
   "cell_type": "code",
   "execution_count": 179,
   "outputs": [
    {
     "name": "stdout",
     "output_type": "stream",
     "text": [
      "count    2250.000000\n",
      "mean        0.301321\n",
      "std         0.462811\n",
      "min        -3.516268\n",
      "25%         0.112477\n",
      "50%         0.292287\n",
      "75%         0.486491\n",
      "max         5.795328\n",
      "Name: gp_score, dtype: float64\n",
      "count    20895.000000\n",
      "mean         0.129066\n",
      "std          0.438115\n",
      "min         -3.942988\n",
      "25%         -0.028653\n",
      "50%          0.147862\n",
      "75%          0.295638\n",
      "max         10.382437\n",
      "Name: gp_score, dtype: float64\n"
     ]
    }
   ],
   "source": [
    "ss_group = full_data[(full_data['ggroup'] == 4510)]\n",
    "high_multiple = ss_group[(ss_group['PS_Ratio'] >= 30)]\n",
    "low_multiple = ss_group[(ss_group['PS_Ratio'] < 30)]\n",
    "high_growth = ss_group[(ss_group['RevenueGrowthRate'] >= 0.30)]\n",
    "high_ir_high_growth = high_growth[(high_growth['bbb_interest_rate'] >= 5)]\n",
    "low_ir_high_growth = high_growth[(high_growth['bbb_interest_rate'] <= 5)]\n",
    "print(high_multiple['gp_score'].describe())\n",
    "print(low_multiple['gp_score'].describe())\n",
    "# print(high_ir_high_growth['PS_Ratio'].describe())\n",
    "# print(low_ir_high_growth['PS_Ratio'].describe())\n",
    "# tracking_ps_ratio = high_growth.groupby(['datafqtr'])['PS_Ratio'].mean()\n",
    "# tracking_ps_ratio.plot(x=\"datafqtr\", y=[\"PS_Ratio\"])\n",
    "\n",
    "\n",
    "\n"
   ],
   "metadata": {
    "collapsed": false,
    "pycharm": {
     "name": "#%%\n"
    }
   }
  }
 ],
 "metadata": {
  "kernelspec": {
   "display_name": "Python 3",
   "language": "python",
   "name": "python3"
  },
  "language_info": {
   "codemirror_mode": {
    "name": "ipython",
    "version": 2
   },
   "file_extension": ".py",
   "mimetype": "text/x-python",
   "name": "python",
   "nbconvert_exporter": "python",
   "pygments_lexer": "ipython2",
   "version": "2.7.6"
  }
 },
 "nbformat": 4,
 "nbformat_minor": 0
}