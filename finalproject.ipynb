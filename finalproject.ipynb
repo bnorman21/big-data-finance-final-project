{
 "cells": [
  {
   "cell_type": "code",
   "execution_count": 164,
   "metadata": {
    "collapsed": true,
    "pycharm": {
     "name": "#%%\n"
    }
   },
   "outputs": [
    {
     "data": {
      "text/plain": "         gvkey  datadate  fyearq  fqtr indfmt consol popsrc datafmt     tic  \\\n0         1013  19950131    1995   1.0   INDL      C      D     STD  ADCT.1   \n1         1013  19950430    1995   2.0   INDL      C      D     STD  ADCT.1   \n2         1013  19950731    1995   3.0   INDL      C      D     STD  ADCT.1   \n3         1013  19951031    1995   4.0   INDL      C      D     STD  ADCT.1   \n4         1013  19960131    1996   1.0   INDL      C      D     STD  ADCT.1   \n...        ...       ...     ...   ...    ...    ...    ...     ...     ...   \n194111  347085  20210228    2020   4.0   INDL      C      D     STD    KARO   \n194112  347085  20210531    2021   1.0   INDL      C      D     STD    KARO   \n194113  347085  20210831    2021   2.0   INDL      C      D     STD    KARO   \n194114  347085  20211130    2021   3.0   INDL      C      D     STD    KARO   \n194115  347085  20220228    2021   4.0   INDL      C      D     STD    KARO   \n\n            cusip  ... datacqtr datafqtr epspxq         niq        revtq  \\\n0       000886309  ...   1994Q4   1995Q1   0.38  10466000.0  121774000.0   \n1       000886309  ...   1995Q1   1995Q2   0.18  10389000.0  140342000.0   \n2       000886309  ...   1995Q2   1995Q3   0.26  15674000.0  150454000.0   \n3       000886309  ...   1995Q3   1995Q4   0.30  18657000.0  173652000.0   \n4       000886309  ...   1995Q4   1996Q1   0.26  16313000.0  162591000.0   \n...           ...  ...      ...      ...    ...         ...          ...   \n194111  Y4600W108  ...   2021Q1   2020Q4   0.20   4228000.0   42641000.0   \n194112  Y4600W108  ...   2021Q2   2021Q1   0.25   6417000.0   45522000.0   \n194113  Y4600W108  ...   2021Q3   2021Q2   0.26   7888000.0   43099000.0   \n194114  Y4600W108  ...   2021Q4   2021Q3   0.25   7768000.0   36496000.0   \n194115  Y4600W108  ...   2022Q1   2021Q4   0.23   7090000.0   52870000.0   \n\n        costat  ggroup    gind  gsector   gsubind  \n0            I    4520  452010       45  45201020  \n1            I    4520  452010       45  45201020  \n2            I    4520  452010       45  45201020  \n3            I    4520  452010       45  45201020  \n4            I    4520  452010       45  45201020  \n...        ...     ...     ...      ...       ...  \n194111       A    4510  451030       45  45103010  \n194112       A    4510  451030       45  45103010  \n194113       A    4510  451030       45  45103010  \n194114       A    4510  451030       45  45103010  \n194115       A    4510  451030       45  45103010  \n\n[104629 rows x 22 columns]",
      "text/html": "<div>\n<style scoped>\n    .dataframe tbody tr th:only-of-type {\n        vertical-align: middle;\n    }\n\n    .dataframe tbody tr th {\n        vertical-align: top;\n    }\n\n    .dataframe thead th {\n        text-align: right;\n    }\n</style>\n<table border=\"1\" class=\"dataframe\">\n  <thead>\n    <tr style=\"text-align: right;\">\n      <th></th>\n      <th>gvkey</th>\n      <th>datadate</th>\n      <th>fyearq</th>\n      <th>fqtr</th>\n      <th>indfmt</th>\n      <th>consol</th>\n      <th>popsrc</th>\n      <th>datafmt</th>\n      <th>tic</th>\n      <th>cusip</th>\n      <th>...</th>\n      <th>datacqtr</th>\n      <th>datafqtr</th>\n      <th>epspxq</th>\n      <th>niq</th>\n      <th>revtq</th>\n      <th>costat</th>\n      <th>ggroup</th>\n      <th>gind</th>\n      <th>gsector</th>\n      <th>gsubind</th>\n    </tr>\n  </thead>\n  <tbody>\n    <tr>\n      <th>0</th>\n      <td>1013</td>\n      <td>19950131</td>\n      <td>1995</td>\n      <td>1.0</td>\n      <td>INDL</td>\n      <td>C</td>\n      <td>D</td>\n      <td>STD</td>\n      <td>ADCT.1</td>\n      <td>000886309</td>\n      <td>...</td>\n      <td>1994Q4</td>\n      <td>1995Q1</td>\n      <td>0.38</td>\n      <td>10466000.0</td>\n      <td>121774000.0</td>\n      <td>I</td>\n      <td>4520</td>\n      <td>452010</td>\n      <td>45</td>\n      <td>45201020</td>\n    </tr>\n    <tr>\n      <th>1</th>\n      <td>1013</td>\n      <td>19950430</td>\n      <td>1995</td>\n      <td>2.0</td>\n      <td>INDL</td>\n      <td>C</td>\n      <td>D</td>\n      <td>STD</td>\n      <td>ADCT.1</td>\n      <td>000886309</td>\n      <td>...</td>\n      <td>1995Q1</td>\n      <td>1995Q2</td>\n      <td>0.18</td>\n      <td>10389000.0</td>\n      <td>140342000.0</td>\n      <td>I</td>\n      <td>4520</td>\n      <td>452010</td>\n      <td>45</td>\n      <td>45201020</td>\n    </tr>\n    <tr>\n      <th>2</th>\n      <td>1013</td>\n      <td>19950731</td>\n      <td>1995</td>\n      <td>3.0</td>\n      <td>INDL</td>\n      <td>C</td>\n      <td>D</td>\n      <td>STD</td>\n      <td>ADCT.1</td>\n      <td>000886309</td>\n      <td>...</td>\n      <td>1995Q2</td>\n      <td>1995Q3</td>\n      <td>0.26</td>\n      <td>15674000.0</td>\n      <td>150454000.0</td>\n      <td>I</td>\n      <td>4520</td>\n      <td>452010</td>\n      <td>45</td>\n      <td>45201020</td>\n    </tr>\n    <tr>\n      <th>3</th>\n      <td>1013</td>\n      <td>19951031</td>\n      <td>1995</td>\n      <td>4.0</td>\n      <td>INDL</td>\n      <td>C</td>\n      <td>D</td>\n      <td>STD</td>\n      <td>ADCT.1</td>\n      <td>000886309</td>\n      <td>...</td>\n      <td>1995Q3</td>\n      <td>1995Q4</td>\n      <td>0.30</td>\n      <td>18657000.0</td>\n      <td>173652000.0</td>\n      <td>I</td>\n      <td>4520</td>\n      <td>452010</td>\n      <td>45</td>\n      <td>45201020</td>\n    </tr>\n    <tr>\n      <th>4</th>\n      <td>1013</td>\n      <td>19960131</td>\n      <td>1996</td>\n      <td>1.0</td>\n      <td>INDL</td>\n      <td>C</td>\n      <td>D</td>\n      <td>STD</td>\n      <td>ADCT.1</td>\n      <td>000886309</td>\n      <td>...</td>\n      <td>1995Q4</td>\n      <td>1996Q1</td>\n      <td>0.26</td>\n      <td>16313000.0</td>\n      <td>162591000.0</td>\n      <td>I</td>\n      <td>4520</td>\n      <td>452010</td>\n      <td>45</td>\n      <td>45201020</td>\n    </tr>\n    <tr>\n      <th>...</th>\n      <td>...</td>\n      <td>...</td>\n      <td>...</td>\n      <td>...</td>\n      <td>...</td>\n      <td>...</td>\n      <td>...</td>\n      <td>...</td>\n      <td>...</td>\n      <td>...</td>\n      <td>...</td>\n      <td>...</td>\n      <td>...</td>\n      <td>...</td>\n      <td>...</td>\n      <td>...</td>\n      <td>...</td>\n      <td>...</td>\n      <td>...</td>\n      <td>...</td>\n      <td>...</td>\n    </tr>\n    <tr>\n      <th>194111</th>\n      <td>347085</td>\n      <td>20210228</td>\n      <td>2020</td>\n      <td>4.0</td>\n      <td>INDL</td>\n      <td>C</td>\n      <td>D</td>\n      <td>STD</td>\n      <td>KARO</td>\n      <td>Y4600W108</td>\n      <td>...</td>\n      <td>2021Q1</td>\n      <td>2020Q4</td>\n      <td>0.20</td>\n      <td>4228000.0</td>\n      <td>42641000.0</td>\n      <td>A</td>\n      <td>4510</td>\n      <td>451030</td>\n      <td>45</td>\n      <td>45103010</td>\n    </tr>\n    <tr>\n      <th>194112</th>\n      <td>347085</td>\n      <td>20210531</td>\n      <td>2021</td>\n      <td>1.0</td>\n      <td>INDL</td>\n      <td>C</td>\n      <td>D</td>\n      <td>STD</td>\n      <td>KARO</td>\n      <td>Y4600W108</td>\n      <td>...</td>\n      <td>2021Q2</td>\n      <td>2021Q1</td>\n      <td>0.25</td>\n      <td>6417000.0</td>\n      <td>45522000.0</td>\n      <td>A</td>\n      <td>4510</td>\n      <td>451030</td>\n      <td>45</td>\n      <td>45103010</td>\n    </tr>\n    <tr>\n      <th>194113</th>\n      <td>347085</td>\n      <td>20210831</td>\n      <td>2021</td>\n      <td>2.0</td>\n      <td>INDL</td>\n      <td>C</td>\n      <td>D</td>\n      <td>STD</td>\n      <td>KARO</td>\n      <td>Y4600W108</td>\n      <td>...</td>\n      <td>2021Q3</td>\n      <td>2021Q2</td>\n      <td>0.26</td>\n      <td>7888000.0</td>\n      <td>43099000.0</td>\n      <td>A</td>\n      <td>4510</td>\n      <td>451030</td>\n      <td>45</td>\n      <td>45103010</td>\n    </tr>\n    <tr>\n      <th>194114</th>\n      <td>347085</td>\n      <td>20211130</td>\n      <td>2021</td>\n      <td>3.0</td>\n      <td>INDL</td>\n      <td>C</td>\n      <td>D</td>\n      <td>STD</td>\n      <td>KARO</td>\n      <td>Y4600W108</td>\n      <td>...</td>\n      <td>2021Q4</td>\n      <td>2021Q3</td>\n      <td>0.25</td>\n      <td>7768000.0</td>\n      <td>36496000.0</td>\n      <td>A</td>\n      <td>4510</td>\n      <td>451030</td>\n      <td>45</td>\n      <td>45103010</td>\n    </tr>\n    <tr>\n      <th>194115</th>\n      <td>347085</td>\n      <td>20220228</td>\n      <td>2021</td>\n      <td>4.0</td>\n      <td>INDL</td>\n      <td>C</td>\n      <td>D</td>\n      <td>STD</td>\n      <td>KARO</td>\n      <td>Y4600W108</td>\n      <td>...</td>\n      <td>2022Q1</td>\n      <td>2021Q4</td>\n      <td>0.23</td>\n      <td>7090000.0</td>\n      <td>52870000.0</td>\n      <td>A</td>\n      <td>4510</td>\n      <td>451030</td>\n      <td>45</td>\n      <td>45103010</td>\n    </tr>\n  </tbody>\n</table>\n<p>104629 rows × 22 columns</p>\n</div>"
     },
     "execution_count": 164,
     "metadata": {},
     "output_type": "execute_result"
    }
   ],
   "source": [
    "import pandas as pd\n",
    "financial_history = pd.read_csv('financial_results_3.csv')\n",
    "financial_history['revtq'] = financial_history['revtq'] * 1000000\n",
    "financial_history['niq'] = financial_history['niq'] * 1000000\n",
    "financial_history = financial_history[(financial_history['revtq'] >= 15000000)]\n",
    "financial_history\n"
   ]
  },
  {
   "cell_type": "code",
   "execution_count": 183,
   "outputs": [
    {
     "data": {
      "text/plain": "         gvkey  datadate  fyearq  fqtr indfmt consol popsrc datafmt     tic  \\\n12        1013  19980131    1998   1.0   INDL      C      D     STD  ADCT.1   \n13        1013  19980430    1998   2.0   INDL      C      D     STD  ADCT.1   \n14        1013  19980731    1998   3.0   INDL      C      D     STD  ADCT.1   \n15        1013  19981031    1998   4.0   INDL      C      D     STD  ADCT.1   \n16        1013  19990131    1999   1.0   INDL      C      D     STD  ADCT.1   \n...        ...       ...     ...   ...    ...    ...    ...     ...     ...   \n194084  339965  20210731    2021   2.0   INDL      C      D     STD    SNOW   \n194085  339965  20211031    2021   3.0   INDL      C      D     STD    SNOW   \n194086  339965  20220131    2021   4.0   INDL      C      D     STD    SNOW   \n194087  339965  20220430    2022   1.0   INDL      C      D     STD    SNOW   \n194088  339965  20220731    2022   2.0   INDL      C      D     STD    SNOW   \n\n            cusip  ...        revtq costat ggroup    gind  gsector   gsubind  \\\n12      000886309  ...  286396000.0      I   4520  452010       45  45201020   \n13      000886309  ...  334635000.0      I   4520  452010       45  45201020   \n14      000886309  ...  362496000.0      I   4520  452010       45  45201020   \n15      000886309  ...  396151000.0      I   4520  452010       45  45201020   \n16      000886309  ...  404294000.0      I   4520  452010       45  45201020   \n...           ...  ...          ...    ...    ...     ...      ...       ...   \n194084  833445109  ...  272198000.0      A   4510  451020       45  45102030   \n194085  833445109  ...  334441000.0      A   4510  451020       45  45102030   \n194086  833445109  ...  383774000.0      A   4510  451020       45  45102030   \n194087  833445109  ...  422371000.0      A   4510  451020       45  45102030   \n194088  833445109  ...  497248000.0      A   4510  451020       45  45102030   \n\n        RevenueGrowthRate NetProfitMargin  gp_score  forward_c_qtr  \n12               0.115349        0.088720  0.204069         1998Q1  \n13               0.198554        0.102613  0.301167         1998Q2  \n14               0.235872        0.112021  0.347892         1998Q3  \n15               0.181969        0.117059  0.299028         1998Q4  \n16               0.411661       -0.023948  0.387713         1999Q1  \n...                   ...             ...       ...            ...  \n194084           1.044373       -0.696989  0.347384         2021Q3  \n194085           1.095180       -0.463029  0.632151         2021Q4  \n194086           1.014932       -0.344351  0.670581         2022Q1  \n194087           0.845108       -0.392532  0.452576         2022Q2  \n194088           0.826788       -0.448078  0.378710         2022Q3  \n\n[68858 rows x 26 columns]",
      "text/html": "<div>\n<style scoped>\n    .dataframe tbody tr th:only-of-type {\n        vertical-align: middle;\n    }\n\n    .dataframe tbody tr th {\n        vertical-align: top;\n    }\n\n    .dataframe thead th {\n        text-align: right;\n    }\n</style>\n<table border=\"1\" class=\"dataframe\">\n  <thead>\n    <tr style=\"text-align: right;\">\n      <th></th>\n      <th>gvkey</th>\n      <th>datadate</th>\n      <th>fyearq</th>\n      <th>fqtr</th>\n      <th>indfmt</th>\n      <th>consol</th>\n      <th>popsrc</th>\n      <th>datafmt</th>\n      <th>tic</th>\n      <th>cusip</th>\n      <th>...</th>\n      <th>revtq</th>\n      <th>costat</th>\n      <th>ggroup</th>\n      <th>gind</th>\n      <th>gsector</th>\n      <th>gsubind</th>\n      <th>RevenueGrowthRate</th>\n      <th>NetProfitMargin</th>\n      <th>gp_score</th>\n      <th>forward_c_qtr</th>\n    </tr>\n  </thead>\n  <tbody>\n    <tr>\n      <th>12</th>\n      <td>1013</td>\n      <td>19980131</td>\n      <td>1998</td>\n      <td>1.0</td>\n      <td>INDL</td>\n      <td>C</td>\n      <td>D</td>\n      <td>STD</td>\n      <td>ADCT.1</td>\n      <td>000886309</td>\n      <td>...</td>\n      <td>286396000.0</td>\n      <td>I</td>\n      <td>4520</td>\n      <td>452010</td>\n      <td>45</td>\n      <td>45201020</td>\n      <td>0.115349</td>\n      <td>0.088720</td>\n      <td>0.204069</td>\n      <td>1998Q1</td>\n    </tr>\n    <tr>\n      <th>13</th>\n      <td>1013</td>\n      <td>19980430</td>\n      <td>1998</td>\n      <td>2.0</td>\n      <td>INDL</td>\n      <td>C</td>\n      <td>D</td>\n      <td>STD</td>\n      <td>ADCT.1</td>\n      <td>000886309</td>\n      <td>...</td>\n      <td>334635000.0</td>\n      <td>I</td>\n      <td>4520</td>\n      <td>452010</td>\n      <td>45</td>\n      <td>45201020</td>\n      <td>0.198554</td>\n      <td>0.102613</td>\n      <td>0.301167</td>\n      <td>1998Q2</td>\n    </tr>\n    <tr>\n      <th>14</th>\n      <td>1013</td>\n      <td>19980731</td>\n      <td>1998</td>\n      <td>3.0</td>\n      <td>INDL</td>\n      <td>C</td>\n      <td>D</td>\n      <td>STD</td>\n      <td>ADCT.1</td>\n      <td>000886309</td>\n      <td>...</td>\n      <td>362496000.0</td>\n      <td>I</td>\n      <td>4520</td>\n      <td>452010</td>\n      <td>45</td>\n      <td>45201020</td>\n      <td>0.235872</td>\n      <td>0.112021</td>\n      <td>0.347892</td>\n      <td>1998Q3</td>\n    </tr>\n    <tr>\n      <th>15</th>\n      <td>1013</td>\n      <td>19981031</td>\n      <td>1998</td>\n      <td>4.0</td>\n      <td>INDL</td>\n      <td>C</td>\n      <td>D</td>\n      <td>STD</td>\n      <td>ADCT.1</td>\n      <td>000886309</td>\n      <td>...</td>\n      <td>396151000.0</td>\n      <td>I</td>\n      <td>4520</td>\n      <td>452010</td>\n      <td>45</td>\n      <td>45201020</td>\n      <td>0.181969</td>\n      <td>0.117059</td>\n      <td>0.299028</td>\n      <td>1998Q4</td>\n    </tr>\n    <tr>\n      <th>16</th>\n      <td>1013</td>\n      <td>19990131</td>\n      <td>1999</td>\n      <td>1.0</td>\n      <td>INDL</td>\n      <td>C</td>\n      <td>D</td>\n      <td>STD</td>\n      <td>ADCT.1</td>\n      <td>000886309</td>\n      <td>...</td>\n      <td>404294000.0</td>\n      <td>I</td>\n      <td>4520</td>\n      <td>452010</td>\n      <td>45</td>\n      <td>45201020</td>\n      <td>0.411661</td>\n      <td>-0.023948</td>\n      <td>0.387713</td>\n      <td>1999Q1</td>\n    </tr>\n    <tr>\n      <th>...</th>\n      <td>...</td>\n      <td>...</td>\n      <td>...</td>\n      <td>...</td>\n      <td>...</td>\n      <td>...</td>\n      <td>...</td>\n      <td>...</td>\n      <td>...</td>\n      <td>...</td>\n      <td>...</td>\n      <td>...</td>\n      <td>...</td>\n      <td>...</td>\n      <td>...</td>\n      <td>...</td>\n      <td>...</td>\n      <td>...</td>\n      <td>...</td>\n      <td>...</td>\n      <td>...</td>\n    </tr>\n    <tr>\n      <th>194084</th>\n      <td>339965</td>\n      <td>20210731</td>\n      <td>2021</td>\n      <td>2.0</td>\n      <td>INDL</td>\n      <td>C</td>\n      <td>D</td>\n      <td>STD</td>\n      <td>SNOW</td>\n      <td>833445109</td>\n      <td>...</td>\n      <td>272198000.0</td>\n      <td>A</td>\n      <td>4510</td>\n      <td>451020</td>\n      <td>45</td>\n      <td>45102030</td>\n      <td>1.044373</td>\n      <td>-0.696989</td>\n      <td>0.347384</td>\n      <td>2021Q3</td>\n    </tr>\n    <tr>\n      <th>194085</th>\n      <td>339965</td>\n      <td>20211031</td>\n      <td>2021</td>\n      <td>3.0</td>\n      <td>INDL</td>\n      <td>C</td>\n      <td>D</td>\n      <td>STD</td>\n      <td>SNOW</td>\n      <td>833445109</td>\n      <td>...</td>\n      <td>334441000.0</td>\n      <td>A</td>\n      <td>4510</td>\n      <td>451020</td>\n      <td>45</td>\n      <td>45102030</td>\n      <td>1.095180</td>\n      <td>-0.463029</td>\n      <td>0.632151</td>\n      <td>2021Q4</td>\n    </tr>\n    <tr>\n      <th>194086</th>\n      <td>339965</td>\n      <td>20220131</td>\n      <td>2021</td>\n      <td>4.0</td>\n      <td>INDL</td>\n      <td>C</td>\n      <td>D</td>\n      <td>STD</td>\n      <td>SNOW</td>\n      <td>833445109</td>\n      <td>...</td>\n      <td>383774000.0</td>\n      <td>A</td>\n      <td>4510</td>\n      <td>451020</td>\n      <td>45</td>\n      <td>45102030</td>\n      <td>1.014932</td>\n      <td>-0.344351</td>\n      <td>0.670581</td>\n      <td>2022Q1</td>\n    </tr>\n    <tr>\n      <th>194087</th>\n      <td>339965</td>\n      <td>20220430</td>\n      <td>2022</td>\n      <td>1.0</td>\n      <td>INDL</td>\n      <td>C</td>\n      <td>D</td>\n      <td>STD</td>\n      <td>SNOW</td>\n      <td>833445109</td>\n      <td>...</td>\n      <td>422371000.0</td>\n      <td>A</td>\n      <td>4510</td>\n      <td>451020</td>\n      <td>45</td>\n      <td>45102030</td>\n      <td>0.845108</td>\n      <td>-0.392532</td>\n      <td>0.452576</td>\n      <td>2022Q2</td>\n    </tr>\n    <tr>\n      <th>194088</th>\n      <td>339965</td>\n      <td>20220731</td>\n      <td>2022</td>\n      <td>2.0</td>\n      <td>INDL</td>\n      <td>C</td>\n      <td>D</td>\n      <td>STD</td>\n      <td>SNOW</td>\n      <td>833445109</td>\n      <td>...</td>\n      <td>497248000.0</td>\n      <td>A</td>\n      <td>4510</td>\n      <td>451020</td>\n      <td>45</td>\n      <td>45102030</td>\n      <td>0.826788</td>\n      <td>-0.448078</td>\n      <td>0.378710</td>\n      <td>2022Q3</td>\n    </tr>\n  </tbody>\n</table>\n<p>68858 rows × 26 columns</p>\n</div>"
     },
     "execution_count": 183,
     "metadata": {},
     "output_type": "execute_result"
    }
   ],
   "source": [
    "# financial_history['RevenueGrowthRate'] = financial_history['revtq'].pct_change(periods=4)\n",
    "# sort values by id and quarter\n",
    "# shift by negative 4\n",
    "# check borders (make sure you are heetoi\n",
    "import numpy as np\n",
    "from scipy import stats\n",
    "financial_history['RevenueGrowthRate'] = financial_history.groupby(['cusip'])['revtq'].pct_change(periods=4)\n",
    "financial_history = financial_history.dropna()\n",
    "financial_history = financial_history.drop(financial_history[financial_history.RevenueGrowthRate == float('inf')].index)\n",
    "financial_history = financial_history.drop(financial_history[financial_history.RevenueGrowthRate == float('-inf')].index)\n",
    "financial_history['NetProfitMargin'] = financial_history['niq']/financial_history['revtq']\n",
    "financial_history = financial_history.drop(financial_history[financial_history.NetProfitMargin == float('inf')].index)\n",
    "financial_history = financial_history.dropna()\n",
    "financial_history['gp_score'] = financial_history['NetProfitMargin'] + financial_history['RevenueGrowthRate']\n",
    "def create_forward_quarter(row):\n",
    "    cq = row['datacqtr']\n",
    "    year = cq[0:4]\n",
    "    quarter = cq[4:]\n",
    "    if quarter == 'Q1':\n",
    "        return year + 'Q2'\n",
    "    elif quarter == 'Q2':\n",
    "        return year + 'Q3'\n",
    "    elif quarter == 'Q3':\n",
    "        return year + 'Q4'\n",
    "    elif quarter == 'Q4':\n",
    "        year = str(int(year) + 1)\n",
    "        return year + 'Q1'\n",
    "financial_history['forward_c_qtr'] = financial_history.apply(create_forward_quarter, axis=1)\n",
    "financial_history"
   ],
   "metadata": {
    "collapsed": false,
    "pycharm": {
     "name": "#%%\n"
    }
   }
  },
  {
   "cell_type": "code",
   "execution_count": 181,
   "outputs": [
    {
     "data": {
      "text/plain": "        HdrCUSIP9 Ticker ICBIndustry  MthCalDt     MthCap  Year  Month  \\\n0       233269109   DPAC     NOAVAIL  19950131   32899.50  1995    131   \n1       233269109   DPAC     NOAVAIL  19950228   31994.38  1995    228   \n2       233269109   DPAC     NOAVAIL  19950331   31537.31  1995    331   \n3       233269109   DPAC     NOAVAIL  19950428   29252.00  1995    428   \n4       233269109   DPAC     NOAVAIL  19950531   29270.00  1995    531   \n...           ...    ...         ...       ...        ...   ...    ...   \n375531  695255109   PACT        TECH  20131129  535518.72  2013   1129   \n375532  695255109   PACT        TECH  20131231  543886.20  2013   1231   \n375533  695255109   PACT        TECH  20140131  544646.88  2014    131   \n375534  695255109   PACT        TECH  20140228  547689.60  2014    228   \n375535  695255109   PACT        TECH  20140331  550732.32  2014    331   \n\n       Quarter forward_c_qtr  \n0           Q1        1995Q1  \n1           Q1        1995Q1  \n2           Q1        1995Q1  \n3           Q2        1995Q2  \n4           Q2        1995Q2  \n...        ...           ...  \n375531      Q4        2013Q4  \n375532      Q4        2013Q4  \n375533      Q1        2014Q1  \n375534      Q1        2014Q1  \n375535      Q1        2014Q1  \n\n[375536 rows x 9 columns]",
      "text/html": "<div>\n<style scoped>\n    .dataframe tbody tr th:only-of-type {\n        vertical-align: middle;\n    }\n\n    .dataframe tbody tr th {\n        vertical-align: top;\n    }\n\n    .dataframe thead th {\n        text-align: right;\n    }\n</style>\n<table border=\"1\" class=\"dataframe\">\n  <thead>\n    <tr style=\"text-align: right;\">\n      <th></th>\n      <th>HdrCUSIP9</th>\n      <th>Ticker</th>\n      <th>ICBIndustry</th>\n      <th>MthCalDt</th>\n      <th>MthCap</th>\n      <th>Year</th>\n      <th>Month</th>\n      <th>Quarter</th>\n      <th>forward_c_qtr</th>\n    </tr>\n  </thead>\n  <tbody>\n    <tr>\n      <th>0</th>\n      <td>233269109</td>\n      <td>DPAC</td>\n      <td>NOAVAIL</td>\n      <td>19950131</td>\n      <td>32899.50</td>\n      <td>1995</td>\n      <td>131</td>\n      <td>Q1</td>\n      <td>1995Q1</td>\n    </tr>\n    <tr>\n      <th>1</th>\n      <td>233269109</td>\n      <td>DPAC</td>\n      <td>NOAVAIL</td>\n      <td>19950228</td>\n      <td>31994.38</td>\n      <td>1995</td>\n      <td>228</td>\n      <td>Q1</td>\n      <td>1995Q1</td>\n    </tr>\n    <tr>\n      <th>2</th>\n      <td>233269109</td>\n      <td>DPAC</td>\n      <td>NOAVAIL</td>\n      <td>19950331</td>\n      <td>31537.31</td>\n      <td>1995</td>\n      <td>331</td>\n      <td>Q1</td>\n      <td>1995Q1</td>\n    </tr>\n    <tr>\n      <th>3</th>\n      <td>233269109</td>\n      <td>DPAC</td>\n      <td>NOAVAIL</td>\n      <td>19950428</td>\n      <td>29252.00</td>\n      <td>1995</td>\n      <td>428</td>\n      <td>Q2</td>\n      <td>1995Q2</td>\n    </tr>\n    <tr>\n      <th>4</th>\n      <td>233269109</td>\n      <td>DPAC</td>\n      <td>NOAVAIL</td>\n      <td>19950531</td>\n      <td>29270.00</td>\n      <td>1995</td>\n      <td>531</td>\n      <td>Q2</td>\n      <td>1995Q2</td>\n    </tr>\n    <tr>\n      <th>...</th>\n      <td>...</td>\n      <td>...</td>\n      <td>...</td>\n      <td>...</td>\n      <td>...</td>\n      <td>...</td>\n      <td>...</td>\n      <td>...</td>\n      <td>...</td>\n    </tr>\n    <tr>\n      <th>375531</th>\n      <td>695255109</td>\n      <td>PACT</td>\n      <td>TECH</td>\n      <td>20131129</td>\n      <td>535518.72</td>\n      <td>2013</td>\n      <td>1129</td>\n      <td>Q4</td>\n      <td>2013Q4</td>\n    </tr>\n    <tr>\n      <th>375532</th>\n      <td>695255109</td>\n      <td>PACT</td>\n      <td>TECH</td>\n      <td>20131231</td>\n      <td>543886.20</td>\n      <td>2013</td>\n      <td>1231</td>\n      <td>Q4</td>\n      <td>2013Q4</td>\n    </tr>\n    <tr>\n      <th>375533</th>\n      <td>695255109</td>\n      <td>PACT</td>\n      <td>TECH</td>\n      <td>20140131</td>\n      <td>544646.88</td>\n      <td>2014</td>\n      <td>131</td>\n      <td>Q1</td>\n      <td>2014Q1</td>\n    </tr>\n    <tr>\n      <th>375534</th>\n      <td>695255109</td>\n      <td>PACT</td>\n      <td>TECH</td>\n      <td>20140228</td>\n      <td>547689.60</td>\n      <td>2014</td>\n      <td>228</td>\n      <td>Q1</td>\n      <td>2014Q1</td>\n    </tr>\n    <tr>\n      <th>375535</th>\n      <td>695255109</td>\n      <td>PACT</td>\n      <td>TECH</td>\n      <td>20140331</td>\n      <td>550732.32</td>\n      <td>2014</td>\n      <td>331</td>\n      <td>Q1</td>\n      <td>2014Q1</td>\n    </tr>\n  </tbody>\n</table>\n<p>375536 rows × 9 columns</p>\n</div>"
     },
     "execution_count": 181,
     "metadata": {},
     "output_type": "execute_result"
    }
   ],
   "source": [
    "market_cap_history = pd.read_csv('market-cap-history.csv')\n",
    "market_cap_history['Year'] = market_cap_history['MthCalDt'] // 10000\n",
    "market_cap_history['Month'] = market_cap_history['MthCalDt'].map(str)\n",
    "market_cap_history['Month'] = market_cap_history['Month'].str[4:8]\n",
    "market_cap_history['Month'] = market_cap_history['Month'].map(int)\n",
    "def assign_quarter(row):\n",
    "    if row['Month'] < 400:\n",
    "        return 'Q1'\n",
    "    elif row['Month'] < 700:\n",
    "        return 'Q2'\n",
    "    elif row['Month'] < 1000:\n",
    "        return 'Q3'\n",
    "    else:\n",
    "        return 'Q4'\n",
    "market_cap_history['Quarter'] = market_cap_history.apply(assign_quarter, axis=1)\n",
    "market_cap_history['Year'] = market_cap_history['Year'].map(str)\n",
    "market_cap_history['forward_c_qtr'] = market_cap_history['Year'] + market_cap_history['Quarter']\n",
    "market_cap_history['MthCap'] = market_cap_history['MthCap'].str.replace(',', '')\n",
    "market_cap_history['MthCap'] = market_cap_history['MthCap'].map(float)\n",
    "market_cap_history"
   ],
   "metadata": {
    "collapsed": false,
    "pycharm": {
     "name": "#%%\n"
    }
   }
  },
  {
   "cell_type": "code",
   "execution_count": 184,
   "outputs": [
    {
     "data": {
      "text/plain": "            cusip forward_c_qtr     QAvgMktCap\n0       000794107        1995Q1  115785.833333\n1       000794107        1995Q2  111033.916667\n2       000794107        1995Q3  135890.000000\n3       000794107        1995Q4  170517.520000\n4       000794107        1996Q1  233866.480000\n...           ...           ...            ...\n126802  Y93691106        2010Q3  507375.600000\n126803  Y93691106        2010Q4  620360.750000\n126804  Y93691106        2011Q1  816955.746667\n126805  Y93691106        2011Q2  889203.046667\n126806  Y93691106        2011Q3  925950.000000\n\n[126807 rows x 3 columns]",
      "text/html": "<div>\n<style scoped>\n    .dataframe tbody tr th:only-of-type {\n        vertical-align: middle;\n    }\n\n    .dataframe tbody tr th {\n        vertical-align: top;\n    }\n\n    .dataframe thead th {\n        text-align: right;\n    }\n</style>\n<table border=\"1\" class=\"dataframe\">\n  <thead>\n    <tr style=\"text-align: right;\">\n      <th></th>\n      <th>cusip</th>\n      <th>forward_c_qtr</th>\n      <th>QAvgMktCap</th>\n    </tr>\n  </thead>\n  <tbody>\n    <tr>\n      <th>0</th>\n      <td>000794107</td>\n      <td>1995Q1</td>\n      <td>115785.833333</td>\n    </tr>\n    <tr>\n      <th>1</th>\n      <td>000794107</td>\n      <td>1995Q2</td>\n      <td>111033.916667</td>\n    </tr>\n    <tr>\n      <th>2</th>\n      <td>000794107</td>\n      <td>1995Q3</td>\n      <td>135890.000000</td>\n    </tr>\n    <tr>\n      <th>3</th>\n      <td>000794107</td>\n      <td>1995Q4</td>\n      <td>170517.520000</td>\n    </tr>\n    <tr>\n      <th>4</th>\n      <td>000794107</td>\n      <td>1996Q1</td>\n      <td>233866.480000</td>\n    </tr>\n    <tr>\n      <th>...</th>\n      <td>...</td>\n      <td>...</td>\n      <td>...</td>\n    </tr>\n    <tr>\n      <th>126802</th>\n      <td>Y93691106</td>\n      <td>2010Q3</td>\n      <td>507375.600000</td>\n    </tr>\n    <tr>\n      <th>126803</th>\n      <td>Y93691106</td>\n      <td>2010Q4</td>\n      <td>620360.750000</td>\n    </tr>\n    <tr>\n      <th>126804</th>\n      <td>Y93691106</td>\n      <td>2011Q1</td>\n      <td>816955.746667</td>\n    </tr>\n    <tr>\n      <th>126805</th>\n      <td>Y93691106</td>\n      <td>2011Q2</td>\n      <td>889203.046667</td>\n    </tr>\n    <tr>\n      <th>126806</th>\n      <td>Y93691106</td>\n      <td>2011Q3</td>\n      <td>925950.000000</td>\n    </tr>\n  </tbody>\n</table>\n<p>126807 rows × 3 columns</p>\n</div>"
     },
     "execution_count": 184,
     "metadata": {},
     "output_type": "execute_result"
    }
   ],
   "source": [
    "quarterly_avg_market_cap = market_cap_history.groupby(['HdrCUSIP9', 'forward_c_qtr'], as_index=False)['MthCap'].mean()\n",
    "quarterly_avg_market_cap.rename(columns={'HdrCUSIP9': 'cusip', 'forward_c_qtr': 'forward_c_qtr', 'MthCap': 'QAvgMktCap'}, inplace=True)\n",
    "quarterly_avg_market_cap\n",
    "\n"
   ],
   "metadata": {
    "collapsed": false,
    "pycharm": {
     "name": "#%%\n"
    }
   }
  },
  {
   "cell_type": "code",
   "execution_count": 185,
   "outputs": [
    {
     "data": {
      "text/plain": "        gvkey  datadate  fyearq  fqtr indfmt consol popsrc datafmt     tic  \\\n0        1013  19980131    1998   1.0   INDL      C      D     STD  ADCT.1   \n1        1013  19980430    1998   2.0   INDL      C      D     STD  ADCT.1   \n2        1013  19980731    1998   3.0   INDL      C      D     STD  ADCT.1   \n3        1013  19981031    1998   4.0   INDL      C      D     STD  ADCT.1   \n4        1013  19990131    1999   1.0   INDL      C      D     STD  ADCT.1   \n...       ...       ...     ...   ...    ...    ...    ...     ...     ...   \n59937  315629  20210930    2021   3.0   INDL      C      D     STD    IMOS   \n59938  315629  20211231    2021   4.0   INDL      C      D     STD    IMOS   \n59939  339965  20210731    2021   2.0   INDL      C      D     STD    SNOW   \n59940  339965  20211031    2021   3.0   INDL      C      D     STD    SNOW   \n59941  339965  20220131    2021   4.0   INDL      C      D     STD    SNOW   \n\n           cusip  ... ggroup    gind gsector   gsubind  RevenueGrowthRate  \\\n0      000886309  ...   4520  452010      45  45201020           0.115349   \n1      000886309  ...   4520  452010      45  45201020           0.198554   \n2      000886309  ...   4520  452010      45  45201020           0.235872   \n3      000886309  ...   4520  452010      45  45201020           0.181969   \n4      000886309  ...   4520  452010      45  45201020           0.411661   \n...          ...  ...    ...     ...     ...       ...                ...   \n59937  16965P202  ...   4530  453010      45  45301020           0.276371   \n59938  16965P202  ...   4530  453010      45  45301020           0.085938   \n59939  833445109  ...   4510  451020      45  45102030           1.044373   \n59940  833445109  ...   4510  451020      45  45102030           1.095180   \n59941  833445109  ...   4510  451020      45  45102030           1.014932   \n\n       NetProfitMargin  gp_score forward_c_qtr    QAvgMktCap    PS_Ratio  \n0             0.088720  0.204069        1998Q1  3.238898e+09   11.309159  \n1             0.102613  0.301167        1998Q2  4.238021e+09   12.664607  \n2             0.112021  0.347892        1998Q3  3.450648e+09    9.519134  \n3             0.117059  0.299028        1998Q4  3.948178e+09    9.966346  \n4            -0.023948  0.387713        1999Q1  5.767381e+09   14.265315  \n...                ...       ...           ...           ...         ...  \n59937         0.195199  0.471570        2021Q4  1.496422e+08    0.578770  \n59938         0.190588  0.276526        2022Q1  1.604747e+08    0.645992  \n59939        -0.696989  0.347384        2021Q3  8.660496e+10  318.168975  \n59940        -0.463029  0.632151        2021Q4  1.041936e+11  311.545450  \n59941        -0.344351  0.670581        2022Q1  7.868745e+10  205.035904  \n\n[59942 rows x 28 columns]",
      "text/html": "<div>\n<style scoped>\n    .dataframe tbody tr th:only-of-type {\n        vertical-align: middle;\n    }\n\n    .dataframe tbody tr th {\n        vertical-align: top;\n    }\n\n    .dataframe thead th {\n        text-align: right;\n    }\n</style>\n<table border=\"1\" class=\"dataframe\">\n  <thead>\n    <tr style=\"text-align: right;\">\n      <th></th>\n      <th>gvkey</th>\n      <th>datadate</th>\n      <th>fyearq</th>\n      <th>fqtr</th>\n      <th>indfmt</th>\n      <th>consol</th>\n      <th>popsrc</th>\n      <th>datafmt</th>\n      <th>tic</th>\n      <th>cusip</th>\n      <th>...</th>\n      <th>ggroup</th>\n      <th>gind</th>\n      <th>gsector</th>\n      <th>gsubind</th>\n      <th>RevenueGrowthRate</th>\n      <th>NetProfitMargin</th>\n      <th>gp_score</th>\n      <th>forward_c_qtr</th>\n      <th>QAvgMktCap</th>\n      <th>PS_Ratio</th>\n    </tr>\n  </thead>\n  <tbody>\n    <tr>\n      <th>0</th>\n      <td>1013</td>\n      <td>19980131</td>\n      <td>1998</td>\n      <td>1.0</td>\n      <td>INDL</td>\n      <td>C</td>\n      <td>D</td>\n      <td>STD</td>\n      <td>ADCT.1</td>\n      <td>000886309</td>\n      <td>...</td>\n      <td>4520</td>\n      <td>452010</td>\n      <td>45</td>\n      <td>45201020</td>\n      <td>0.115349</td>\n      <td>0.088720</td>\n      <td>0.204069</td>\n      <td>1998Q1</td>\n      <td>3.238898e+09</td>\n      <td>11.309159</td>\n    </tr>\n    <tr>\n      <th>1</th>\n      <td>1013</td>\n      <td>19980430</td>\n      <td>1998</td>\n      <td>2.0</td>\n      <td>INDL</td>\n      <td>C</td>\n      <td>D</td>\n      <td>STD</td>\n      <td>ADCT.1</td>\n      <td>000886309</td>\n      <td>...</td>\n      <td>4520</td>\n      <td>452010</td>\n      <td>45</td>\n      <td>45201020</td>\n      <td>0.198554</td>\n      <td>0.102613</td>\n      <td>0.301167</td>\n      <td>1998Q2</td>\n      <td>4.238021e+09</td>\n      <td>12.664607</td>\n    </tr>\n    <tr>\n      <th>2</th>\n      <td>1013</td>\n      <td>19980731</td>\n      <td>1998</td>\n      <td>3.0</td>\n      <td>INDL</td>\n      <td>C</td>\n      <td>D</td>\n      <td>STD</td>\n      <td>ADCT.1</td>\n      <td>000886309</td>\n      <td>...</td>\n      <td>4520</td>\n      <td>452010</td>\n      <td>45</td>\n      <td>45201020</td>\n      <td>0.235872</td>\n      <td>0.112021</td>\n      <td>0.347892</td>\n      <td>1998Q3</td>\n      <td>3.450648e+09</td>\n      <td>9.519134</td>\n    </tr>\n    <tr>\n      <th>3</th>\n      <td>1013</td>\n      <td>19981031</td>\n      <td>1998</td>\n      <td>4.0</td>\n      <td>INDL</td>\n      <td>C</td>\n      <td>D</td>\n      <td>STD</td>\n      <td>ADCT.1</td>\n      <td>000886309</td>\n      <td>...</td>\n      <td>4520</td>\n      <td>452010</td>\n      <td>45</td>\n      <td>45201020</td>\n      <td>0.181969</td>\n      <td>0.117059</td>\n      <td>0.299028</td>\n      <td>1998Q4</td>\n      <td>3.948178e+09</td>\n      <td>9.966346</td>\n    </tr>\n    <tr>\n      <th>4</th>\n      <td>1013</td>\n      <td>19990131</td>\n      <td>1999</td>\n      <td>1.0</td>\n      <td>INDL</td>\n      <td>C</td>\n      <td>D</td>\n      <td>STD</td>\n      <td>ADCT.1</td>\n      <td>000886309</td>\n      <td>...</td>\n      <td>4520</td>\n      <td>452010</td>\n      <td>45</td>\n      <td>45201020</td>\n      <td>0.411661</td>\n      <td>-0.023948</td>\n      <td>0.387713</td>\n      <td>1999Q1</td>\n      <td>5.767381e+09</td>\n      <td>14.265315</td>\n    </tr>\n    <tr>\n      <th>...</th>\n      <td>...</td>\n      <td>...</td>\n      <td>...</td>\n      <td>...</td>\n      <td>...</td>\n      <td>...</td>\n      <td>...</td>\n      <td>...</td>\n      <td>...</td>\n      <td>...</td>\n      <td>...</td>\n      <td>...</td>\n      <td>...</td>\n      <td>...</td>\n      <td>...</td>\n      <td>...</td>\n      <td>...</td>\n      <td>...</td>\n      <td>...</td>\n      <td>...</td>\n      <td>...</td>\n    </tr>\n    <tr>\n      <th>59937</th>\n      <td>315629</td>\n      <td>20210930</td>\n      <td>2021</td>\n      <td>3.0</td>\n      <td>INDL</td>\n      <td>C</td>\n      <td>D</td>\n      <td>STD</td>\n      <td>IMOS</td>\n      <td>16965P202</td>\n      <td>...</td>\n      <td>4530</td>\n      <td>453010</td>\n      <td>45</td>\n      <td>45301020</td>\n      <td>0.276371</td>\n      <td>0.195199</td>\n      <td>0.471570</td>\n      <td>2021Q4</td>\n      <td>1.496422e+08</td>\n      <td>0.578770</td>\n    </tr>\n    <tr>\n      <th>59938</th>\n      <td>315629</td>\n      <td>20211231</td>\n      <td>2021</td>\n      <td>4.0</td>\n      <td>INDL</td>\n      <td>C</td>\n      <td>D</td>\n      <td>STD</td>\n      <td>IMOS</td>\n      <td>16965P202</td>\n      <td>...</td>\n      <td>4530</td>\n      <td>453010</td>\n      <td>45</td>\n      <td>45301020</td>\n      <td>0.085938</td>\n      <td>0.190588</td>\n      <td>0.276526</td>\n      <td>2022Q1</td>\n      <td>1.604747e+08</td>\n      <td>0.645992</td>\n    </tr>\n    <tr>\n      <th>59939</th>\n      <td>339965</td>\n      <td>20210731</td>\n      <td>2021</td>\n      <td>2.0</td>\n      <td>INDL</td>\n      <td>C</td>\n      <td>D</td>\n      <td>STD</td>\n      <td>SNOW</td>\n      <td>833445109</td>\n      <td>...</td>\n      <td>4510</td>\n      <td>451020</td>\n      <td>45</td>\n      <td>45102030</td>\n      <td>1.044373</td>\n      <td>-0.696989</td>\n      <td>0.347384</td>\n      <td>2021Q3</td>\n      <td>8.660496e+10</td>\n      <td>318.168975</td>\n    </tr>\n    <tr>\n      <th>59940</th>\n      <td>339965</td>\n      <td>20211031</td>\n      <td>2021</td>\n      <td>3.0</td>\n      <td>INDL</td>\n      <td>C</td>\n      <td>D</td>\n      <td>STD</td>\n      <td>SNOW</td>\n      <td>833445109</td>\n      <td>...</td>\n      <td>4510</td>\n      <td>451020</td>\n      <td>45</td>\n      <td>45102030</td>\n      <td>1.095180</td>\n      <td>-0.463029</td>\n      <td>0.632151</td>\n      <td>2021Q4</td>\n      <td>1.041936e+11</td>\n      <td>311.545450</td>\n    </tr>\n    <tr>\n      <th>59941</th>\n      <td>339965</td>\n      <td>20220131</td>\n      <td>2021</td>\n      <td>4.0</td>\n      <td>INDL</td>\n      <td>C</td>\n      <td>D</td>\n      <td>STD</td>\n      <td>SNOW</td>\n      <td>833445109</td>\n      <td>...</td>\n      <td>4510</td>\n      <td>451020</td>\n      <td>45</td>\n      <td>45102030</td>\n      <td>1.014932</td>\n      <td>-0.344351</td>\n      <td>0.670581</td>\n      <td>2022Q1</td>\n      <td>7.868745e+10</td>\n      <td>205.035904</td>\n    </tr>\n  </tbody>\n</table>\n<p>59942 rows × 28 columns</p>\n</div>"
     },
     "execution_count": 185,
     "metadata": {},
     "output_type": "execute_result"
    }
   ],
   "source": [
    "\n",
    "\n",
    "merged_data = pd.merge(financial_history, quarterly_avg_market_cap, on=['cusip', 'forward_c_qtr'])\n",
    "merged_data['QAvgMktCap'] = merged_data['QAvgMktCap'] * 1000\n",
    "merged_data['PS_Ratio'] = merged_data['QAvgMktCap']/merged_data['revtq']\n",
    "merged_data = merged_data.drop(merged_data[merged_data.PS_Ratio == float('inf')].index)\n",
    "merged_data = merged_data.drop(merged_data[merged_data.PS_Ratio == float('-inf')].index)\n",
    "merged_data"
   ],
   "metadata": {
    "collapsed": false,
    "pycharm": {
     "name": "#%%\n"
    }
   }
  },
  {
   "cell_type": "code",
   "execution_count": 186,
   "outputs": [
    {
     "data": {
      "text/plain": "forward_c_qtr\n1996Q4    7.260000\n1997Q1    7.380984\n1997Q2    7.513692\n1997Q3    7.070462\n1997Q4    6.874545\n            ...   \n2021Q4    2.508636\n2022Q1    3.352344\n2022Q2    4.661846\n2022Q3    5.164030\n2022Q4    6.191622\nName: bbb_interest_rate, Length: 105, dtype: float64"
     },
     "execution_count": 186,
     "metadata": {},
     "output_type": "execute_result"
    }
   ],
   "source": [
    "credit_interest_rates = pd.read_csv('BAMLC0A4CBBBEY.csv')\n",
    "credit_interest_rates['DATE'] = credit_interest_rates['DATE'].map(str)\n",
    "credit_interest_rates['DATE'] = credit_interest_rates['DATE'].str.replace('-', '')\n",
    "credit_interest_rates['DATE'] = credit_interest_rates['DATE'].map(int)\n",
    "credit_interest_rates['YEAR'] = credit_interest_rates['DATE'] // 10000\n",
    "credit_interest_rates['Month'] = credit_interest_rates['DATE'].map(str)\n",
    "credit_interest_rates['Month'] = credit_interest_rates['Month'].str[4:8]\n",
    "credit_interest_rates['Month'] = credit_interest_rates['Month'].map(int)\n",
    "def assign_quarter(row):\n",
    "    if row['Month'] < 400:\n",
    "        return 'Q1'\n",
    "    elif row['Month'] < 700:\n",
    "        return 'Q2'\n",
    "    elif row['Month'] < 1000:\n",
    "        return 'Q3'\n",
    "    else:\n",
    "        return 'Q4'\n",
    "credit_interest_rates['Quarter'] = credit_interest_rates.apply(assign_quarter, axis=1)\n",
    "credit_interest_rates['YEAR'] = credit_interest_rates['YEAR'].map(str)\n",
    "credit_interest_rates['forward_c_qtr'] = credit_interest_rates['YEAR'] + credit_interest_rates['Quarter']\n",
    "\n",
    "\n",
    "credit_interest_rates = credit_interest_rates.drop(credit_interest_rates[credit_interest_rates.BAMLC0A4CBBBEY == '.'].index)\n",
    "credit_interest_rates['bbb_interest_rate'] = credit_interest_rates['BAMLC0A4CBBBEY'].map(float)\n",
    "quarterly_interest_rates = credit_interest_rates.groupby('forward_c_qtr')['bbb_interest_rate'].mean()\n",
    "quarterly_interest_rates\n",
    "\n"
   ],
   "metadata": {
    "collapsed": false,
    "pycharm": {
     "name": "#%%\n"
    }
   }
  },
  {
   "cell_type": "code",
   "execution_count": 187,
   "outputs": [
    {
     "data": {
      "text/plain": "      forward_c_qtr  bbb_interest_rate     gvkey    datadate  fyearq  fqtr  \\\n5            1998Q1           6.724923    1013.0  19980131.0  1998.0   1.0   \n6            1998Q1           6.724923    1562.0  19980131.0  1997.0   3.0   \n7            1998Q1           6.724923    1632.0  19980131.0  1998.0   1.0   \n8            1998Q1           6.724923    1704.0  19980131.0  1998.0   1.0   \n9            1998Q1           6.724923    1878.0  19980131.0  1997.0   4.0   \n...             ...                ...       ...         ...     ...   ...   \n59942        2022Q1           3.352344  270705.0  20211231.0  2021.0   4.0   \n59943        2022Q1           3.352344  287252.0  20211231.0  2021.0   3.0   \n59944        2022Q1           3.352344  298036.0  20211231.0  2021.0   4.0   \n59945        2022Q1           3.352344  315629.0  20211231.0  2021.0   4.0   \n59946        2022Q1           3.352344  339965.0  20220131.0  2021.0   4.0   \n\n      indfmt consol popsrc datafmt  ... costat  ggroup      gind gsector  \\\n5       INDL      C      D     STD  ...      I  4520.0  452010.0    45.0   \n6       INDL      C      D     STD  ...      A  4510.0  451030.0    45.0   \n7       INDL      C      D     STD  ...      A  4530.0  453010.0    45.0   \n8       INDL      C      D     STD  ...      A  4530.0  453010.0    45.0   \n9       INDL      C      D     STD  ...      A  4510.0  451030.0    45.0   \n...      ...    ...    ...     ...  ...    ...     ...       ...     ...   \n59942   INDL      C      D     STD  ...      A  4530.0  453010.0    45.0   \n59943   INDL      C      D     STD  ...      A  4510.0  451030.0    45.0   \n59944   INDL      C      D     STD  ...      A  4510.0  451020.0    45.0   \n59945   INDL      C      D     STD  ...      A  4530.0  453010.0    45.0   \n59946   INDL      C      D     STD  ...      A  4510.0  451020.0    45.0   \n\n          gsubind RevenueGrowthRate  NetProfitMargin  gp_score    QAvgMktCap  \\\n5      45201020.0          0.115349         0.088720  0.204069  3.238898e+09   \n6      45103010.0          0.230584         0.070422  0.301006  1.504365e+08   \n7      45301020.0          0.088091         0.010003  0.098094  5.145949e+09   \n8      45301010.0          0.564636         0.175037  0.739673  1.281168e+10   \n9      45103010.0          0.574817         0.147822  0.722639  1.956889e+09   \n...           ...               ...              ...       ...           ...   \n59942  45301020.0          0.638666         0.315102  0.953768  1.159489e+09   \n59943  45103010.0          0.061840         0.017397  0.079237  8.944729e+09   \n59944  45102020.0          0.024509         0.037450  0.061959  1.882744e+08   \n59945  45301020.0          0.085938         0.190588  0.276526  1.604747e+08   \n59946  45102030.0          1.014932        -0.344351  0.670581  7.868745e+10   \n\n         PS_Ratio  \n5       11.309159  \n6        5.668295  \n7       16.192873  \n8        9.797221  \n9       10.522778  \n...           ...  \n59942    2.565837  \n59943  247.003250  \n59944    1.053313  \n59945    0.645992  \n59946  205.035904  \n\n[59690 rows x 29 columns]",
      "text/html": "<div>\n<style scoped>\n    .dataframe tbody tr th:only-of-type {\n        vertical-align: middle;\n    }\n\n    .dataframe tbody tr th {\n        vertical-align: top;\n    }\n\n    .dataframe thead th {\n        text-align: right;\n    }\n</style>\n<table border=\"1\" class=\"dataframe\">\n  <thead>\n    <tr style=\"text-align: right;\">\n      <th></th>\n      <th>forward_c_qtr</th>\n      <th>bbb_interest_rate</th>\n      <th>gvkey</th>\n      <th>datadate</th>\n      <th>fyearq</th>\n      <th>fqtr</th>\n      <th>indfmt</th>\n      <th>consol</th>\n      <th>popsrc</th>\n      <th>datafmt</th>\n      <th>...</th>\n      <th>costat</th>\n      <th>ggroup</th>\n      <th>gind</th>\n      <th>gsector</th>\n      <th>gsubind</th>\n      <th>RevenueGrowthRate</th>\n      <th>NetProfitMargin</th>\n      <th>gp_score</th>\n      <th>QAvgMktCap</th>\n      <th>PS_Ratio</th>\n    </tr>\n  </thead>\n  <tbody>\n    <tr>\n      <th>5</th>\n      <td>1998Q1</td>\n      <td>6.724923</td>\n      <td>1013.0</td>\n      <td>19980131.0</td>\n      <td>1998.0</td>\n      <td>1.0</td>\n      <td>INDL</td>\n      <td>C</td>\n      <td>D</td>\n      <td>STD</td>\n      <td>...</td>\n      <td>I</td>\n      <td>4520.0</td>\n      <td>452010.0</td>\n      <td>45.0</td>\n      <td>45201020.0</td>\n      <td>0.115349</td>\n      <td>0.088720</td>\n      <td>0.204069</td>\n      <td>3.238898e+09</td>\n      <td>11.309159</td>\n    </tr>\n    <tr>\n      <th>6</th>\n      <td>1998Q1</td>\n      <td>6.724923</td>\n      <td>1562.0</td>\n      <td>19980131.0</td>\n      <td>1997.0</td>\n      <td>3.0</td>\n      <td>INDL</td>\n      <td>C</td>\n      <td>D</td>\n      <td>STD</td>\n      <td>...</td>\n      <td>A</td>\n      <td>4510.0</td>\n      <td>451030.0</td>\n      <td>45.0</td>\n      <td>45103010.0</td>\n      <td>0.230584</td>\n      <td>0.070422</td>\n      <td>0.301006</td>\n      <td>1.504365e+08</td>\n      <td>5.668295</td>\n    </tr>\n    <tr>\n      <th>7</th>\n      <td>1998Q1</td>\n      <td>6.724923</td>\n      <td>1632.0</td>\n      <td>19980131.0</td>\n      <td>1998.0</td>\n      <td>1.0</td>\n      <td>INDL</td>\n      <td>C</td>\n      <td>D</td>\n      <td>STD</td>\n      <td>...</td>\n      <td>A</td>\n      <td>4530.0</td>\n      <td>453010.0</td>\n      <td>45.0</td>\n      <td>45301020.0</td>\n      <td>0.088091</td>\n      <td>0.010003</td>\n      <td>0.098094</td>\n      <td>5.145949e+09</td>\n      <td>16.192873</td>\n    </tr>\n    <tr>\n      <th>8</th>\n      <td>1998Q1</td>\n      <td>6.724923</td>\n      <td>1704.0</td>\n      <td>19980131.0</td>\n      <td>1998.0</td>\n      <td>1.0</td>\n      <td>INDL</td>\n      <td>C</td>\n      <td>D</td>\n      <td>STD</td>\n      <td>...</td>\n      <td>A</td>\n      <td>4530.0</td>\n      <td>453010.0</td>\n      <td>45.0</td>\n      <td>45301010.0</td>\n      <td>0.564636</td>\n      <td>0.175037</td>\n      <td>0.739673</td>\n      <td>1.281168e+10</td>\n      <td>9.797221</td>\n    </tr>\n    <tr>\n      <th>9</th>\n      <td>1998Q1</td>\n      <td>6.724923</td>\n      <td>1878.0</td>\n      <td>19980131.0</td>\n      <td>1997.0</td>\n      <td>4.0</td>\n      <td>INDL</td>\n      <td>C</td>\n      <td>D</td>\n      <td>STD</td>\n      <td>...</td>\n      <td>A</td>\n      <td>4510.0</td>\n      <td>451030.0</td>\n      <td>45.0</td>\n      <td>45103010.0</td>\n      <td>0.574817</td>\n      <td>0.147822</td>\n      <td>0.722639</td>\n      <td>1.956889e+09</td>\n      <td>10.522778</td>\n    </tr>\n    <tr>\n      <th>...</th>\n      <td>...</td>\n      <td>...</td>\n      <td>...</td>\n      <td>...</td>\n      <td>...</td>\n      <td>...</td>\n      <td>...</td>\n      <td>...</td>\n      <td>...</td>\n      <td>...</td>\n      <td>...</td>\n      <td>...</td>\n      <td>...</td>\n      <td>...</td>\n      <td>...</td>\n      <td>...</td>\n      <td>...</td>\n      <td>...</td>\n      <td>...</td>\n      <td>...</td>\n      <td>...</td>\n    </tr>\n    <tr>\n      <th>59942</th>\n      <td>2022Q1</td>\n      <td>3.352344</td>\n      <td>270705.0</td>\n      <td>20211231.0</td>\n      <td>2021.0</td>\n      <td>4.0</td>\n      <td>INDL</td>\n      <td>C</td>\n      <td>D</td>\n      <td>STD</td>\n      <td>...</td>\n      <td>A</td>\n      <td>4530.0</td>\n      <td>453010.0</td>\n      <td>45.0</td>\n      <td>45301020.0</td>\n      <td>0.638666</td>\n      <td>0.315102</td>\n      <td>0.953768</td>\n      <td>1.159489e+09</td>\n      <td>2.565837</td>\n    </tr>\n    <tr>\n      <th>59943</th>\n      <td>2022Q1</td>\n      <td>3.352344</td>\n      <td>287252.0</td>\n      <td>20211231.0</td>\n      <td>2021.0</td>\n      <td>3.0</td>\n      <td>INDL</td>\n      <td>C</td>\n      <td>D</td>\n      <td>STD</td>\n      <td>...</td>\n      <td>A</td>\n      <td>4510.0</td>\n      <td>451030.0</td>\n      <td>45.0</td>\n      <td>45103010.0</td>\n      <td>0.061840</td>\n      <td>0.017397</td>\n      <td>0.079237</td>\n      <td>8.944729e+09</td>\n      <td>247.003250</td>\n    </tr>\n    <tr>\n      <th>59944</th>\n      <td>2022Q1</td>\n      <td>3.352344</td>\n      <td>298036.0</td>\n      <td>20211231.0</td>\n      <td>2021.0</td>\n      <td>4.0</td>\n      <td>INDL</td>\n      <td>C</td>\n      <td>D</td>\n      <td>STD</td>\n      <td>...</td>\n      <td>A</td>\n      <td>4510.0</td>\n      <td>451020.0</td>\n      <td>45.0</td>\n      <td>45102020.0</td>\n      <td>0.024509</td>\n      <td>0.037450</td>\n      <td>0.061959</td>\n      <td>1.882744e+08</td>\n      <td>1.053313</td>\n    </tr>\n    <tr>\n      <th>59945</th>\n      <td>2022Q1</td>\n      <td>3.352344</td>\n      <td>315629.0</td>\n      <td>20211231.0</td>\n      <td>2021.0</td>\n      <td>4.0</td>\n      <td>INDL</td>\n      <td>C</td>\n      <td>D</td>\n      <td>STD</td>\n      <td>...</td>\n      <td>A</td>\n      <td>4530.0</td>\n      <td>453010.0</td>\n      <td>45.0</td>\n      <td>45301020.0</td>\n      <td>0.085938</td>\n      <td>0.190588</td>\n      <td>0.276526</td>\n      <td>1.604747e+08</td>\n      <td>0.645992</td>\n    </tr>\n    <tr>\n      <th>59946</th>\n      <td>2022Q1</td>\n      <td>3.352344</td>\n      <td>339965.0</td>\n      <td>20220131.0</td>\n      <td>2021.0</td>\n      <td>4.0</td>\n      <td>INDL</td>\n      <td>C</td>\n      <td>D</td>\n      <td>STD</td>\n      <td>...</td>\n      <td>A</td>\n      <td>4510.0</td>\n      <td>451020.0</td>\n      <td>45.0</td>\n      <td>45102030.0</td>\n      <td>1.014932</td>\n      <td>-0.344351</td>\n      <td>0.670581</td>\n      <td>7.868745e+10</td>\n      <td>205.035904</td>\n    </tr>\n  </tbody>\n</table>\n<p>59690 rows × 29 columns</p>\n</div>"
     },
     "execution_count": 187,
     "metadata": {},
     "output_type": "execute_result"
    }
   ],
   "source": [
    "full_data = pd.merge(quarterly_interest_rates, merged_data, how='outer', on='forward_c_qtr')\n",
    "full_data = full_data.dropna()\n",
    "full_data\n"
   ],
   "metadata": {
    "collapsed": false,
    "pycharm": {
     "name": "#%%\n"
    }
   }
  },
  {
   "cell_type": "code",
   "execution_count": 188,
   "outputs": [
    {
     "name": "stdout",
     "output_type": "stream",
     "text": [
      "Telecommunication Services\n",
      "+ 30% Revenue Growth\n",
      "count    810.000000\n",
      "mean       5.666451\n",
      "std       13.189237\n",
      "min        0.001817\n",
      "25%        0.410068\n",
      "50%        2.312561\n",
      "75%        7.333047\n",
      "max      226.735744\n",
      "Name: PS_Ratio, dtype: float64\n",
      "+ 20% Revenue Growth\n",
      "count    473.000000\n",
      "mean       4.899102\n",
      "std       10.887291\n",
      "min        0.003023\n",
      "25%        0.529126\n",
      "50%        1.896056\n",
      "75%        6.889832\n",
      "max      185.014640\n",
      "Name: PS_Ratio, dtype: float64\n",
      "+ < 20% Revenue Growth\n",
      "count    4571.000000\n",
      "mean        4.177416\n",
      "std         8.004653\n",
      "min         0.002496\n",
      "25%         0.590950\n",
      "50%         2.203363\n",
      "75%         5.576794\n",
      "max       252.626889\n",
      "Name: PS_Ratio, dtype: float64\n"
     ]
    }
   ],
   "source": [
    "ts_group = full_data[(full_data['ggroup'] == 5010)]\n",
    "ts_group = ts_group[(ts_group['revtq'] >= 15000000)]\n",
    "\n",
    "high_growth = ts_group[(ts_group['RevenueGrowthRate'] >= 0.30)]\n",
    "mid_growth = ts_group[(ts_group['RevenueGrowthRate'] < 0.30) & (ts_group['RevenueGrowthRate'] >= 0.20)]\n",
    "low_growth = ts_group[(ts_group['RevenueGrowthRate'] < 0.20)]\n",
    "\n",
    "print('Telecommunication Services')\n",
    "print('+ 30% Revenue Growth')\n",
    "print(high_growth['PS_Ratio'].describe())\n",
    "print('+ 20% Revenue Growth')\n",
    "print(mid_growth['PS_Ratio'].describe())\n",
    "print('+ < 20% Revenue Growth')\n",
    "print(low_growth['PS_Ratio'].describe())\n",
    "\n",
    "\n"
   ],
   "metadata": {
    "collapsed": false,
    "pycharm": {
     "name": "#%%\n"
    }
   }
  },
  {
   "cell_type": "code",
   "execution_count": 189,
   "outputs": [
    {
     "name": "stdout",
     "output_type": "stream",
     "text": [
      "count    1990.000000\n",
      "mean        0.317204\n",
      "std         0.440843\n",
      "min        -2.254534\n",
      "25%         0.137096\n",
      "50%         0.304167\n",
      "75%         0.482724\n",
      "max         5.795328\n",
      "Name: gp_score, dtype: float64\n",
      "count    17835.000000\n",
      "mean         0.118785\n",
      "std          0.395526\n",
      "min         -3.942988\n",
      "25%         -0.028022\n",
      "50%          0.141958\n",
      "75%          0.278592\n",
      "max          6.416119\n",
      "Name: gp_score, dtype: float64\n"
     ]
    }
   ],
   "source": [
    "ss_group = full_data[(full_data['ggroup'] == 4510)]\n",
    "high_multiple = ss_group[(ss_group['PS_Ratio'] >= 30)]\n",
    "low_multiple = ss_group[(ss_group['PS_Ratio'] < 30)]\n",
    "high_growth = ss_group[(ss_group['RevenueGrowthRate'] >= 0.30)]\n",
    "high_ir_high_growth = high_growth[(high_growth['bbb_interest_rate'] >= 5)]\n",
    "low_ir_high_growth = high_growth[(high_growth['bbb_interest_rate'] <= 5)]\n",
    "print(high_multiple['gp_score'].describe())\n",
    "print(low_multiple['gp_score'].describe())\n",
    "# print(high_ir_high_growth['PS_Ratio'].describe())\n",
    "# print(low_ir_high_growth['PS_Ratio'].describe())\n",
    "# tracking_ps_ratio = high_growth.groupby(['datafqtr'])['PS_Ratio'].mean()\n",
    "# tracking_ps_ratio.plot(x=\"datafqtr\", y=[\"PS_Ratio\"])\n",
    "\n",
    "\n",
    "\n"
   ],
   "metadata": {
    "collapsed": false,
    "pycharm": {
     "name": "#%%\n"
    }
   }
  }
 ],
 "metadata": {
  "kernelspec": {
   "display_name": "Python 3",
   "language": "python",
   "name": "python3"
  },
  "language_info": {
   "codemirror_mode": {
    "name": "ipython",
    "version": 2
   },
   "file_extension": ".py",
   "mimetype": "text/x-python",
   "name": "python",
   "nbconvert_exporter": "python",
   "pygments_lexer": "ipython2",
   "version": "2.7.6"
  }
 },
 "nbformat": 4,
 "nbformat_minor": 0
}