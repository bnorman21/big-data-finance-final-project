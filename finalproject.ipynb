{
 "cells": [
  {
   "cell_type": "code",
   "execution_count": 201,
   "metadata": {
    "collapsed": true,
    "pycharm": {
     "name": "#%%\n"
    }
   },
   "outputs": [
    {
     "data": {
      "text/plain": "         gvkey  datadate  fyearq  fqtr indfmt consol popsrc datafmt     tic  \\\n0         1013  19950131    1995   1.0   INDL      C      D     STD  ADCT.1   \n1         1013  19950430    1995   2.0   INDL      C      D     STD  ADCT.1   \n2         1013  19950731    1995   3.0   INDL      C      D     STD  ADCT.1   \n3         1013  19951031    1995   4.0   INDL      C      D     STD  ADCT.1   \n4         1013  19960131    1996   1.0   INDL      C      D     STD  ADCT.1   \n...        ...       ...     ...   ...    ...    ...    ...     ...     ...   \n194161  347085  20210228    2020   4.0   INDL      C      D     STD    KARO   \n194162  347085  20210531    2021   1.0   INDL      C      D     STD    KARO   \n194163  347085  20210831    2021   2.0   INDL      C      D     STD    KARO   \n194164  347085  20211130    2021   3.0   INDL      C      D     STD    KARO   \n194165  347085  20220228    2021   4.0   INDL      C      D     STD    KARO   \n\n            cusip  ... epspxq         niq        revtq         niy  \\\n0       000886309  ...   0.38  10466000.0  121774000.0  10466000.0   \n1       000886309  ...   0.18  10389000.0  140342000.0         NaN   \n2       000886309  ...   0.26  15674000.0  150454000.0         NaN   \n3       000886309  ...   0.30  18657000.0  173652000.0         NaN   \n4       000886309  ...   0.26  16313000.0  162591000.0  16313000.0   \n...           ...  ...    ...         ...          ...         ...   \n194161  Y4600W108  ...   0.20   4228000.0   42641000.0  20965000.0   \n194162  Y4600W108  ...   0.25   6417000.0   45522000.0   6417000.0   \n194163  Y4600W108  ...   0.26   7888000.0   43099000.0  14305000.0   \n194164  Y4600W108  ...   0.25   7768000.0   36496000.0  22073000.0   \n194165  Y4600W108  ...   0.23   7090000.0   52870000.0  29163000.0   \n\n              revty  costat  ggroup    gind  gsector   gsubind  \n0       121774000.0       I    4520  452010       45  45201020  \n1               NaN       I    4520  452010       45  45201020  \n2               NaN       I    4520  452010       45  45201020  \n3               NaN       I    4520  452010       45  45201020  \n4       162591000.0       I    4520  452010       45  45201020  \n...             ...     ...     ...     ...      ...       ...  \n194161  150924000.0       A    4510  451030       45  45103010  \n194162   45522000.0       A    4510  451030       45  45103010  \n194163   88621000.0       A    4510  451030       45  45103010  \n194164  125117000.0       A    4510  451030       45  45103010  \n194165  177987000.0       A    4510  451030       45  45103010  \n\n[104645 rows x 24 columns]",
      "text/html": "<div>\n<style scoped>\n    .dataframe tbody tr th:only-of-type {\n        vertical-align: middle;\n    }\n\n    .dataframe tbody tr th {\n        vertical-align: top;\n    }\n\n    .dataframe thead th {\n        text-align: right;\n    }\n</style>\n<table border=\"1\" class=\"dataframe\">\n  <thead>\n    <tr style=\"text-align: right;\">\n      <th></th>\n      <th>gvkey</th>\n      <th>datadate</th>\n      <th>fyearq</th>\n      <th>fqtr</th>\n      <th>indfmt</th>\n      <th>consol</th>\n      <th>popsrc</th>\n      <th>datafmt</th>\n      <th>tic</th>\n      <th>cusip</th>\n      <th>...</th>\n      <th>epspxq</th>\n      <th>niq</th>\n      <th>revtq</th>\n      <th>niy</th>\n      <th>revty</th>\n      <th>costat</th>\n      <th>ggroup</th>\n      <th>gind</th>\n      <th>gsector</th>\n      <th>gsubind</th>\n    </tr>\n  </thead>\n  <tbody>\n    <tr>\n      <th>0</th>\n      <td>1013</td>\n      <td>19950131</td>\n      <td>1995</td>\n      <td>1.0</td>\n      <td>INDL</td>\n      <td>C</td>\n      <td>D</td>\n      <td>STD</td>\n      <td>ADCT.1</td>\n      <td>000886309</td>\n      <td>...</td>\n      <td>0.38</td>\n      <td>10466000.0</td>\n      <td>121774000.0</td>\n      <td>10466000.0</td>\n      <td>121774000.0</td>\n      <td>I</td>\n      <td>4520</td>\n      <td>452010</td>\n      <td>45</td>\n      <td>45201020</td>\n    </tr>\n    <tr>\n      <th>1</th>\n      <td>1013</td>\n      <td>19950430</td>\n      <td>1995</td>\n      <td>2.0</td>\n      <td>INDL</td>\n      <td>C</td>\n      <td>D</td>\n      <td>STD</td>\n      <td>ADCT.1</td>\n      <td>000886309</td>\n      <td>...</td>\n      <td>0.18</td>\n      <td>10389000.0</td>\n      <td>140342000.0</td>\n      <td>NaN</td>\n      <td>NaN</td>\n      <td>I</td>\n      <td>4520</td>\n      <td>452010</td>\n      <td>45</td>\n      <td>45201020</td>\n    </tr>\n    <tr>\n      <th>2</th>\n      <td>1013</td>\n      <td>19950731</td>\n      <td>1995</td>\n      <td>3.0</td>\n      <td>INDL</td>\n      <td>C</td>\n      <td>D</td>\n      <td>STD</td>\n      <td>ADCT.1</td>\n      <td>000886309</td>\n      <td>...</td>\n      <td>0.26</td>\n      <td>15674000.0</td>\n      <td>150454000.0</td>\n      <td>NaN</td>\n      <td>NaN</td>\n      <td>I</td>\n      <td>4520</td>\n      <td>452010</td>\n      <td>45</td>\n      <td>45201020</td>\n    </tr>\n    <tr>\n      <th>3</th>\n      <td>1013</td>\n      <td>19951031</td>\n      <td>1995</td>\n      <td>4.0</td>\n      <td>INDL</td>\n      <td>C</td>\n      <td>D</td>\n      <td>STD</td>\n      <td>ADCT.1</td>\n      <td>000886309</td>\n      <td>...</td>\n      <td>0.30</td>\n      <td>18657000.0</td>\n      <td>173652000.0</td>\n      <td>NaN</td>\n      <td>NaN</td>\n      <td>I</td>\n      <td>4520</td>\n      <td>452010</td>\n      <td>45</td>\n      <td>45201020</td>\n    </tr>\n    <tr>\n      <th>4</th>\n      <td>1013</td>\n      <td>19960131</td>\n      <td>1996</td>\n      <td>1.0</td>\n      <td>INDL</td>\n      <td>C</td>\n      <td>D</td>\n      <td>STD</td>\n      <td>ADCT.1</td>\n      <td>000886309</td>\n      <td>...</td>\n      <td>0.26</td>\n      <td>16313000.0</td>\n      <td>162591000.0</td>\n      <td>16313000.0</td>\n      <td>162591000.0</td>\n      <td>I</td>\n      <td>4520</td>\n      <td>452010</td>\n      <td>45</td>\n      <td>45201020</td>\n    </tr>\n    <tr>\n      <th>...</th>\n      <td>...</td>\n      <td>...</td>\n      <td>...</td>\n      <td>...</td>\n      <td>...</td>\n      <td>...</td>\n      <td>...</td>\n      <td>...</td>\n      <td>...</td>\n      <td>...</td>\n      <td>...</td>\n      <td>...</td>\n      <td>...</td>\n      <td>...</td>\n      <td>...</td>\n      <td>...</td>\n      <td>...</td>\n      <td>...</td>\n      <td>...</td>\n      <td>...</td>\n      <td>...</td>\n    </tr>\n    <tr>\n      <th>194161</th>\n      <td>347085</td>\n      <td>20210228</td>\n      <td>2020</td>\n      <td>4.0</td>\n      <td>INDL</td>\n      <td>C</td>\n      <td>D</td>\n      <td>STD</td>\n      <td>KARO</td>\n      <td>Y4600W108</td>\n      <td>...</td>\n      <td>0.20</td>\n      <td>4228000.0</td>\n      <td>42641000.0</td>\n      <td>20965000.0</td>\n      <td>150924000.0</td>\n      <td>A</td>\n      <td>4510</td>\n      <td>451030</td>\n      <td>45</td>\n      <td>45103010</td>\n    </tr>\n    <tr>\n      <th>194162</th>\n      <td>347085</td>\n      <td>20210531</td>\n      <td>2021</td>\n      <td>1.0</td>\n      <td>INDL</td>\n      <td>C</td>\n      <td>D</td>\n      <td>STD</td>\n      <td>KARO</td>\n      <td>Y4600W108</td>\n      <td>...</td>\n      <td>0.25</td>\n      <td>6417000.0</td>\n      <td>45522000.0</td>\n      <td>6417000.0</td>\n      <td>45522000.0</td>\n      <td>A</td>\n      <td>4510</td>\n      <td>451030</td>\n      <td>45</td>\n      <td>45103010</td>\n    </tr>\n    <tr>\n      <th>194163</th>\n      <td>347085</td>\n      <td>20210831</td>\n      <td>2021</td>\n      <td>2.0</td>\n      <td>INDL</td>\n      <td>C</td>\n      <td>D</td>\n      <td>STD</td>\n      <td>KARO</td>\n      <td>Y4600W108</td>\n      <td>...</td>\n      <td>0.26</td>\n      <td>7888000.0</td>\n      <td>43099000.0</td>\n      <td>14305000.0</td>\n      <td>88621000.0</td>\n      <td>A</td>\n      <td>4510</td>\n      <td>451030</td>\n      <td>45</td>\n      <td>45103010</td>\n    </tr>\n    <tr>\n      <th>194164</th>\n      <td>347085</td>\n      <td>20211130</td>\n      <td>2021</td>\n      <td>3.0</td>\n      <td>INDL</td>\n      <td>C</td>\n      <td>D</td>\n      <td>STD</td>\n      <td>KARO</td>\n      <td>Y4600W108</td>\n      <td>...</td>\n      <td>0.25</td>\n      <td>7768000.0</td>\n      <td>36496000.0</td>\n      <td>22073000.0</td>\n      <td>125117000.0</td>\n      <td>A</td>\n      <td>4510</td>\n      <td>451030</td>\n      <td>45</td>\n      <td>45103010</td>\n    </tr>\n    <tr>\n      <th>194165</th>\n      <td>347085</td>\n      <td>20220228</td>\n      <td>2021</td>\n      <td>4.0</td>\n      <td>INDL</td>\n      <td>C</td>\n      <td>D</td>\n      <td>STD</td>\n      <td>KARO</td>\n      <td>Y4600W108</td>\n      <td>...</td>\n      <td>0.23</td>\n      <td>7090000.0</td>\n      <td>52870000.0</td>\n      <td>29163000.0</td>\n      <td>177987000.0</td>\n      <td>A</td>\n      <td>4510</td>\n      <td>451030</td>\n      <td>45</td>\n      <td>45103010</td>\n    </tr>\n  </tbody>\n</table>\n<p>104645 rows × 24 columns</p>\n</div>"
     },
     "execution_count": 201,
     "metadata": {},
     "output_type": "execute_result"
    }
   ],
   "source": [
    "import pandas as pd\n",
    "financial_history = pd.read_csv('financial_results.csv')\n",
    "financial_history['revtq'] = financial_history['revtq'] * 1000000\n",
    "financial_history['niq'] = financial_history['niq'] * 1000000\n",
    "financial_history['revty'] = financial_history['revty'] * 1000000\n",
    "financial_history['niy'] = financial_history['niy'] * 1000000\n",
    "financial_history = financial_history[(financial_history['revtq'] >= 15000000)]\n",
    "financial_history\n"
   ]
  },
  {
   "cell_type": "code",
   "execution_count": 202,
   "outputs": [
    {
     "data": {
      "text/plain": "         gvkey  datadate  fyearq  fqtr indfmt consol popsrc datafmt     tic  \\\n4         1013  19960131    1996   1.0   INDL      C      D     STD  ADCT.1   \n5         1013  19960430    1996   2.0   INDL      C      D     STD  ADCT.1   \n6         1013  19960731    1996   3.0   INDL      C      D     STD  ADCT.1   \n7         1013  19961031    1996   4.0   INDL      C      D     STD  ADCT.1   \n8         1013  19970131    1997   1.0   INDL      C      D     STD  ADCT.1   \n...        ...       ...     ...   ...    ...    ...    ...     ...     ...   \n194161  347085  20210228    2020   4.0   INDL      C      D     STD    KARO   \n194162  347085  20210531    2021   1.0   INDL      C      D     STD    KARO   \n194163  347085  20210831    2021   2.0   INDL      C      D     STD    KARO   \n194164  347085  20211130    2021   3.0   INDL      C      D     STD    KARO   \n194165  347085  20220228    2021   4.0   INDL      C      D     STD    KARO   \n\n            cusip  ...        revty costat ggroup    gind  gsector   gsubind  \\\n4       000886309  ...  162591000.0      I   4520  452010       45  45201020   \n5       000886309  ...  355644000.0      I   4520  452010       45  45201020   \n6       000886309  ...  572957000.0      I   4520  452010       45  45201020   \n7       000886309  ...  828009000.0      I   4520  452010       45  45201020   \n8       000886309  ...  256777000.0      I   4520  452010       45  45201020   \n...           ...  ...          ...    ...    ...     ...      ...       ...   \n194161  Y4600W108  ...  150924000.0      A   4510  451030       45  45103010   \n194162  Y4600W108  ...   45522000.0      A   4510  451030       45  45103010   \n194163  Y4600W108  ...   88621000.0      A   4510  451030       45  45103010   \n194164  Y4600W108  ...  125117000.0      A   4510  451030       45  45103010   \n194165  Y4600W108  ...  177987000.0      A   4510  451030       45  45103010   \n\n        RevenueGrowthRate  NetProfitMargin  gp_score forward_c_qtr  \n4                0.335186         0.100332  0.435518        1996Q1  \n5                0.375590         0.103075  0.478665        1996Q2  \n6                0.444382         0.106630  0.551011        1996Q3  \n7                0.468754         0.110091  0.578845        1996Q4  \n8                0.579282         0.040483  0.619764        1997Q1  \n...                   ...              ...       ...           ...  \n194161          -0.655309         0.099153 -0.556156        2021Q2  \n194162           0.501583         0.140965  0.642548        2021Q3  \n194163           0.279928         0.183020  0.462948        2021Q4  \n194164          -0.176051         0.212845  0.036794        2022Q1  \n194165           0.239886         0.134103  0.373989        2022Q2  \n\n[89728 rows x 28 columns]",
      "text/html": "<div>\n<style scoped>\n    .dataframe tbody tr th:only-of-type {\n        vertical-align: middle;\n    }\n\n    .dataframe tbody tr th {\n        vertical-align: top;\n    }\n\n    .dataframe thead th {\n        text-align: right;\n    }\n</style>\n<table border=\"1\" class=\"dataframe\">\n  <thead>\n    <tr style=\"text-align: right;\">\n      <th></th>\n      <th>gvkey</th>\n      <th>datadate</th>\n      <th>fyearq</th>\n      <th>fqtr</th>\n      <th>indfmt</th>\n      <th>consol</th>\n      <th>popsrc</th>\n      <th>datafmt</th>\n      <th>tic</th>\n      <th>cusip</th>\n      <th>...</th>\n      <th>revty</th>\n      <th>costat</th>\n      <th>ggroup</th>\n      <th>gind</th>\n      <th>gsector</th>\n      <th>gsubind</th>\n      <th>RevenueGrowthRate</th>\n      <th>NetProfitMargin</th>\n      <th>gp_score</th>\n      <th>forward_c_qtr</th>\n    </tr>\n  </thead>\n  <tbody>\n    <tr>\n      <th>4</th>\n      <td>1013</td>\n      <td>19960131</td>\n      <td>1996</td>\n      <td>1.0</td>\n      <td>INDL</td>\n      <td>C</td>\n      <td>D</td>\n      <td>STD</td>\n      <td>ADCT.1</td>\n      <td>000886309</td>\n      <td>...</td>\n      <td>162591000.0</td>\n      <td>I</td>\n      <td>4520</td>\n      <td>452010</td>\n      <td>45</td>\n      <td>45201020</td>\n      <td>0.335186</td>\n      <td>0.100332</td>\n      <td>0.435518</td>\n      <td>1996Q1</td>\n    </tr>\n    <tr>\n      <th>5</th>\n      <td>1013</td>\n      <td>19960430</td>\n      <td>1996</td>\n      <td>2.0</td>\n      <td>INDL</td>\n      <td>C</td>\n      <td>D</td>\n      <td>STD</td>\n      <td>ADCT.1</td>\n      <td>000886309</td>\n      <td>...</td>\n      <td>355644000.0</td>\n      <td>I</td>\n      <td>4520</td>\n      <td>452010</td>\n      <td>45</td>\n      <td>45201020</td>\n      <td>0.375590</td>\n      <td>0.103075</td>\n      <td>0.478665</td>\n      <td>1996Q2</td>\n    </tr>\n    <tr>\n      <th>6</th>\n      <td>1013</td>\n      <td>19960731</td>\n      <td>1996</td>\n      <td>3.0</td>\n      <td>INDL</td>\n      <td>C</td>\n      <td>D</td>\n      <td>STD</td>\n      <td>ADCT.1</td>\n      <td>000886309</td>\n      <td>...</td>\n      <td>572957000.0</td>\n      <td>I</td>\n      <td>4520</td>\n      <td>452010</td>\n      <td>45</td>\n      <td>45201020</td>\n      <td>0.444382</td>\n      <td>0.106630</td>\n      <td>0.551011</td>\n      <td>1996Q3</td>\n    </tr>\n    <tr>\n      <th>7</th>\n      <td>1013</td>\n      <td>19961031</td>\n      <td>1996</td>\n      <td>4.0</td>\n      <td>INDL</td>\n      <td>C</td>\n      <td>D</td>\n      <td>STD</td>\n      <td>ADCT.1</td>\n      <td>000886309</td>\n      <td>...</td>\n      <td>828009000.0</td>\n      <td>I</td>\n      <td>4520</td>\n      <td>452010</td>\n      <td>45</td>\n      <td>45201020</td>\n      <td>0.468754</td>\n      <td>0.110091</td>\n      <td>0.578845</td>\n      <td>1996Q4</td>\n    </tr>\n    <tr>\n      <th>8</th>\n      <td>1013</td>\n      <td>19970131</td>\n      <td>1997</td>\n      <td>1.0</td>\n      <td>INDL</td>\n      <td>C</td>\n      <td>D</td>\n      <td>STD</td>\n      <td>ADCT.1</td>\n      <td>000886309</td>\n      <td>...</td>\n      <td>256777000.0</td>\n      <td>I</td>\n      <td>4520</td>\n      <td>452010</td>\n      <td>45</td>\n      <td>45201020</td>\n      <td>0.579282</td>\n      <td>0.040483</td>\n      <td>0.619764</td>\n      <td>1997Q1</td>\n    </tr>\n    <tr>\n      <th>...</th>\n      <td>...</td>\n      <td>...</td>\n      <td>...</td>\n      <td>...</td>\n      <td>...</td>\n      <td>...</td>\n      <td>...</td>\n      <td>...</td>\n      <td>...</td>\n      <td>...</td>\n      <td>...</td>\n      <td>...</td>\n      <td>...</td>\n      <td>...</td>\n      <td>...</td>\n      <td>...</td>\n      <td>...</td>\n      <td>...</td>\n      <td>...</td>\n      <td>...</td>\n      <td>...</td>\n    </tr>\n    <tr>\n      <th>194161</th>\n      <td>347085</td>\n      <td>20210228</td>\n      <td>2020</td>\n      <td>4.0</td>\n      <td>INDL</td>\n      <td>C</td>\n      <td>D</td>\n      <td>STD</td>\n      <td>KARO</td>\n      <td>Y4600W108</td>\n      <td>...</td>\n      <td>150924000.0</td>\n      <td>A</td>\n      <td>4510</td>\n      <td>451030</td>\n      <td>45</td>\n      <td>45103010</td>\n      <td>-0.655309</td>\n      <td>0.099153</td>\n      <td>-0.556156</td>\n      <td>2021Q2</td>\n    </tr>\n    <tr>\n      <th>194162</th>\n      <td>347085</td>\n      <td>20210531</td>\n      <td>2021</td>\n      <td>1.0</td>\n      <td>INDL</td>\n      <td>C</td>\n      <td>D</td>\n      <td>STD</td>\n      <td>KARO</td>\n      <td>Y4600W108</td>\n      <td>...</td>\n      <td>45522000.0</td>\n      <td>A</td>\n      <td>4510</td>\n      <td>451030</td>\n      <td>45</td>\n      <td>45103010</td>\n      <td>0.501583</td>\n      <td>0.140965</td>\n      <td>0.642548</td>\n      <td>2021Q3</td>\n    </tr>\n    <tr>\n      <th>194163</th>\n      <td>347085</td>\n      <td>20210831</td>\n      <td>2021</td>\n      <td>2.0</td>\n      <td>INDL</td>\n      <td>C</td>\n      <td>D</td>\n      <td>STD</td>\n      <td>KARO</td>\n      <td>Y4600W108</td>\n      <td>...</td>\n      <td>88621000.0</td>\n      <td>A</td>\n      <td>4510</td>\n      <td>451030</td>\n      <td>45</td>\n      <td>45103010</td>\n      <td>0.279928</td>\n      <td>0.183020</td>\n      <td>0.462948</td>\n      <td>2021Q4</td>\n    </tr>\n    <tr>\n      <th>194164</th>\n      <td>347085</td>\n      <td>20211130</td>\n      <td>2021</td>\n      <td>3.0</td>\n      <td>INDL</td>\n      <td>C</td>\n      <td>D</td>\n      <td>STD</td>\n      <td>KARO</td>\n      <td>Y4600W108</td>\n      <td>...</td>\n      <td>125117000.0</td>\n      <td>A</td>\n      <td>4510</td>\n      <td>451030</td>\n      <td>45</td>\n      <td>45103010</td>\n      <td>-0.176051</td>\n      <td>0.212845</td>\n      <td>0.036794</td>\n      <td>2022Q1</td>\n    </tr>\n    <tr>\n      <th>194165</th>\n      <td>347085</td>\n      <td>20220228</td>\n      <td>2021</td>\n      <td>4.0</td>\n      <td>INDL</td>\n      <td>C</td>\n      <td>D</td>\n      <td>STD</td>\n      <td>KARO</td>\n      <td>Y4600W108</td>\n      <td>...</td>\n      <td>177987000.0</td>\n      <td>A</td>\n      <td>4510</td>\n      <td>451030</td>\n      <td>45</td>\n      <td>45103010</td>\n      <td>0.239886</td>\n      <td>0.134103</td>\n      <td>0.373989</td>\n      <td>2022Q2</td>\n    </tr>\n  </tbody>\n</table>\n<p>89728 rows × 28 columns</p>\n</div>"
     },
     "execution_count": 202,
     "metadata": {},
     "output_type": "execute_result"
    }
   ],
   "source": [
    "# financial_history['RevenueGrowthRate'] = financial_history['revtq'].pct_change(periods=4)\n",
    "# sort values by id and quarter\n",
    "# shift by negative 4\n",
    "# check borders (make sure you are heetoi\n",
    "import numpy as np\n",
    "from scipy import stats\n",
    "financial_history['RevenueGrowthRate'] = financial_history.groupby(['cusip'])['revtq'].pct_change(periods=4)\n",
    "financial_history = financial_history.dropna()\n",
    "financial_history = financial_history.drop(financial_history[financial_history.RevenueGrowthRate == float('inf')].index)\n",
    "financial_history = financial_history.drop(financial_history[financial_history.RevenueGrowthRate == float('-inf')].index)\n",
    "financial_history['NetProfitMargin'] = financial_history['niq']/financial_history['revtq']\n",
    "financial_history = financial_history.drop(financial_history[financial_history.NetProfitMargin == float('inf')].index)\n",
    "financial_history = financial_history.dropna()\n",
    "financial_history['gp_score'] = financial_history['NetProfitMargin'] + financial_history['RevenueGrowthRate']\n",
    "def create_forward_quarter(row):\n",
    "    cq = row['datacqtr']\n",
    "    year = cq[0:4]\n",
    "    quarter = cq[4:]\n",
    "    if quarter == 'Q1':\n",
    "        return year + 'Q2'\n",
    "    elif quarter == 'Q2':\n",
    "        return year + 'Q3'\n",
    "    elif quarter == 'Q3':\n",
    "        return year + 'Q4'\n",
    "    elif quarter == 'Q4':\n",
    "        year = str(int(year) + 1)\n",
    "        return year + 'Q1'\n",
    "financial_history['forward_c_qtr'] = financial_history.apply(create_forward_quarter, axis=1)\n",
    "financial_history"
   ],
   "metadata": {
    "collapsed": false,
    "pycharm": {
     "name": "#%%\n"
    }
   }
  },
  {
   "cell_type": "code",
   "execution_count": 203,
   "outputs": [
    {
     "data": {
      "text/plain": "        HdrCUSIP9 Ticker ICBIndustry  MthCalDt     MthCap  Year  Month  \\\n0       233269109   DPAC     NOAVAIL  19950131   32899.50  1995    131   \n1       233269109   DPAC     NOAVAIL  19950228   31994.38  1995    228   \n2       233269109   DPAC     NOAVAIL  19950331   31537.31  1995    331   \n3       233269109   DPAC     NOAVAIL  19950428   29252.00  1995    428   \n4       233269109   DPAC     NOAVAIL  19950531   29270.00  1995    531   \n...           ...    ...         ...       ...        ...   ...    ...   \n375531  695255109   PACT        TECH  20131129  535518.72  2013   1129   \n375532  695255109   PACT        TECH  20131231  543886.20  2013   1231   \n375533  695255109   PACT        TECH  20140131  544646.88  2014    131   \n375534  695255109   PACT        TECH  20140228  547689.60  2014    228   \n375535  695255109   PACT        TECH  20140331  550732.32  2014    331   \n\n       Quarter forward_c_qtr  \n0           Q1        1995Q1  \n1           Q1        1995Q1  \n2           Q1        1995Q1  \n3           Q2        1995Q2  \n4           Q2        1995Q2  \n...        ...           ...  \n375531      Q4        2013Q4  \n375532      Q4        2013Q4  \n375533      Q1        2014Q1  \n375534      Q1        2014Q1  \n375535      Q1        2014Q1  \n\n[375536 rows x 9 columns]",
      "text/html": "<div>\n<style scoped>\n    .dataframe tbody tr th:only-of-type {\n        vertical-align: middle;\n    }\n\n    .dataframe tbody tr th {\n        vertical-align: top;\n    }\n\n    .dataframe thead th {\n        text-align: right;\n    }\n</style>\n<table border=\"1\" class=\"dataframe\">\n  <thead>\n    <tr style=\"text-align: right;\">\n      <th></th>\n      <th>HdrCUSIP9</th>\n      <th>Ticker</th>\n      <th>ICBIndustry</th>\n      <th>MthCalDt</th>\n      <th>MthCap</th>\n      <th>Year</th>\n      <th>Month</th>\n      <th>Quarter</th>\n      <th>forward_c_qtr</th>\n    </tr>\n  </thead>\n  <tbody>\n    <tr>\n      <th>0</th>\n      <td>233269109</td>\n      <td>DPAC</td>\n      <td>NOAVAIL</td>\n      <td>19950131</td>\n      <td>32899.50</td>\n      <td>1995</td>\n      <td>131</td>\n      <td>Q1</td>\n      <td>1995Q1</td>\n    </tr>\n    <tr>\n      <th>1</th>\n      <td>233269109</td>\n      <td>DPAC</td>\n      <td>NOAVAIL</td>\n      <td>19950228</td>\n      <td>31994.38</td>\n      <td>1995</td>\n      <td>228</td>\n      <td>Q1</td>\n      <td>1995Q1</td>\n    </tr>\n    <tr>\n      <th>2</th>\n      <td>233269109</td>\n      <td>DPAC</td>\n      <td>NOAVAIL</td>\n      <td>19950331</td>\n      <td>31537.31</td>\n      <td>1995</td>\n      <td>331</td>\n      <td>Q1</td>\n      <td>1995Q1</td>\n    </tr>\n    <tr>\n      <th>3</th>\n      <td>233269109</td>\n      <td>DPAC</td>\n      <td>NOAVAIL</td>\n      <td>19950428</td>\n      <td>29252.00</td>\n      <td>1995</td>\n      <td>428</td>\n      <td>Q2</td>\n      <td>1995Q2</td>\n    </tr>\n    <tr>\n      <th>4</th>\n      <td>233269109</td>\n      <td>DPAC</td>\n      <td>NOAVAIL</td>\n      <td>19950531</td>\n      <td>29270.00</td>\n      <td>1995</td>\n      <td>531</td>\n      <td>Q2</td>\n      <td>1995Q2</td>\n    </tr>\n    <tr>\n      <th>...</th>\n      <td>...</td>\n      <td>...</td>\n      <td>...</td>\n      <td>...</td>\n      <td>...</td>\n      <td>...</td>\n      <td>...</td>\n      <td>...</td>\n      <td>...</td>\n    </tr>\n    <tr>\n      <th>375531</th>\n      <td>695255109</td>\n      <td>PACT</td>\n      <td>TECH</td>\n      <td>20131129</td>\n      <td>535518.72</td>\n      <td>2013</td>\n      <td>1129</td>\n      <td>Q4</td>\n      <td>2013Q4</td>\n    </tr>\n    <tr>\n      <th>375532</th>\n      <td>695255109</td>\n      <td>PACT</td>\n      <td>TECH</td>\n      <td>20131231</td>\n      <td>543886.20</td>\n      <td>2013</td>\n      <td>1231</td>\n      <td>Q4</td>\n      <td>2013Q4</td>\n    </tr>\n    <tr>\n      <th>375533</th>\n      <td>695255109</td>\n      <td>PACT</td>\n      <td>TECH</td>\n      <td>20140131</td>\n      <td>544646.88</td>\n      <td>2014</td>\n      <td>131</td>\n      <td>Q1</td>\n      <td>2014Q1</td>\n    </tr>\n    <tr>\n      <th>375534</th>\n      <td>695255109</td>\n      <td>PACT</td>\n      <td>TECH</td>\n      <td>20140228</td>\n      <td>547689.60</td>\n      <td>2014</td>\n      <td>228</td>\n      <td>Q1</td>\n      <td>2014Q1</td>\n    </tr>\n    <tr>\n      <th>375535</th>\n      <td>695255109</td>\n      <td>PACT</td>\n      <td>TECH</td>\n      <td>20140331</td>\n      <td>550732.32</td>\n      <td>2014</td>\n      <td>331</td>\n      <td>Q1</td>\n      <td>2014Q1</td>\n    </tr>\n  </tbody>\n</table>\n<p>375536 rows × 9 columns</p>\n</div>"
     },
     "execution_count": 203,
     "metadata": {},
     "output_type": "execute_result"
    }
   ],
   "source": [
    "market_cap_history = pd.read_csv('market-cap-history.csv')\n",
    "market_cap_history['Year'] = market_cap_history['MthCalDt'] // 10000\n",
    "market_cap_history['Month'] = market_cap_history['MthCalDt'].map(str)\n",
    "market_cap_history['Month'] = market_cap_history['Month'].str[4:8]\n",
    "market_cap_history['Month'] = market_cap_history['Month'].map(int)\n",
    "def assign_quarter(row):\n",
    "    if row['Month'] < 400:\n",
    "        return 'Q1'\n",
    "    elif row['Month'] < 700:\n",
    "        return 'Q2'\n",
    "    elif row['Month'] < 1000:\n",
    "        return 'Q3'\n",
    "    else:\n",
    "        return 'Q4'\n",
    "market_cap_history['Quarter'] = market_cap_history.apply(assign_quarter, axis=1)\n",
    "market_cap_history['Year'] = market_cap_history['Year'].map(str)\n",
    "market_cap_history['forward_c_qtr'] = market_cap_history['Year'] + market_cap_history['Quarter']\n",
    "market_cap_history['MthCap'] = market_cap_history['MthCap'].str.replace(',', '')\n",
    "market_cap_history['MthCap'] = market_cap_history['MthCap'].map(float)\n",
    "market_cap_history"
   ],
   "metadata": {
    "collapsed": false,
    "pycharm": {
     "name": "#%%\n"
    }
   }
  },
  {
   "cell_type": "code",
   "execution_count": 204,
   "outputs": [
    {
     "data": {
      "text/plain": "            cusip forward_c_qtr     QAvgMktCap\n0       000794107        1995Q1  115785.833333\n1       000794107        1995Q2  111033.916667\n2       000794107        1995Q3  135890.000000\n3       000794107        1995Q4  170517.520000\n4       000794107        1996Q1  233866.480000\n...           ...           ...            ...\n126802  Y93691106        2010Q3  507375.600000\n126803  Y93691106        2010Q4  620360.750000\n126804  Y93691106        2011Q1  816955.746667\n126805  Y93691106        2011Q2  889203.046667\n126806  Y93691106        2011Q3  925950.000000\n\n[126807 rows x 3 columns]",
      "text/html": "<div>\n<style scoped>\n    .dataframe tbody tr th:only-of-type {\n        vertical-align: middle;\n    }\n\n    .dataframe tbody tr th {\n        vertical-align: top;\n    }\n\n    .dataframe thead th {\n        text-align: right;\n    }\n</style>\n<table border=\"1\" class=\"dataframe\">\n  <thead>\n    <tr style=\"text-align: right;\">\n      <th></th>\n      <th>cusip</th>\n      <th>forward_c_qtr</th>\n      <th>QAvgMktCap</th>\n    </tr>\n  </thead>\n  <tbody>\n    <tr>\n      <th>0</th>\n      <td>000794107</td>\n      <td>1995Q1</td>\n      <td>115785.833333</td>\n    </tr>\n    <tr>\n      <th>1</th>\n      <td>000794107</td>\n      <td>1995Q2</td>\n      <td>111033.916667</td>\n    </tr>\n    <tr>\n      <th>2</th>\n      <td>000794107</td>\n      <td>1995Q3</td>\n      <td>135890.000000</td>\n    </tr>\n    <tr>\n      <th>3</th>\n      <td>000794107</td>\n      <td>1995Q4</td>\n      <td>170517.520000</td>\n    </tr>\n    <tr>\n      <th>4</th>\n      <td>000794107</td>\n      <td>1996Q1</td>\n      <td>233866.480000</td>\n    </tr>\n    <tr>\n      <th>...</th>\n      <td>...</td>\n      <td>...</td>\n      <td>...</td>\n    </tr>\n    <tr>\n      <th>126802</th>\n      <td>Y93691106</td>\n      <td>2010Q3</td>\n      <td>507375.600000</td>\n    </tr>\n    <tr>\n      <th>126803</th>\n      <td>Y93691106</td>\n      <td>2010Q4</td>\n      <td>620360.750000</td>\n    </tr>\n    <tr>\n      <th>126804</th>\n      <td>Y93691106</td>\n      <td>2011Q1</td>\n      <td>816955.746667</td>\n    </tr>\n    <tr>\n      <th>126805</th>\n      <td>Y93691106</td>\n      <td>2011Q2</td>\n      <td>889203.046667</td>\n    </tr>\n    <tr>\n      <th>126806</th>\n      <td>Y93691106</td>\n      <td>2011Q3</td>\n      <td>925950.000000</td>\n    </tr>\n  </tbody>\n</table>\n<p>126807 rows × 3 columns</p>\n</div>"
     },
     "execution_count": 204,
     "metadata": {},
     "output_type": "execute_result"
    }
   ],
   "source": [
    "quarterly_avg_market_cap = market_cap_history.groupby(['HdrCUSIP9', 'forward_c_qtr'], as_index=False)['MthCap'].mean()\n",
    "quarterly_avg_market_cap.rename(columns={'HdrCUSIP9': 'cusip', 'forward_c_qtr': 'forward_c_qtr', 'MthCap': 'QAvgMktCap'}, inplace=True)\n",
    "quarterly_avg_market_cap\n",
    "\n"
   ],
   "metadata": {
    "collapsed": false,
    "pycharm": {
     "name": "#%%\n"
    }
   }
  },
  {
   "cell_type": "code",
   "execution_count": 205,
   "outputs": [
    {
     "data": {
      "text/plain": "        gvkey  datadate  fyearq  fqtr indfmt consol popsrc datafmt     tic  \\\n0        1013  19960131    1996   1.0   INDL      C      D     STD  ADCT.1   \n1        1013  19960430    1996   2.0   INDL      C      D     STD  ADCT.1   \n2        1013  19960731    1996   3.0   INDL      C      D     STD  ADCT.1   \n3        1013  19961031    1996   4.0   INDL      C      D     STD  ADCT.1   \n4        1013  19970131    1997   1.0   INDL      C      D     STD  ADCT.1   \n...       ...       ...     ...   ...    ...    ...    ...     ...     ...   \n75851  339965  20220131    2021   4.0   INDL      C      D     STD    SNOW   \n75852  347085  20210228    2020   4.0   INDL      C      D     STD    KARO   \n75853  347085  20210531    2021   1.0   INDL      C      D     STD    KARO   \n75854  347085  20210831    2021   2.0   INDL      C      D     STD    KARO   \n75855  347085  20211130    2021   3.0   INDL      C      D     STD    KARO   \n\n           cusip  ... ggroup    gind gsector   gsubind  RevenueGrowthRate  \\\n0      000886309  ...   4520  452010      45  45201020           0.335186   \n1      000886309  ...   4520  452010      45  45201020           0.375590   \n2      000886309  ...   4520  452010      45  45201020           0.444382   \n3      000886309  ...   4520  452010      45  45201020           0.468754   \n4      000886309  ...   4520  452010      45  45201020           0.579282   \n...          ...  ...    ...     ...     ...       ...                ...   \n75851  833445109  ...   4510  451020      45  45102030           1.014932   \n75852  Y4600W108  ...   4510  451030      45  45103010          -0.655309   \n75853  Y4600W108  ...   4510  451030      45  45103010           0.501583   \n75854  Y4600W108  ...   4510  451030      45  45103010           0.279928   \n75855  Y4600W108  ...   4510  451030      45  45103010          -0.176051   \n\n       NetProfitMargin  gp_score  forward_c_qtr    QAvgMktCap    PS_Ratio  \n0             0.100332  0.435518         1996Q1  2.362022e+09   14.527386  \n1             0.103075  0.478665         1996Q2  2.841057e+09   14.716463  \n2             0.106630  0.551011         1996Q3  3.525744e+09   16.224268  \n3             0.110091  0.578845         1996Q4  4.413026e+09   17.302456  \n4             0.040483  0.619764         1997Q1  3.907296e+09   15.216691  \n...                ...       ...            ...           ...         ...  \n75851        -0.344351  0.670581         2022Q1  7.868745e+10  205.035904  \n75852         0.099153 -0.556156         2021Q2  1.024185e+09   24.018787  \n75853         0.140965  0.642548         2021Q3  1.020867e+09   22.425797  \n75854         0.183020  0.462948         2021Q4  1.124347e+09   26.087535  \n75855         0.212845  0.036794         2022Q1  9.950045e+08   27.263385  \n\n[75856 rows x 30 columns]",
      "text/html": "<div>\n<style scoped>\n    .dataframe tbody tr th:only-of-type {\n        vertical-align: middle;\n    }\n\n    .dataframe tbody tr th {\n        vertical-align: top;\n    }\n\n    .dataframe thead th {\n        text-align: right;\n    }\n</style>\n<table border=\"1\" class=\"dataframe\">\n  <thead>\n    <tr style=\"text-align: right;\">\n      <th></th>\n      <th>gvkey</th>\n      <th>datadate</th>\n      <th>fyearq</th>\n      <th>fqtr</th>\n      <th>indfmt</th>\n      <th>consol</th>\n      <th>popsrc</th>\n      <th>datafmt</th>\n      <th>tic</th>\n      <th>cusip</th>\n      <th>...</th>\n      <th>ggroup</th>\n      <th>gind</th>\n      <th>gsector</th>\n      <th>gsubind</th>\n      <th>RevenueGrowthRate</th>\n      <th>NetProfitMargin</th>\n      <th>gp_score</th>\n      <th>forward_c_qtr</th>\n      <th>QAvgMktCap</th>\n      <th>PS_Ratio</th>\n    </tr>\n  </thead>\n  <tbody>\n    <tr>\n      <th>0</th>\n      <td>1013</td>\n      <td>19960131</td>\n      <td>1996</td>\n      <td>1.0</td>\n      <td>INDL</td>\n      <td>C</td>\n      <td>D</td>\n      <td>STD</td>\n      <td>ADCT.1</td>\n      <td>000886309</td>\n      <td>...</td>\n      <td>4520</td>\n      <td>452010</td>\n      <td>45</td>\n      <td>45201020</td>\n      <td>0.335186</td>\n      <td>0.100332</td>\n      <td>0.435518</td>\n      <td>1996Q1</td>\n      <td>2.362022e+09</td>\n      <td>14.527386</td>\n    </tr>\n    <tr>\n      <th>1</th>\n      <td>1013</td>\n      <td>19960430</td>\n      <td>1996</td>\n      <td>2.0</td>\n      <td>INDL</td>\n      <td>C</td>\n      <td>D</td>\n      <td>STD</td>\n      <td>ADCT.1</td>\n      <td>000886309</td>\n      <td>...</td>\n      <td>4520</td>\n      <td>452010</td>\n      <td>45</td>\n      <td>45201020</td>\n      <td>0.375590</td>\n      <td>0.103075</td>\n      <td>0.478665</td>\n      <td>1996Q2</td>\n      <td>2.841057e+09</td>\n      <td>14.716463</td>\n    </tr>\n    <tr>\n      <th>2</th>\n      <td>1013</td>\n      <td>19960731</td>\n      <td>1996</td>\n      <td>3.0</td>\n      <td>INDL</td>\n      <td>C</td>\n      <td>D</td>\n      <td>STD</td>\n      <td>ADCT.1</td>\n      <td>000886309</td>\n      <td>...</td>\n      <td>4520</td>\n      <td>452010</td>\n      <td>45</td>\n      <td>45201020</td>\n      <td>0.444382</td>\n      <td>0.106630</td>\n      <td>0.551011</td>\n      <td>1996Q3</td>\n      <td>3.525744e+09</td>\n      <td>16.224268</td>\n    </tr>\n    <tr>\n      <th>3</th>\n      <td>1013</td>\n      <td>19961031</td>\n      <td>1996</td>\n      <td>4.0</td>\n      <td>INDL</td>\n      <td>C</td>\n      <td>D</td>\n      <td>STD</td>\n      <td>ADCT.1</td>\n      <td>000886309</td>\n      <td>...</td>\n      <td>4520</td>\n      <td>452010</td>\n      <td>45</td>\n      <td>45201020</td>\n      <td>0.468754</td>\n      <td>0.110091</td>\n      <td>0.578845</td>\n      <td>1996Q4</td>\n      <td>4.413026e+09</td>\n      <td>17.302456</td>\n    </tr>\n    <tr>\n      <th>4</th>\n      <td>1013</td>\n      <td>19970131</td>\n      <td>1997</td>\n      <td>1.0</td>\n      <td>INDL</td>\n      <td>C</td>\n      <td>D</td>\n      <td>STD</td>\n      <td>ADCT.1</td>\n      <td>000886309</td>\n      <td>...</td>\n      <td>4520</td>\n      <td>452010</td>\n      <td>45</td>\n      <td>45201020</td>\n      <td>0.579282</td>\n      <td>0.040483</td>\n      <td>0.619764</td>\n      <td>1997Q1</td>\n      <td>3.907296e+09</td>\n      <td>15.216691</td>\n    </tr>\n    <tr>\n      <th>...</th>\n      <td>...</td>\n      <td>...</td>\n      <td>...</td>\n      <td>...</td>\n      <td>...</td>\n      <td>...</td>\n      <td>...</td>\n      <td>...</td>\n      <td>...</td>\n      <td>...</td>\n      <td>...</td>\n      <td>...</td>\n      <td>...</td>\n      <td>...</td>\n      <td>...</td>\n      <td>...</td>\n      <td>...</td>\n      <td>...</td>\n      <td>...</td>\n      <td>...</td>\n      <td>...</td>\n    </tr>\n    <tr>\n      <th>75851</th>\n      <td>339965</td>\n      <td>20220131</td>\n      <td>2021</td>\n      <td>4.0</td>\n      <td>INDL</td>\n      <td>C</td>\n      <td>D</td>\n      <td>STD</td>\n      <td>SNOW</td>\n      <td>833445109</td>\n      <td>...</td>\n      <td>4510</td>\n      <td>451020</td>\n      <td>45</td>\n      <td>45102030</td>\n      <td>1.014932</td>\n      <td>-0.344351</td>\n      <td>0.670581</td>\n      <td>2022Q1</td>\n      <td>7.868745e+10</td>\n      <td>205.035904</td>\n    </tr>\n    <tr>\n      <th>75852</th>\n      <td>347085</td>\n      <td>20210228</td>\n      <td>2020</td>\n      <td>4.0</td>\n      <td>INDL</td>\n      <td>C</td>\n      <td>D</td>\n      <td>STD</td>\n      <td>KARO</td>\n      <td>Y4600W108</td>\n      <td>...</td>\n      <td>4510</td>\n      <td>451030</td>\n      <td>45</td>\n      <td>45103010</td>\n      <td>-0.655309</td>\n      <td>0.099153</td>\n      <td>-0.556156</td>\n      <td>2021Q2</td>\n      <td>1.024185e+09</td>\n      <td>24.018787</td>\n    </tr>\n    <tr>\n      <th>75853</th>\n      <td>347085</td>\n      <td>20210531</td>\n      <td>2021</td>\n      <td>1.0</td>\n      <td>INDL</td>\n      <td>C</td>\n      <td>D</td>\n      <td>STD</td>\n      <td>KARO</td>\n      <td>Y4600W108</td>\n      <td>...</td>\n      <td>4510</td>\n      <td>451030</td>\n      <td>45</td>\n      <td>45103010</td>\n      <td>0.501583</td>\n      <td>0.140965</td>\n      <td>0.642548</td>\n      <td>2021Q3</td>\n      <td>1.020867e+09</td>\n      <td>22.425797</td>\n    </tr>\n    <tr>\n      <th>75854</th>\n      <td>347085</td>\n      <td>20210831</td>\n      <td>2021</td>\n      <td>2.0</td>\n      <td>INDL</td>\n      <td>C</td>\n      <td>D</td>\n      <td>STD</td>\n      <td>KARO</td>\n      <td>Y4600W108</td>\n      <td>...</td>\n      <td>4510</td>\n      <td>451030</td>\n      <td>45</td>\n      <td>45103010</td>\n      <td>0.279928</td>\n      <td>0.183020</td>\n      <td>0.462948</td>\n      <td>2021Q4</td>\n      <td>1.124347e+09</td>\n      <td>26.087535</td>\n    </tr>\n    <tr>\n      <th>75855</th>\n      <td>347085</td>\n      <td>20211130</td>\n      <td>2021</td>\n      <td>3.0</td>\n      <td>INDL</td>\n      <td>C</td>\n      <td>D</td>\n      <td>STD</td>\n      <td>KARO</td>\n      <td>Y4600W108</td>\n      <td>...</td>\n      <td>4510</td>\n      <td>451030</td>\n      <td>45</td>\n      <td>45103010</td>\n      <td>-0.176051</td>\n      <td>0.212845</td>\n      <td>0.036794</td>\n      <td>2022Q1</td>\n      <td>9.950045e+08</td>\n      <td>27.263385</td>\n    </tr>\n  </tbody>\n</table>\n<p>75856 rows × 30 columns</p>\n</div>"
     },
     "execution_count": 205,
     "metadata": {},
     "output_type": "execute_result"
    }
   ],
   "source": [
    "\n",
    "\n",
    "merged_data = pd.merge(financial_history, quarterly_avg_market_cap, on=['cusip', 'forward_c_qtr'])\n",
    "merged_data['QAvgMktCap'] = merged_data['QAvgMktCap'] * 1000\n",
    "merged_data['PS_Ratio'] = merged_data['QAvgMktCap']/merged_data['revtq']\n",
    "merged_data = merged_data.drop(merged_data[merged_data.PS_Ratio == float('inf')].index)\n",
    "merged_data = merged_data.drop(merged_data[merged_data.PS_Ratio == float('-inf')].index)\n",
    "merged_data"
   ],
   "metadata": {
    "collapsed": false,
    "pycharm": {
     "name": "#%%\n"
    }
   }
  },
  {
   "cell_type": "code",
   "execution_count": 206,
   "outputs": [
    {
     "data": {
      "text/plain": "forward_c_qtr\n1996Q4    7.260000\n1997Q1    7.380984\n1997Q2    7.513692\n1997Q3    7.070462\n1997Q4    6.874545\n            ...   \n2021Q4    2.508636\n2022Q1    3.352344\n2022Q2    4.661846\n2022Q3    5.164030\n2022Q4    6.191622\nName: bbb_interest_rate, Length: 105, dtype: float64"
     },
     "execution_count": 206,
     "metadata": {},
     "output_type": "execute_result"
    }
   ],
   "source": [
    "credit_interest_rates = pd.read_csv('BAMLC0A4CBBBEY.csv')\n",
    "credit_interest_rates['DATE'] = credit_interest_rates['DATE'].map(str)\n",
    "credit_interest_rates['DATE'] = credit_interest_rates['DATE'].str.replace('-', '')\n",
    "credit_interest_rates['DATE'] = credit_interest_rates['DATE'].map(int)\n",
    "credit_interest_rates['YEAR'] = credit_interest_rates['DATE'] // 10000\n",
    "credit_interest_rates['Month'] = credit_interest_rates['DATE'].map(str)\n",
    "credit_interest_rates['Month'] = credit_interest_rates['Month'].str[4:8]\n",
    "credit_interest_rates['Month'] = credit_interest_rates['Month'].map(int)\n",
    "def assign_quarter(row):\n",
    "    if row['Month'] < 400:\n",
    "        return 'Q1'\n",
    "    elif row['Month'] < 700:\n",
    "        return 'Q2'\n",
    "    elif row['Month'] < 1000:\n",
    "        return 'Q3'\n",
    "    else:\n",
    "        return 'Q4'\n",
    "credit_interest_rates['Quarter'] = credit_interest_rates.apply(assign_quarter, axis=1)\n",
    "credit_interest_rates['YEAR'] = credit_interest_rates['YEAR'].map(str)\n",
    "credit_interest_rates['forward_c_qtr'] = credit_interest_rates['YEAR'] + credit_interest_rates['Quarter']\n",
    "\n",
    "\n",
    "credit_interest_rates = credit_interest_rates.drop(credit_interest_rates[credit_interest_rates.BAMLC0A4CBBBEY == '.'].index)\n",
    "credit_interest_rates['bbb_interest_rate'] = credit_interest_rates['BAMLC0A4CBBBEY'].map(float)\n",
    "quarterly_interest_rates = credit_interest_rates.groupby('forward_c_qtr')['bbb_interest_rate'].mean()\n",
    "quarterly_interest_rates\n",
    "\n"
   ],
   "metadata": {
    "collapsed": false,
    "pycharm": {
     "name": "#%%\n"
    }
   }
  },
  {
   "cell_type": "code",
   "execution_count": 207,
   "outputs": [
    {
     "data": {
      "text/plain": "      forward_c_qtr  bbb_interest_rate     gvkey    datadate  fyearq  fqtr  \\\n0            1996Q4           7.260000    1013.0  19961031.0  1996.0   4.0   \n1            1996Q4           7.260000    1055.0  19960930.0  1996.0   3.0   \n2            1996Q4           7.260000    1056.0  19960930.0  1997.0   1.0   \n3            1996Q4           7.260000    1072.0  19960930.0  1996.0   2.0   \n4            1996Q4           7.260000    1161.0  19960930.0  1996.0   3.0   \n...             ...                ...       ...         ...     ...   ...   \n74747        2022Q1           3.352344  317637.0  20211231.0  2021.0   4.0   \n74748        2022Q1           3.352344  325942.0  20211231.0  2021.0   4.0   \n74749        2022Q1           3.352344  327832.0  20211231.0  2021.0   4.0   \n74750        2022Q1           3.352344  339965.0  20220131.0  2021.0   4.0   \n74751        2022Q1           3.352344  347085.0  20211130.0  2021.0   3.0   \n\n      indfmt consol popsrc datafmt  ... costat  ggroup      gind gsector  \\\n0       INDL      C      D     STD  ...      I  4520.0  452010.0    45.0   \n1       INDL      C      D     STD  ...      I  4520.0  452020.0    45.0   \n2       INDL      C      D     STD  ...      I  4520.0  452030.0    45.0   \n3       INDL      C      D     STD  ...      I  4520.0  452030.0    45.0   \n4       INDL      C      D     STD  ...      A  4530.0  453010.0    45.0   \n...      ...    ...    ...     ...  ...    ...     ...       ...     ...   \n74747   INDL      C      D     STD  ...      A  5020.0  502010.0    50.0   \n74748   INDL      C      D     STD  ...      A  5010.0  501010.0    50.0   \n74749   INDL      C      D     STD  ...      A  4510.0  451030.0    45.0   \n74750   INDL      C      D     STD  ...      A  4510.0  451020.0    45.0   \n74751   INDL      C      D     STD  ...      A  4510.0  451030.0    45.0   \n\n          gsubind RevenueGrowthRate  NetProfitMargin  gp_score    QAvgMktCap  \\\n0      45201020.0          0.468754         0.110091  0.578845  4.413026e+09   \n1      45202010.0         -0.390484        -0.331147 -0.721631  2.550284e+08   \n2      45203010.0         -0.114101         0.034154 -0.079948  5.696125e+07   \n3      45203015.0         -0.129139         0.105084 -0.024055  1.829667e+09   \n4      45301020.0         -0.247286        -0.083968 -0.331254  3.064836e+09   \n...           ...               ...              ...       ...           ...   \n74747  50201010.0          0.257685         0.237970  0.495655  2.206991e+08   \n74748  50101020.0          0.440922        -0.494379 -0.053457  1.260113e+09   \n74749  45103010.0          0.275427         0.447638  0.723065  8.337900e+07   \n74750  45102030.0          1.014932        -0.344351  0.670581  7.868745e+10   \n74751  45103010.0         -0.176051         0.212845  0.036794  9.950045e+08   \n\n         PS_Ratio  \n0       17.302456  \n1        0.624330  \n2        2.988366  \n3        6.829433  \n4        6.708450  \n...           ...  \n74747    2.152448  \n74748   43.452183  \n74749    2.568194  \n74750  205.035904  \n74751   27.263385  \n\n[74452 rows x 31 columns]",
      "text/html": "<div>\n<style scoped>\n    .dataframe tbody tr th:only-of-type {\n        vertical-align: middle;\n    }\n\n    .dataframe tbody tr th {\n        vertical-align: top;\n    }\n\n    .dataframe thead th {\n        text-align: right;\n    }\n</style>\n<table border=\"1\" class=\"dataframe\">\n  <thead>\n    <tr style=\"text-align: right;\">\n      <th></th>\n      <th>forward_c_qtr</th>\n      <th>bbb_interest_rate</th>\n      <th>gvkey</th>\n      <th>datadate</th>\n      <th>fyearq</th>\n      <th>fqtr</th>\n      <th>indfmt</th>\n      <th>consol</th>\n      <th>popsrc</th>\n      <th>datafmt</th>\n      <th>...</th>\n      <th>costat</th>\n      <th>ggroup</th>\n      <th>gind</th>\n      <th>gsector</th>\n      <th>gsubind</th>\n      <th>RevenueGrowthRate</th>\n      <th>NetProfitMargin</th>\n      <th>gp_score</th>\n      <th>QAvgMktCap</th>\n      <th>PS_Ratio</th>\n    </tr>\n  </thead>\n  <tbody>\n    <tr>\n      <th>0</th>\n      <td>1996Q4</td>\n      <td>7.260000</td>\n      <td>1013.0</td>\n      <td>19961031.0</td>\n      <td>1996.0</td>\n      <td>4.0</td>\n      <td>INDL</td>\n      <td>C</td>\n      <td>D</td>\n      <td>STD</td>\n      <td>...</td>\n      <td>I</td>\n      <td>4520.0</td>\n      <td>452010.0</td>\n      <td>45.0</td>\n      <td>45201020.0</td>\n      <td>0.468754</td>\n      <td>0.110091</td>\n      <td>0.578845</td>\n      <td>4.413026e+09</td>\n      <td>17.302456</td>\n    </tr>\n    <tr>\n      <th>1</th>\n      <td>1996Q4</td>\n      <td>7.260000</td>\n      <td>1055.0</td>\n      <td>19960930.0</td>\n      <td>1996.0</td>\n      <td>3.0</td>\n      <td>INDL</td>\n      <td>C</td>\n      <td>D</td>\n      <td>STD</td>\n      <td>...</td>\n      <td>I</td>\n      <td>4520.0</td>\n      <td>452020.0</td>\n      <td>45.0</td>\n      <td>45202010.0</td>\n      <td>-0.390484</td>\n      <td>-0.331147</td>\n      <td>-0.721631</td>\n      <td>2.550284e+08</td>\n      <td>0.624330</td>\n    </tr>\n    <tr>\n      <th>2</th>\n      <td>1996Q4</td>\n      <td>7.260000</td>\n      <td>1056.0</td>\n      <td>19960930.0</td>\n      <td>1997.0</td>\n      <td>1.0</td>\n      <td>INDL</td>\n      <td>C</td>\n      <td>D</td>\n      <td>STD</td>\n      <td>...</td>\n      <td>I</td>\n      <td>4520.0</td>\n      <td>452030.0</td>\n      <td>45.0</td>\n      <td>45203010.0</td>\n      <td>-0.114101</td>\n      <td>0.034154</td>\n      <td>-0.079948</td>\n      <td>5.696125e+07</td>\n      <td>2.988366</td>\n    </tr>\n    <tr>\n      <th>3</th>\n      <td>1996Q4</td>\n      <td>7.260000</td>\n      <td>1072.0</td>\n      <td>19960930.0</td>\n      <td>1996.0</td>\n      <td>2.0</td>\n      <td>INDL</td>\n      <td>C</td>\n      <td>D</td>\n      <td>STD</td>\n      <td>...</td>\n      <td>I</td>\n      <td>4520.0</td>\n      <td>452030.0</td>\n      <td>45.0</td>\n      <td>45203015.0</td>\n      <td>-0.129139</td>\n      <td>0.105084</td>\n      <td>-0.024055</td>\n      <td>1.829667e+09</td>\n      <td>6.829433</td>\n    </tr>\n    <tr>\n      <th>4</th>\n      <td>1996Q4</td>\n      <td>7.260000</td>\n      <td>1161.0</td>\n      <td>19960930.0</td>\n      <td>1996.0</td>\n      <td>3.0</td>\n      <td>INDL</td>\n      <td>C</td>\n      <td>D</td>\n      <td>STD</td>\n      <td>...</td>\n      <td>A</td>\n      <td>4530.0</td>\n      <td>453010.0</td>\n      <td>45.0</td>\n      <td>45301020.0</td>\n      <td>-0.247286</td>\n      <td>-0.083968</td>\n      <td>-0.331254</td>\n      <td>3.064836e+09</td>\n      <td>6.708450</td>\n    </tr>\n    <tr>\n      <th>...</th>\n      <td>...</td>\n      <td>...</td>\n      <td>...</td>\n      <td>...</td>\n      <td>...</td>\n      <td>...</td>\n      <td>...</td>\n      <td>...</td>\n      <td>...</td>\n      <td>...</td>\n      <td>...</td>\n      <td>...</td>\n      <td>...</td>\n      <td>...</td>\n      <td>...</td>\n      <td>...</td>\n      <td>...</td>\n      <td>...</td>\n      <td>...</td>\n      <td>...</td>\n      <td>...</td>\n    </tr>\n    <tr>\n      <th>74747</th>\n      <td>2022Q1</td>\n      <td>3.352344</td>\n      <td>317637.0</td>\n      <td>20211231.0</td>\n      <td>2021.0</td>\n      <td>4.0</td>\n      <td>INDL</td>\n      <td>C</td>\n      <td>D</td>\n      <td>STD</td>\n      <td>...</td>\n      <td>A</td>\n      <td>5020.0</td>\n      <td>502010.0</td>\n      <td>50.0</td>\n      <td>50201010.0</td>\n      <td>0.257685</td>\n      <td>0.237970</td>\n      <td>0.495655</td>\n      <td>2.206991e+08</td>\n      <td>2.152448</td>\n    </tr>\n    <tr>\n      <th>74748</th>\n      <td>2022Q1</td>\n      <td>3.352344</td>\n      <td>325942.0</td>\n      <td>20211231.0</td>\n      <td>2021.0</td>\n      <td>4.0</td>\n      <td>INDL</td>\n      <td>C</td>\n      <td>D</td>\n      <td>STD</td>\n      <td>...</td>\n      <td>A</td>\n      <td>5010.0</td>\n      <td>501010.0</td>\n      <td>50.0</td>\n      <td>50101020.0</td>\n      <td>0.440922</td>\n      <td>-0.494379</td>\n      <td>-0.053457</td>\n      <td>1.260113e+09</td>\n      <td>43.452183</td>\n    </tr>\n    <tr>\n      <th>74749</th>\n      <td>2022Q1</td>\n      <td>3.352344</td>\n      <td>327832.0</td>\n      <td>20211231.0</td>\n      <td>2021.0</td>\n      <td>4.0</td>\n      <td>INDL</td>\n      <td>C</td>\n      <td>D</td>\n      <td>STD</td>\n      <td>...</td>\n      <td>A</td>\n      <td>4510.0</td>\n      <td>451030.0</td>\n      <td>45.0</td>\n      <td>45103010.0</td>\n      <td>0.275427</td>\n      <td>0.447638</td>\n      <td>0.723065</td>\n      <td>8.337900e+07</td>\n      <td>2.568194</td>\n    </tr>\n    <tr>\n      <th>74750</th>\n      <td>2022Q1</td>\n      <td>3.352344</td>\n      <td>339965.0</td>\n      <td>20220131.0</td>\n      <td>2021.0</td>\n      <td>4.0</td>\n      <td>INDL</td>\n      <td>C</td>\n      <td>D</td>\n      <td>STD</td>\n      <td>...</td>\n      <td>A</td>\n      <td>4510.0</td>\n      <td>451020.0</td>\n      <td>45.0</td>\n      <td>45102030.0</td>\n      <td>1.014932</td>\n      <td>-0.344351</td>\n      <td>0.670581</td>\n      <td>7.868745e+10</td>\n      <td>205.035904</td>\n    </tr>\n    <tr>\n      <th>74751</th>\n      <td>2022Q1</td>\n      <td>3.352344</td>\n      <td>347085.0</td>\n      <td>20211130.0</td>\n      <td>2021.0</td>\n      <td>3.0</td>\n      <td>INDL</td>\n      <td>C</td>\n      <td>D</td>\n      <td>STD</td>\n      <td>...</td>\n      <td>A</td>\n      <td>4510.0</td>\n      <td>451030.0</td>\n      <td>45.0</td>\n      <td>45103010.0</td>\n      <td>-0.176051</td>\n      <td>0.212845</td>\n      <td>0.036794</td>\n      <td>9.950045e+08</td>\n      <td>27.263385</td>\n    </tr>\n  </tbody>\n</table>\n<p>74452 rows × 31 columns</p>\n</div>"
     },
     "execution_count": 207,
     "metadata": {},
     "output_type": "execute_result"
    }
   ],
   "source": [
    "full_data = pd.merge(quarterly_interest_rates, merged_data, how='outer', on='forward_c_qtr')\n",
    "full_data = full_data.dropna()\n",
    "full_data\n"
   ],
   "metadata": {
    "collapsed": false,
    "pycharm": {
     "name": "#%%\n"
    }
   }
  },
  {
   "cell_type": "code",
   "execution_count": 208,
   "outputs": [
    {
     "name": "stdout",
     "output_type": "stream",
     "text": [
      "Low interest rate env, lower growth, but above 40 gp score\n",
      "count    1194.000000\n",
      "mean       22.575556\n",
      "std        21.954631\n",
      "min         0.037465\n",
      "25%         7.936354\n",
      "50%        16.738207\n",
      "75%        31.480503\n",
      "max       239.791932\n",
      "Name: PS_Ratio, dtype: float64\n",
      "Low interest rate env, higher growth, but below 40 gp score\n",
      "count    992.000000\n",
      "mean      37.673518\n",
      "std       41.049235\n",
      "min        0.028583\n",
      "25%        9.307112\n",
      "50%       25.920618\n",
      "75%       50.736701\n",
      "max      318.168975\n",
      "Name: PS_Ratio, dtype: float64\n",
      "Higher interest rate env, lower growth, but above 40 gp score\n",
      "count    1951.000000\n",
      "mean       16.378203\n",
      "std        15.535804\n",
      "min         0.004282\n",
      "25%         6.430889\n",
      "50%        12.725100\n",
      "75%        22.619874\n",
      "max       294.357944\n",
      "Name: PS_Ratio, dtype: float64\n",
      "Higher interest rate env, higher growth, but below 40 gp score\n",
      "count    1142.000000\n",
      "mean       12.170105\n",
      "std        23.498391\n",
      "min         0.001538\n",
      "25%         2.590542\n",
      "50%         6.462134\n",
      "75%        13.614448\n",
      "max       519.131327\n",
      "Name: PS_Ratio, dtype: float64\n"
     ]
    }
   ],
   "source": [
    "# The Rule of 40 states that a software company’s growth rate added to its profitability should equal 40\n",
    "\n",
    "above_40 = full_data[(full_data['gp_score'] >= 0.4)]\n",
    "below_40 = full_data[(full_data['gp_score'] < 0.4)]\n",
    "\n",
    "hg_below_40 = below_40[(below_40['RevenueGrowthRate'] > 0.35)]\n",
    "lg_above_40 = above_40[(above_40['RevenueGrowthRate']) < 0.35]\n",
    "\n",
    "li_lg_above_40 = lg_above_40[(lg_above_40['bbb_interest_rate']) < 4]\n",
    "li_hg_below_40 = hg_below_40[(hg_below_40['bbb_interest_rate']) < 4]\n",
    "\n",
    "hi_lg_above_40 = lg_above_40[(lg_above_40['bbb_interest_rate']) > 5]\n",
    "hi_hg_below_40 = hg_below_40[(hg_below_40['bbb_interest_rate']) > 5]\n",
    "\n",
    "print('Low interest rate env, lower growth, but above 40 gp score')\n",
    "print(li_lg_above_40['PS_Ratio'].describe())\n",
    "print('Low interest rate env, higher growth, but below 40 gp score')\n",
    "print(li_hg_below_40['PS_Ratio'].describe())\n",
    "\n",
    "print('Higher interest rate env, lower growth, but above 40 gp score')\n",
    "print(hi_lg_above_40['PS_Ratio'].describe())\n",
    "print('Higher interest rate env, higher growth, but below 40 gp score')\n",
    "print(hi_hg_below_40['PS_Ratio'].describe())\n",
    "\n",
    "\n",
    "\n"
   ],
   "metadata": {
    "collapsed": false,
    "pycharm": {
     "name": "#%%\n"
    }
   }
  },
  {
   "cell_type": "code",
   "execution_count": 209,
   "outputs": [
    {
     "name": "stdout",
     "output_type": "stream",
     "text": [
      "Telecommunication Services\n",
      "+ 30% Revenue Growth\n",
      "count    1544.000000\n",
      "mean        7.352738\n",
      "std        13.327133\n",
      "min         0.001538\n",
      "25%         0.650443\n",
      "50%         3.539815\n",
      "75%         8.565937\n",
      "max       226.735744\n",
      "Name: PS_Ratio, dtype: float64\n",
      "+ 20% Revenue Growth\n",
      "count    635.000000\n",
      "mean       5.616433\n",
      "std       11.468833\n",
      "min        0.003023\n",
      "25%        0.679412\n",
      "50%        2.850429\n",
      "75%        7.336221\n",
      "max      185.014640\n",
      "Name: PS_Ratio, dtype: float64\n",
      "+ < 20% Revenue Growth\n",
      "count    5405.000000\n",
      "mean        4.468609\n",
      "std         8.610385\n",
      "min         0.000494\n",
      "25%         0.593998\n",
      "50%         2.302813\n",
      "75%         5.894655\n",
      "max       252.626889\n",
      "Name: PS_Ratio, dtype: float64\n"
     ]
    }
   ],
   "source": [
    "# Playing around with data\n",
    "ts_group = full_data[(full_data['ggroup'] == 5010)]\n",
    "ts_group = ts_group[(ts_group['revtq'] >= 15000000)]\n",
    "\n",
    "high_growth = ts_group[(ts_group['RevenueGrowthRate'] >= 0.30)]\n",
    "mid_growth = ts_group[(ts_group['RevenueGrowthRate'] < 0.30) & (ts_group['RevenueGrowthRate'] >= 0.20)]\n",
    "low_growth = ts_group[(ts_group['RevenueGrowthRate'] < 0.20)]\n",
    "\n",
    "print('Telecommunication Services')\n",
    "print('+ 30% Revenue Growth')\n",
    "print(high_growth['PS_Ratio'].describe())\n",
    "print('+ 20% Revenue Growth')\n",
    "print(mid_growth['PS_Ratio'].describe())\n",
    "print('+ < 20% Revenue Growth')\n",
    "print(low_growth['PS_Ratio'].describe())\n",
    "\n",
    "\n",
    "\n",
    "\n"
   ],
   "metadata": {
    "collapsed": false,
    "pycharm": {
     "name": "#%%\n"
    }
   }
  }
 ],
 "metadata": {
  "kernelspec": {
   "display_name": "Python 3",
   "language": "python",
   "name": "python3"
  },
  "language_info": {
   "codemirror_mode": {
    "name": "ipython",
    "version": 2
   },
   "file_extension": ".py",
   "mimetype": "text/x-python",
   "name": "python",
   "nbconvert_exporter": "python",
   "pygments_lexer": "ipython2",
   "version": "2.7.6"
  }
 },
 "nbformat": 4,
 "nbformat_minor": 0
}