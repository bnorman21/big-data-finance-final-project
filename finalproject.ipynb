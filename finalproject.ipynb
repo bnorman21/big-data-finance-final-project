{
 "cells": [
  {
   "cell_type": "code",
   "execution_count": 2,
   "metadata": {
    "collapsed": true,
    "pycharm": {
     "name": "#%%\n"
    }
   },
   "outputs": [],
   "source": [
    "import pandas as pd\n",
    "financial_history = pd.read_csv('financial_results.csv')\n"
   ]
  },
  {
   "cell_type": "code",
   "execution_count": 3,
   "outputs": [
    {
     "name": "stdout",
     "output_type": "stream",
     "text": [
      "3257\n"
     ]
    },
    {
     "data": {
      "text/plain": "         gvkey  datadate  fyearq  fqtr indfmt consol popsrc datafmt     tic  \\\n0         1013  19950131    1995   1.0   INDL      C      D     STD  ADCT.1   \n1         1013  19950430    1995   2.0   INDL      C      D     STD  ADCT.1   \n2         1013  19950731    1995   3.0   INDL      C      D     STD  ADCT.1   \n3         1013  19951031    1995   4.0   INDL      C      D     STD  ADCT.1   \n4         1013  19960131    1996   1.0   INDL      C      D     STD  ADCT.1   \n...        ...       ...     ...   ...    ...    ...    ...     ...     ...   \n194161  347085  20210228    2020   4.0   INDL      C      D     STD    KARO   \n194162  347085  20210531    2021   1.0   INDL      C      D     STD    KARO   \n194163  347085  20210831    2021   2.0   INDL      C      D     STD    KARO   \n194164  347085  20211130    2021   3.0   INDL      C      D     STD    KARO   \n194165  347085  20220228    2021   4.0   INDL      C      D     STD    KARO   \n\n            cusip  ... epspxq         niq        revtq         niy  \\\n0       000886309  ...   0.38  10466000.0  121774000.0  10466000.0   \n1       000886309  ...   0.18  10389000.0  140342000.0         NaN   \n2       000886309  ...   0.26  15674000.0  150454000.0         NaN   \n3       000886309  ...   0.30  18657000.0  173652000.0         NaN   \n4       000886309  ...   0.26  16313000.0  162591000.0  16313000.0   \n...           ...  ...    ...         ...          ...         ...   \n194161  Y4600W108  ...   0.20   4228000.0   42641000.0  20965000.0   \n194162  Y4600W108  ...   0.25   6417000.0   45522000.0   6417000.0   \n194163  Y4600W108  ...   0.26   7888000.0   43099000.0  14305000.0   \n194164  Y4600W108  ...   0.25   7768000.0   36496000.0  22073000.0   \n194165  Y4600W108  ...   0.23   7090000.0   52870000.0  29163000.0   \n\n              revty  costat  ggroup    gind  gsector   gsubind  \n0       121774000.0       I    4520  452010       45  45201020  \n1               NaN       I    4520  452010       45  45201020  \n2               NaN       I    4520  452010       45  45201020  \n3               NaN       I    4520  452010       45  45201020  \n4       162591000.0       I    4520  452010       45  45201020  \n...             ...     ...     ...     ...      ...       ...  \n194161  150924000.0       A    4510  451030       45  45103010  \n194162   45522000.0       A    4510  451030       45  45103010  \n194163   88621000.0       A    4510  451030       45  45103010  \n194164  125117000.0       A    4510  451030       45  45103010  \n194165  177987000.0       A    4510  451030       45  45103010  \n\n[104645 rows x 24 columns]",
      "text/html": "<div>\n<style scoped>\n    .dataframe tbody tr th:only-of-type {\n        vertical-align: middle;\n    }\n\n    .dataframe tbody tr th {\n        vertical-align: top;\n    }\n\n    .dataframe thead th {\n        text-align: right;\n    }\n</style>\n<table border=\"1\" class=\"dataframe\">\n  <thead>\n    <tr style=\"text-align: right;\">\n      <th></th>\n      <th>gvkey</th>\n      <th>datadate</th>\n      <th>fyearq</th>\n      <th>fqtr</th>\n      <th>indfmt</th>\n      <th>consol</th>\n      <th>popsrc</th>\n      <th>datafmt</th>\n      <th>tic</th>\n      <th>cusip</th>\n      <th>...</th>\n      <th>epspxq</th>\n      <th>niq</th>\n      <th>revtq</th>\n      <th>niy</th>\n      <th>revty</th>\n      <th>costat</th>\n      <th>ggroup</th>\n      <th>gind</th>\n      <th>gsector</th>\n      <th>gsubind</th>\n    </tr>\n  </thead>\n  <tbody>\n    <tr>\n      <th>0</th>\n      <td>1013</td>\n      <td>19950131</td>\n      <td>1995</td>\n      <td>1.0</td>\n      <td>INDL</td>\n      <td>C</td>\n      <td>D</td>\n      <td>STD</td>\n      <td>ADCT.1</td>\n      <td>000886309</td>\n      <td>...</td>\n      <td>0.38</td>\n      <td>10466000.0</td>\n      <td>121774000.0</td>\n      <td>10466000.0</td>\n      <td>121774000.0</td>\n      <td>I</td>\n      <td>4520</td>\n      <td>452010</td>\n      <td>45</td>\n      <td>45201020</td>\n    </tr>\n    <tr>\n      <th>1</th>\n      <td>1013</td>\n      <td>19950430</td>\n      <td>1995</td>\n      <td>2.0</td>\n      <td>INDL</td>\n      <td>C</td>\n      <td>D</td>\n      <td>STD</td>\n      <td>ADCT.1</td>\n      <td>000886309</td>\n      <td>...</td>\n      <td>0.18</td>\n      <td>10389000.0</td>\n      <td>140342000.0</td>\n      <td>NaN</td>\n      <td>NaN</td>\n      <td>I</td>\n      <td>4520</td>\n      <td>452010</td>\n      <td>45</td>\n      <td>45201020</td>\n    </tr>\n    <tr>\n      <th>2</th>\n      <td>1013</td>\n      <td>19950731</td>\n      <td>1995</td>\n      <td>3.0</td>\n      <td>INDL</td>\n      <td>C</td>\n      <td>D</td>\n      <td>STD</td>\n      <td>ADCT.1</td>\n      <td>000886309</td>\n      <td>...</td>\n      <td>0.26</td>\n      <td>15674000.0</td>\n      <td>150454000.0</td>\n      <td>NaN</td>\n      <td>NaN</td>\n      <td>I</td>\n      <td>4520</td>\n      <td>452010</td>\n      <td>45</td>\n      <td>45201020</td>\n    </tr>\n    <tr>\n      <th>3</th>\n      <td>1013</td>\n      <td>19951031</td>\n      <td>1995</td>\n      <td>4.0</td>\n      <td>INDL</td>\n      <td>C</td>\n      <td>D</td>\n      <td>STD</td>\n      <td>ADCT.1</td>\n      <td>000886309</td>\n      <td>...</td>\n      <td>0.30</td>\n      <td>18657000.0</td>\n      <td>173652000.0</td>\n      <td>NaN</td>\n      <td>NaN</td>\n      <td>I</td>\n      <td>4520</td>\n      <td>452010</td>\n      <td>45</td>\n      <td>45201020</td>\n    </tr>\n    <tr>\n      <th>4</th>\n      <td>1013</td>\n      <td>19960131</td>\n      <td>1996</td>\n      <td>1.0</td>\n      <td>INDL</td>\n      <td>C</td>\n      <td>D</td>\n      <td>STD</td>\n      <td>ADCT.1</td>\n      <td>000886309</td>\n      <td>...</td>\n      <td>0.26</td>\n      <td>16313000.0</td>\n      <td>162591000.0</td>\n      <td>16313000.0</td>\n      <td>162591000.0</td>\n      <td>I</td>\n      <td>4520</td>\n      <td>452010</td>\n      <td>45</td>\n      <td>45201020</td>\n    </tr>\n    <tr>\n      <th>...</th>\n      <td>...</td>\n      <td>...</td>\n      <td>...</td>\n      <td>...</td>\n      <td>...</td>\n      <td>...</td>\n      <td>...</td>\n      <td>...</td>\n      <td>...</td>\n      <td>...</td>\n      <td>...</td>\n      <td>...</td>\n      <td>...</td>\n      <td>...</td>\n      <td>...</td>\n      <td>...</td>\n      <td>...</td>\n      <td>...</td>\n      <td>...</td>\n      <td>...</td>\n      <td>...</td>\n    </tr>\n    <tr>\n      <th>194161</th>\n      <td>347085</td>\n      <td>20210228</td>\n      <td>2020</td>\n      <td>4.0</td>\n      <td>INDL</td>\n      <td>C</td>\n      <td>D</td>\n      <td>STD</td>\n      <td>KARO</td>\n      <td>Y4600W108</td>\n      <td>...</td>\n      <td>0.20</td>\n      <td>4228000.0</td>\n      <td>42641000.0</td>\n      <td>20965000.0</td>\n      <td>150924000.0</td>\n      <td>A</td>\n      <td>4510</td>\n      <td>451030</td>\n      <td>45</td>\n      <td>45103010</td>\n    </tr>\n    <tr>\n      <th>194162</th>\n      <td>347085</td>\n      <td>20210531</td>\n      <td>2021</td>\n      <td>1.0</td>\n      <td>INDL</td>\n      <td>C</td>\n      <td>D</td>\n      <td>STD</td>\n      <td>KARO</td>\n      <td>Y4600W108</td>\n      <td>...</td>\n      <td>0.25</td>\n      <td>6417000.0</td>\n      <td>45522000.0</td>\n      <td>6417000.0</td>\n      <td>45522000.0</td>\n      <td>A</td>\n      <td>4510</td>\n      <td>451030</td>\n      <td>45</td>\n      <td>45103010</td>\n    </tr>\n    <tr>\n      <th>194163</th>\n      <td>347085</td>\n      <td>20210831</td>\n      <td>2021</td>\n      <td>2.0</td>\n      <td>INDL</td>\n      <td>C</td>\n      <td>D</td>\n      <td>STD</td>\n      <td>KARO</td>\n      <td>Y4600W108</td>\n      <td>...</td>\n      <td>0.26</td>\n      <td>7888000.0</td>\n      <td>43099000.0</td>\n      <td>14305000.0</td>\n      <td>88621000.0</td>\n      <td>A</td>\n      <td>4510</td>\n      <td>451030</td>\n      <td>45</td>\n      <td>45103010</td>\n    </tr>\n    <tr>\n      <th>194164</th>\n      <td>347085</td>\n      <td>20211130</td>\n      <td>2021</td>\n      <td>3.0</td>\n      <td>INDL</td>\n      <td>C</td>\n      <td>D</td>\n      <td>STD</td>\n      <td>KARO</td>\n      <td>Y4600W108</td>\n      <td>...</td>\n      <td>0.25</td>\n      <td>7768000.0</td>\n      <td>36496000.0</td>\n      <td>22073000.0</td>\n      <td>125117000.0</td>\n      <td>A</td>\n      <td>4510</td>\n      <td>451030</td>\n      <td>45</td>\n      <td>45103010</td>\n    </tr>\n    <tr>\n      <th>194165</th>\n      <td>347085</td>\n      <td>20220228</td>\n      <td>2021</td>\n      <td>4.0</td>\n      <td>INDL</td>\n      <td>C</td>\n      <td>D</td>\n      <td>STD</td>\n      <td>KARO</td>\n      <td>Y4600W108</td>\n      <td>...</td>\n      <td>0.23</td>\n      <td>7090000.0</td>\n      <td>52870000.0</td>\n      <td>29163000.0</td>\n      <td>177987000.0</td>\n      <td>A</td>\n      <td>4510</td>\n      <td>451030</td>\n      <td>45</td>\n      <td>45103010</td>\n    </tr>\n  </tbody>\n</table>\n<p>104645 rows × 24 columns</p>\n</div>"
     },
     "execution_count": 3,
     "metadata": {},
     "output_type": "execute_result"
    }
   ],
   "source": [
    "financial_history['revtq'] = financial_history['revtq'] * 1000000\n",
    "financial_history['niq'] = financial_history['niq'] * 1000000\n",
    "financial_history['revty'] = financial_history['revty'] * 1000000\n",
    "financial_history['niy'] = financial_history['niy'] * 1000000\n",
    "financial_history = financial_history[(financial_history['revtq'] >= 15000000)]\n",
    "print(financial_history.cusip.unique().size)\n",
    "financial_history"
   ],
   "metadata": {
    "collapsed": false,
    "pycharm": {
     "name": "#%%\n"
    }
   }
  },
  {
   "cell_type": "code",
   "execution_count": 4,
   "outputs": [
    {
     "data": {
      "text/plain": "         gvkey  datadate  fyearq  fqtr indfmt consol popsrc datafmt     tic  \\\n4         1013  19960131    1996   1.0   INDL      C      D     STD  ADCT.1   \n5         1013  19960430    1996   2.0   INDL      C      D     STD  ADCT.1   \n6         1013  19960731    1996   3.0   INDL      C      D     STD  ADCT.1   \n7         1013  19961031    1996   4.0   INDL      C      D     STD  ADCT.1   \n8         1013  19970131    1997   1.0   INDL      C      D     STD  ADCT.1   \n...        ...       ...     ...   ...    ...    ...    ...     ...     ...   \n194161  347085  20210228    2020   4.0   INDL      C      D     STD    KARO   \n194162  347085  20210531    2021   1.0   INDL      C      D     STD    KARO   \n194163  347085  20210831    2021   2.0   INDL      C      D     STD    KARO   \n194164  347085  20211130    2021   3.0   INDL      C      D     STD    KARO   \n194165  347085  20220228    2021   4.0   INDL      C      D     STD    KARO   \n\n            cusip  ...        revty costat ggroup    gind  gsector   gsubind  \\\n4       000886309  ...  162591000.0      I   4520  452010       45  45201020   \n5       000886309  ...  355644000.0      I   4520  452010       45  45201020   \n6       000886309  ...  572957000.0      I   4520  452010       45  45201020   \n7       000886309  ...  828009000.0      I   4520  452010       45  45201020   \n8       000886309  ...  256777000.0      I   4520  452010       45  45201020   \n...           ...  ...          ...    ...    ...     ...      ...       ...   \n194161  Y4600W108  ...  150924000.0      A   4510  451030       45  45103010   \n194162  Y4600W108  ...   45522000.0      A   4510  451030       45  45103010   \n194163  Y4600W108  ...   88621000.0      A   4510  451030       45  45103010   \n194164  Y4600W108  ...  125117000.0      A   4510  451030       45  45103010   \n194165  Y4600W108  ...  177987000.0      A   4510  451030       45  45103010   \n\n        RevenueGrowthRate  NetProfitMargin  gp_score forward_c_qtr  \n4                0.335186         0.100332  0.435518        1996Q1  \n5                0.375590         0.103075  0.478665        1996Q2  \n6                0.444382         0.106630  0.551011        1996Q3  \n7                0.468754         0.110091  0.578845        1996Q4  \n8                0.579282         0.040483  0.619764        1997Q1  \n...                   ...              ...       ...           ...  \n194161          -0.655309         0.099153 -0.556156        2021Q2  \n194162           0.501583         0.140965  0.642548        2021Q3  \n194163           0.279928         0.183020  0.462948        2021Q4  \n194164          -0.176051         0.212845  0.036794        2022Q1  \n194165           0.239886         0.134103  0.373989        2022Q2  \n\n[89728 rows x 28 columns]",
      "text/html": "<div>\n<style scoped>\n    .dataframe tbody tr th:only-of-type {\n        vertical-align: middle;\n    }\n\n    .dataframe tbody tr th {\n        vertical-align: top;\n    }\n\n    .dataframe thead th {\n        text-align: right;\n    }\n</style>\n<table border=\"1\" class=\"dataframe\">\n  <thead>\n    <tr style=\"text-align: right;\">\n      <th></th>\n      <th>gvkey</th>\n      <th>datadate</th>\n      <th>fyearq</th>\n      <th>fqtr</th>\n      <th>indfmt</th>\n      <th>consol</th>\n      <th>popsrc</th>\n      <th>datafmt</th>\n      <th>tic</th>\n      <th>cusip</th>\n      <th>...</th>\n      <th>revty</th>\n      <th>costat</th>\n      <th>ggroup</th>\n      <th>gind</th>\n      <th>gsector</th>\n      <th>gsubind</th>\n      <th>RevenueGrowthRate</th>\n      <th>NetProfitMargin</th>\n      <th>gp_score</th>\n      <th>forward_c_qtr</th>\n    </tr>\n  </thead>\n  <tbody>\n    <tr>\n      <th>4</th>\n      <td>1013</td>\n      <td>19960131</td>\n      <td>1996</td>\n      <td>1.0</td>\n      <td>INDL</td>\n      <td>C</td>\n      <td>D</td>\n      <td>STD</td>\n      <td>ADCT.1</td>\n      <td>000886309</td>\n      <td>...</td>\n      <td>162591000.0</td>\n      <td>I</td>\n      <td>4520</td>\n      <td>452010</td>\n      <td>45</td>\n      <td>45201020</td>\n      <td>0.335186</td>\n      <td>0.100332</td>\n      <td>0.435518</td>\n      <td>1996Q1</td>\n    </tr>\n    <tr>\n      <th>5</th>\n      <td>1013</td>\n      <td>19960430</td>\n      <td>1996</td>\n      <td>2.0</td>\n      <td>INDL</td>\n      <td>C</td>\n      <td>D</td>\n      <td>STD</td>\n      <td>ADCT.1</td>\n      <td>000886309</td>\n      <td>...</td>\n      <td>355644000.0</td>\n      <td>I</td>\n      <td>4520</td>\n      <td>452010</td>\n      <td>45</td>\n      <td>45201020</td>\n      <td>0.375590</td>\n      <td>0.103075</td>\n      <td>0.478665</td>\n      <td>1996Q2</td>\n    </tr>\n    <tr>\n      <th>6</th>\n      <td>1013</td>\n      <td>19960731</td>\n      <td>1996</td>\n      <td>3.0</td>\n      <td>INDL</td>\n      <td>C</td>\n      <td>D</td>\n      <td>STD</td>\n      <td>ADCT.1</td>\n      <td>000886309</td>\n      <td>...</td>\n      <td>572957000.0</td>\n      <td>I</td>\n      <td>4520</td>\n      <td>452010</td>\n      <td>45</td>\n      <td>45201020</td>\n      <td>0.444382</td>\n      <td>0.106630</td>\n      <td>0.551011</td>\n      <td>1996Q3</td>\n    </tr>\n    <tr>\n      <th>7</th>\n      <td>1013</td>\n      <td>19961031</td>\n      <td>1996</td>\n      <td>4.0</td>\n      <td>INDL</td>\n      <td>C</td>\n      <td>D</td>\n      <td>STD</td>\n      <td>ADCT.1</td>\n      <td>000886309</td>\n      <td>...</td>\n      <td>828009000.0</td>\n      <td>I</td>\n      <td>4520</td>\n      <td>452010</td>\n      <td>45</td>\n      <td>45201020</td>\n      <td>0.468754</td>\n      <td>0.110091</td>\n      <td>0.578845</td>\n      <td>1996Q4</td>\n    </tr>\n    <tr>\n      <th>8</th>\n      <td>1013</td>\n      <td>19970131</td>\n      <td>1997</td>\n      <td>1.0</td>\n      <td>INDL</td>\n      <td>C</td>\n      <td>D</td>\n      <td>STD</td>\n      <td>ADCT.1</td>\n      <td>000886309</td>\n      <td>...</td>\n      <td>256777000.0</td>\n      <td>I</td>\n      <td>4520</td>\n      <td>452010</td>\n      <td>45</td>\n      <td>45201020</td>\n      <td>0.579282</td>\n      <td>0.040483</td>\n      <td>0.619764</td>\n      <td>1997Q1</td>\n    </tr>\n    <tr>\n      <th>...</th>\n      <td>...</td>\n      <td>...</td>\n      <td>...</td>\n      <td>...</td>\n      <td>...</td>\n      <td>...</td>\n      <td>...</td>\n      <td>...</td>\n      <td>...</td>\n      <td>...</td>\n      <td>...</td>\n      <td>...</td>\n      <td>...</td>\n      <td>...</td>\n      <td>...</td>\n      <td>...</td>\n      <td>...</td>\n      <td>...</td>\n      <td>...</td>\n      <td>...</td>\n      <td>...</td>\n    </tr>\n    <tr>\n      <th>194161</th>\n      <td>347085</td>\n      <td>20210228</td>\n      <td>2020</td>\n      <td>4.0</td>\n      <td>INDL</td>\n      <td>C</td>\n      <td>D</td>\n      <td>STD</td>\n      <td>KARO</td>\n      <td>Y4600W108</td>\n      <td>...</td>\n      <td>150924000.0</td>\n      <td>A</td>\n      <td>4510</td>\n      <td>451030</td>\n      <td>45</td>\n      <td>45103010</td>\n      <td>-0.655309</td>\n      <td>0.099153</td>\n      <td>-0.556156</td>\n      <td>2021Q2</td>\n    </tr>\n    <tr>\n      <th>194162</th>\n      <td>347085</td>\n      <td>20210531</td>\n      <td>2021</td>\n      <td>1.0</td>\n      <td>INDL</td>\n      <td>C</td>\n      <td>D</td>\n      <td>STD</td>\n      <td>KARO</td>\n      <td>Y4600W108</td>\n      <td>...</td>\n      <td>45522000.0</td>\n      <td>A</td>\n      <td>4510</td>\n      <td>451030</td>\n      <td>45</td>\n      <td>45103010</td>\n      <td>0.501583</td>\n      <td>0.140965</td>\n      <td>0.642548</td>\n      <td>2021Q3</td>\n    </tr>\n    <tr>\n      <th>194163</th>\n      <td>347085</td>\n      <td>20210831</td>\n      <td>2021</td>\n      <td>2.0</td>\n      <td>INDL</td>\n      <td>C</td>\n      <td>D</td>\n      <td>STD</td>\n      <td>KARO</td>\n      <td>Y4600W108</td>\n      <td>...</td>\n      <td>88621000.0</td>\n      <td>A</td>\n      <td>4510</td>\n      <td>451030</td>\n      <td>45</td>\n      <td>45103010</td>\n      <td>0.279928</td>\n      <td>0.183020</td>\n      <td>0.462948</td>\n      <td>2021Q4</td>\n    </tr>\n    <tr>\n      <th>194164</th>\n      <td>347085</td>\n      <td>20211130</td>\n      <td>2021</td>\n      <td>3.0</td>\n      <td>INDL</td>\n      <td>C</td>\n      <td>D</td>\n      <td>STD</td>\n      <td>KARO</td>\n      <td>Y4600W108</td>\n      <td>...</td>\n      <td>125117000.0</td>\n      <td>A</td>\n      <td>4510</td>\n      <td>451030</td>\n      <td>45</td>\n      <td>45103010</td>\n      <td>-0.176051</td>\n      <td>0.212845</td>\n      <td>0.036794</td>\n      <td>2022Q1</td>\n    </tr>\n    <tr>\n      <th>194165</th>\n      <td>347085</td>\n      <td>20220228</td>\n      <td>2021</td>\n      <td>4.0</td>\n      <td>INDL</td>\n      <td>C</td>\n      <td>D</td>\n      <td>STD</td>\n      <td>KARO</td>\n      <td>Y4600W108</td>\n      <td>...</td>\n      <td>177987000.0</td>\n      <td>A</td>\n      <td>4510</td>\n      <td>451030</td>\n      <td>45</td>\n      <td>45103010</td>\n      <td>0.239886</td>\n      <td>0.134103</td>\n      <td>0.373989</td>\n      <td>2022Q2</td>\n    </tr>\n  </tbody>\n</table>\n<p>89728 rows × 28 columns</p>\n</div>"
     },
     "execution_count": 4,
     "metadata": {},
     "output_type": "execute_result"
    }
   ],
   "source": [
    "# financial_history['RevenueGrowthRate'] = financial_history['revtq'].pct_change(periods=4)\n",
    "# sort values by id and quarter\n",
    "# shift by negative 4\n",
    "# check borders (make sure you are heetoi\n",
    "import numpy as np\n",
    "from scipy import stats\n",
    "financial_history['RevenueGrowthRate'] = financial_history.groupby(['cusip'])['revtq'].pct_change(periods=4)\n",
    "financial_history = financial_history.dropna()\n",
    "financial_history = financial_history.drop(financial_history[financial_history.RevenueGrowthRate == float('inf')].index)\n",
    "financial_history = financial_history.drop(financial_history[financial_history.RevenueGrowthRate == float('-inf')].index)\n",
    "financial_history['NetProfitMargin'] = financial_history['niq']/financial_history['revtq']\n",
    "financial_history = financial_history.drop(financial_history[financial_history.NetProfitMargin == float('inf')].index)\n",
    "financial_history = financial_history.dropna()\n",
    "financial_history['gp_score'] = financial_history['NetProfitMargin'] + financial_history['RevenueGrowthRate']\n",
    "def create_forward_quarter(row):\n",
    "    cq = row['datacqtr']\n",
    "    year = cq[0:4]\n",
    "    quarter = cq[4:]\n",
    "    if quarter == 'Q1':\n",
    "        return year + 'Q2'\n",
    "    elif quarter == 'Q2':\n",
    "        return year + 'Q3'\n",
    "    elif quarter == 'Q3':\n",
    "        return year + 'Q4'\n",
    "    elif quarter == 'Q4':\n",
    "        year = str(int(year) + 1)\n",
    "        return year + 'Q1'\n",
    "financial_history['forward_c_qtr'] = financial_history.apply(create_forward_quarter, axis=1)\n",
    "financial_history"
   ],
   "metadata": {
    "collapsed": false,
    "pycharm": {
     "name": "#%%\n"
    }
   }
  },
  {
   "cell_type": "code",
   "execution_count": 5,
   "outputs": [
    {
     "data": {
      "text/plain": "        HdrCUSIP9 Ticker ICBIndustry  MthCalDt       MthCap  Year  Month  \\\n0       233269109   DPAC     NOAVAIL  19950131   32899500.0  1995    131   \n1       233269109   DPAC     NOAVAIL  19950228   31994380.0  1995    228   \n2       233269109   DPAC     NOAVAIL  19950331   31537310.0  1995    331   \n3       233269109   DPAC     NOAVAIL  19950428   29252000.0  1995    428   \n4       233269109   DPAC     NOAVAIL  19950531   29270000.0  1995    531   \n...           ...    ...         ...       ...          ...   ...    ...   \n375531  695255109   PACT        TECH  20131129  535518720.0  2013   1129   \n375532  695255109   PACT        TECH  20131231  543886200.0  2013   1231   \n375533  695255109   PACT        TECH  20140131  544646880.0  2014    131   \n375534  695255109   PACT        TECH  20140228  547689600.0  2014    228   \n375535  695255109   PACT        TECH  20140331  550732320.0  2014    331   \n\n       Quarter forward_c_qtr  \n0           Q1        1995Q1  \n1           Q1        1995Q1  \n2           Q1        1995Q1  \n3           Q2        1995Q2  \n4           Q2        1995Q2  \n...        ...           ...  \n375531      Q4        2013Q4  \n375532      Q4        2013Q4  \n375533      Q1        2014Q1  \n375534      Q1        2014Q1  \n375535      Q1        2014Q1  \n\n[375536 rows x 9 columns]",
      "text/html": "<div>\n<style scoped>\n    .dataframe tbody tr th:only-of-type {\n        vertical-align: middle;\n    }\n\n    .dataframe tbody tr th {\n        vertical-align: top;\n    }\n\n    .dataframe thead th {\n        text-align: right;\n    }\n</style>\n<table border=\"1\" class=\"dataframe\">\n  <thead>\n    <tr style=\"text-align: right;\">\n      <th></th>\n      <th>HdrCUSIP9</th>\n      <th>Ticker</th>\n      <th>ICBIndustry</th>\n      <th>MthCalDt</th>\n      <th>MthCap</th>\n      <th>Year</th>\n      <th>Month</th>\n      <th>Quarter</th>\n      <th>forward_c_qtr</th>\n    </tr>\n  </thead>\n  <tbody>\n    <tr>\n      <th>0</th>\n      <td>233269109</td>\n      <td>DPAC</td>\n      <td>NOAVAIL</td>\n      <td>19950131</td>\n      <td>32899500.0</td>\n      <td>1995</td>\n      <td>131</td>\n      <td>Q1</td>\n      <td>1995Q1</td>\n    </tr>\n    <tr>\n      <th>1</th>\n      <td>233269109</td>\n      <td>DPAC</td>\n      <td>NOAVAIL</td>\n      <td>19950228</td>\n      <td>31994380.0</td>\n      <td>1995</td>\n      <td>228</td>\n      <td>Q1</td>\n      <td>1995Q1</td>\n    </tr>\n    <tr>\n      <th>2</th>\n      <td>233269109</td>\n      <td>DPAC</td>\n      <td>NOAVAIL</td>\n      <td>19950331</td>\n      <td>31537310.0</td>\n      <td>1995</td>\n      <td>331</td>\n      <td>Q1</td>\n      <td>1995Q1</td>\n    </tr>\n    <tr>\n      <th>3</th>\n      <td>233269109</td>\n      <td>DPAC</td>\n      <td>NOAVAIL</td>\n      <td>19950428</td>\n      <td>29252000.0</td>\n      <td>1995</td>\n      <td>428</td>\n      <td>Q2</td>\n      <td>1995Q2</td>\n    </tr>\n    <tr>\n      <th>4</th>\n      <td>233269109</td>\n      <td>DPAC</td>\n      <td>NOAVAIL</td>\n      <td>19950531</td>\n      <td>29270000.0</td>\n      <td>1995</td>\n      <td>531</td>\n      <td>Q2</td>\n      <td>1995Q2</td>\n    </tr>\n    <tr>\n      <th>...</th>\n      <td>...</td>\n      <td>...</td>\n      <td>...</td>\n      <td>...</td>\n      <td>...</td>\n      <td>...</td>\n      <td>...</td>\n      <td>...</td>\n      <td>...</td>\n    </tr>\n    <tr>\n      <th>375531</th>\n      <td>695255109</td>\n      <td>PACT</td>\n      <td>TECH</td>\n      <td>20131129</td>\n      <td>535518720.0</td>\n      <td>2013</td>\n      <td>1129</td>\n      <td>Q4</td>\n      <td>2013Q4</td>\n    </tr>\n    <tr>\n      <th>375532</th>\n      <td>695255109</td>\n      <td>PACT</td>\n      <td>TECH</td>\n      <td>20131231</td>\n      <td>543886200.0</td>\n      <td>2013</td>\n      <td>1231</td>\n      <td>Q4</td>\n      <td>2013Q4</td>\n    </tr>\n    <tr>\n      <th>375533</th>\n      <td>695255109</td>\n      <td>PACT</td>\n      <td>TECH</td>\n      <td>20140131</td>\n      <td>544646880.0</td>\n      <td>2014</td>\n      <td>131</td>\n      <td>Q1</td>\n      <td>2014Q1</td>\n    </tr>\n    <tr>\n      <th>375534</th>\n      <td>695255109</td>\n      <td>PACT</td>\n      <td>TECH</td>\n      <td>20140228</td>\n      <td>547689600.0</td>\n      <td>2014</td>\n      <td>228</td>\n      <td>Q1</td>\n      <td>2014Q1</td>\n    </tr>\n    <tr>\n      <th>375535</th>\n      <td>695255109</td>\n      <td>PACT</td>\n      <td>TECH</td>\n      <td>20140331</td>\n      <td>550732320.0</td>\n      <td>2014</td>\n      <td>331</td>\n      <td>Q1</td>\n      <td>2014Q1</td>\n    </tr>\n  </tbody>\n</table>\n<p>375536 rows × 9 columns</p>\n</div>"
     },
     "execution_count": 5,
     "metadata": {},
     "output_type": "execute_result"
    }
   ],
   "source": [
    "market_cap_history = pd.read_csv('market-cap-history.csv')\n",
    "market_cap_history['Year'] = market_cap_history['MthCalDt'] // 10000\n",
    "market_cap_history['Month'] = market_cap_history['MthCalDt'].map(str)\n",
    "market_cap_history['Month'] = market_cap_history['Month'].str[4:8]\n",
    "market_cap_history['Month'] = market_cap_history['Month'].map(int)\n",
    "def assign_quarter(row):\n",
    "    if row['Month'] < 400:\n",
    "        return 'Q1'\n",
    "    elif row['Month'] < 700:\n",
    "        return 'Q2'\n",
    "    elif row['Month'] < 1000:\n",
    "        return 'Q3'\n",
    "    else:\n",
    "        return 'Q4'\n",
    "market_cap_history['Quarter'] = market_cap_history.apply(assign_quarter, axis=1)\n",
    "market_cap_history['Year'] = market_cap_history['Year'].map(str)\n",
    "market_cap_history['forward_c_qtr'] = market_cap_history['Year'] + market_cap_history['Quarter']\n",
    "market_cap_history['MthCap'] = market_cap_history['MthCap'].str.replace(',', '')\n",
    "market_cap_history['MthCap'] = market_cap_history['MthCap'].map(float)\n",
    "market_cap_history['MthCap'] = market_cap_history['MthCap'] * 1000\n",
    "market_cap_history"
   ],
   "metadata": {
    "collapsed": false,
    "pycharm": {
     "name": "#%%\n"
    }
   }
  },
  {
   "cell_type": "code",
   "execution_count": 6,
   "outputs": [
    {
     "data": {
      "text/plain": "            cusip forward_c_qtr    QAvgMktCap\n0       000794107        1995Q1  1.157858e+08\n1       000794107        1995Q2  1.110339e+08\n2       000794107        1995Q3  1.358900e+08\n3       000794107        1995Q4  1.705175e+08\n4       000794107        1996Q1  2.338665e+08\n...           ...           ...           ...\n126802  Y93691106        2010Q3  5.073756e+08\n126803  Y93691106        2010Q4  6.203608e+08\n126804  Y93691106        2011Q1  8.169557e+08\n126805  Y93691106        2011Q2  8.892030e+08\n126806  Y93691106        2011Q3  9.259500e+08\n\n[126807 rows x 3 columns]",
      "text/html": "<div>\n<style scoped>\n    .dataframe tbody tr th:only-of-type {\n        vertical-align: middle;\n    }\n\n    .dataframe tbody tr th {\n        vertical-align: top;\n    }\n\n    .dataframe thead th {\n        text-align: right;\n    }\n</style>\n<table border=\"1\" class=\"dataframe\">\n  <thead>\n    <tr style=\"text-align: right;\">\n      <th></th>\n      <th>cusip</th>\n      <th>forward_c_qtr</th>\n      <th>QAvgMktCap</th>\n    </tr>\n  </thead>\n  <tbody>\n    <tr>\n      <th>0</th>\n      <td>000794107</td>\n      <td>1995Q1</td>\n      <td>1.157858e+08</td>\n    </tr>\n    <tr>\n      <th>1</th>\n      <td>000794107</td>\n      <td>1995Q2</td>\n      <td>1.110339e+08</td>\n    </tr>\n    <tr>\n      <th>2</th>\n      <td>000794107</td>\n      <td>1995Q3</td>\n      <td>1.358900e+08</td>\n    </tr>\n    <tr>\n      <th>3</th>\n      <td>000794107</td>\n      <td>1995Q4</td>\n      <td>1.705175e+08</td>\n    </tr>\n    <tr>\n      <th>4</th>\n      <td>000794107</td>\n      <td>1996Q1</td>\n      <td>2.338665e+08</td>\n    </tr>\n    <tr>\n      <th>...</th>\n      <td>...</td>\n      <td>...</td>\n      <td>...</td>\n    </tr>\n    <tr>\n      <th>126802</th>\n      <td>Y93691106</td>\n      <td>2010Q3</td>\n      <td>5.073756e+08</td>\n    </tr>\n    <tr>\n      <th>126803</th>\n      <td>Y93691106</td>\n      <td>2010Q4</td>\n      <td>6.203608e+08</td>\n    </tr>\n    <tr>\n      <th>126804</th>\n      <td>Y93691106</td>\n      <td>2011Q1</td>\n      <td>8.169557e+08</td>\n    </tr>\n    <tr>\n      <th>126805</th>\n      <td>Y93691106</td>\n      <td>2011Q2</td>\n      <td>8.892030e+08</td>\n    </tr>\n    <tr>\n      <th>126806</th>\n      <td>Y93691106</td>\n      <td>2011Q3</td>\n      <td>9.259500e+08</td>\n    </tr>\n  </tbody>\n</table>\n<p>126807 rows × 3 columns</p>\n</div>"
     },
     "execution_count": 6,
     "metadata": {},
     "output_type": "execute_result"
    }
   ],
   "source": [
    "quarterly_avg_market_cap = market_cap_history.groupby(['HdrCUSIP9', 'forward_c_qtr'], as_index=False)['MthCap'].mean()\n",
    "quarterly_avg_market_cap.rename(columns={'HdrCUSIP9': 'cusip', 'forward_c_qtr': 'forward_c_qtr', 'MthCap': 'QAvgMktCap'}, inplace=True)\n",
    "quarterly_avg_market_cap\n",
    "\n"
   ],
   "metadata": {
    "collapsed": false,
    "pycharm": {
     "name": "#%%\n"
    }
   }
  },
  {
   "cell_type": "code",
   "execution_count": 7,
   "outputs": [
    {
     "data": {
      "text/plain": "        gvkey  datadate  fyearq  fqtr indfmt consol popsrc datafmt     tic  \\\n0        1013  19960131    1996   1.0   INDL      C      D     STD  ADCT.1   \n1        1013  19960430    1996   2.0   INDL      C      D     STD  ADCT.1   \n2        1013  19960731    1996   3.0   INDL      C      D     STD  ADCT.1   \n3        1013  19961031    1996   4.0   INDL      C      D     STD  ADCT.1   \n4        1013  19970131    1997   1.0   INDL      C      D     STD  ADCT.1   \n...       ...       ...     ...   ...    ...    ...    ...     ...     ...   \n75851  339965  20220131    2021   4.0   INDL      C      D     STD    SNOW   \n75852  347085  20210228    2020   4.0   INDL      C      D     STD    KARO   \n75853  347085  20210531    2021   1.0   INDL      C      D     STD    KARO   \n75854  347085  20210831    2021   2.0   INDL      C      D     STD    KARO   \n75855  347085  20211130    2021   3.0   INDL      C      D     STD    KARO   \n\n           cusip  ... ggroup    gind gsector   gsubind  RevenueGrowthRate  \\\n0      000886309  ...   4520  452010      45  45201020           0.335186   \n1      000886309  ...   4520  452010      45  45201020           0.375590   \n2      000886309  ...   4520  452010      45  45201020           0.444382   \n3      000886309  ...   4520  452010      45  45201020           0.468754   \n4      000886309  ...   4520  452010      45  45201020           0.579282   \n...          ...  ...    ...     ...     ...       ...                ...   \n75851  833445109  ...   4510  451020      45  45102030           1.014932   \n75852  Y4600W108  ...   4510  451030      45  45103010          -0.655309   \n75853  Y4600W108  ...   4510  451030      45  45103010           0.501583   \n75854  Y4600W108  ...   4510  451030      45  45103010           0.279928   \n75855  Y4600W108  ...   4510  451030      45  45103010          -0.176051   \n\n       NetProfitMargin  gp_score  forward_c_qtr    QAvgMktCap    PS_Ratio  \n0             0.100332  0.435518         1996Q1  2.362022e+09   14.527386  \n1             0.103075  0.478665         1996Q2  2.841057e+09   14.716463  \n2             0.106630  0.551011         1996Q3  3.525744e+09   16.224268  \n3             0.110091  0.578845         1996Q4  4.413026e+09   17.302456  \n4             0.040483  0.619764         1997Q1  3.907296e+09   15.216691  \n...                ...       ...            ...           ...         ...  \n75851        -0.344351  0.670581         2022Q1  7.868745e+10  205.035904  \n75852         0.099153 -0.556156         2021Q2  1.024185e+09   24.018787  \n75853         0.140965  0.642548         2021Q3  1.020867e+09   22.425797  \n75854         0.183020  0.462948         2021Q4  1.124347e+09   26.087535  \n75855         0.212845  0.036794         2022Q1  9.950045e+08   27.263385  \n\n[75856 rows x 30 columns]",
      "text/html": "<div>\n<style scoped>\n    .dataframe tbody tr th:only-of-type {\n        vertical-align: middle;\n    }\n\n    .dataframe tbody tr th {\n        vertical-align: top;\n    }\n\n    .dataframe thead th {\n        text-align: right;\n    }\n</style>\n<table border=\"1\" class=\"dataframe\">\n  <thead>\n    <tr style=\"text-align: right;\">\n      <th></th>\n      <th>gvkey</th>\n      <th>datadate</th>\n      <th>fyearq</th>\n      <th>fqtr</th>\n      <th>indfmt</th>\n      <th>consol</th>\n      <th>popsrc</th>\n      <th>datafmt</th>\n      <th>tic</th>\n      <th>cusip</th>\n      <th>...</th>\n      <th>ggroup</th>\n      <th>gind</th>\n      <th>gsector</th>\n      <th>gsubind</th>\n      <th>RevenueGrowthRate</th>\n      <th>NetProfitMargin</th>\n      <th>gp_score</th>\n      <th>forward_c_qtr</th>\n      <th>QAvgMktCap</th>\n      <th>PS_Ratio</th>\n    </tr>\n  </thead>\n  <tbody>\n    <tr>\n      <th>0</th>\n      <td>1013</td>\n      <td>19960131</td>\n      <td>1996</td>\n      <td>1.0</td>\n      <td>INDL</td>\n      <td>C</td>\n      <td>D</td>\n      <td>STD</td>\n      <td>ADCT.1</td>\n      <td>000886309</td>\n      <td>...</td>\n      <td>4520</td>\n      <td>452010</td>\n      <td>45</td>\n      <td>45201020</td>\n      <td>0.335186</td>\n      <td>0.100332</td>\n      <td>0.435518</td>\n      <td>1996Q1</td>\n      <td>2.362022e+09</td>\n      <td>14.527386</td>\n    </tr>\n    <tr>\n      <th>1</th>\n      <td>1013</td>\n      <td>19960430</td>\n      <td>1996</td>\n      <td>2.0</td>\n      <td>INDL</td>\n      <td>C</td>\n      <td>D</td>\n      <td>STD</td>\n      <td>ADCT.1</td>\n      <td>000886309</td>\n      <td>...</td>\n      <td>4520</td>\n      <td>452010</td>\n      <td>45</td>\n      <td>45201020</td>\n      <td>0.375590</td>\n      <td>0.103075</td>\n      <td>0.478665</td>\n      <td>1996Q2</td>\n      <td>2.841057e+09</td>\n      <td>14.716463</td>\n    </tr>\n    <tr>\n      <th>2</th>\n      <td>1013</td>\n      <td>19960731</td>\n      <td>1996</td>\n      <td>3.0</td>\n      <td>INDL</td>\n      <td>C</td>\n      <td>D</td>\n      <td>STD</td>\n      <td>ADCT.1</td>\n      <td>000886309</td>\n      <td>...</td>\n      <td>4520</td>\n      <td>452010</td>\n      <td>45</td>\n      <td>45201020</td>\n      <td>0.444382</td>\n      <td>0.106630</td>\n      <td>0.551011</td>\n      <td>1996Q3</td>\n      <td>3.525744e+09</td>\n      <td>16.224268</td>\n    </tr>\n    <tr>\n      <th>3</th>\n      <td>1013</td>\n      <td>19961031</td>\n      <td>1996</td>\n      <td>4.0</td>\n      <td>INDL</td>\n      <td>C</td>\n      <td>D</td>\n      <td>STD</td>\n      <td>ADCT.1</td>\n      <td>000886309</td>\n      <td>...</td>\n      <td>4520</td>\n      <td>452010</td>\n      <td>45</td>\n      <td>45201020</td>\n      <td>0.468754</td>\n      <td>0.110091</td>\n      <td>0.578845</td>\n      <td>1996Q4</td>\n      <td>4.413026e+09</td>\n      <td>17.302456</td>\n    </tr>\n    <tr>\n      <th>4</th>\n      <td>1013</td>\n      <td>19970131</td>\n      <td>1997</td>\n      <td>1.0</td>\n      <td>INDL</td>\n      <td>C</td>\n      <td>D</td>\n      <td>STD</td>\n      <td>ADCT.1</td>\n      <td>000886309</td>\n      <td>...</td>\n      <td>4520</td>\n      <td>452010</td>\n      <td>45</td>\n      <td>45201020</td>\n      <td>0.579282</td>\n      <td>0.040483</td>\n      <td>0.619764</td>\n      <td>1997Q1</td>\n      <td>3.907296e+09</td>\n      <td>15.216691</td>\n    </tr>\n    <tr>\n      <th>...</th>\n      <td>...</td>\n      <td>...</td>\n      <td>...</td>\n      <td>...</td>\n      <td>...</td>\n      <td>...</td>\n      <td>...</td>\n      <td>...</td>\n      <td>...</td>\n      <td>...</td>\n      <td>...</td>\n      <td>...</td>\n      <td>...</td>\n      <td>...</td>\n      <td>...</td>\n      <td>...</td>\n      <td>...</td>\n      <td>...</td>\n      <td>...</td>\n      <td>...</td>\n      <td>...</td>\n    </tr>\n    <tr>\n      <th>75851</th>\n      <td>339965</td>\n      <td>20220131</td>\n      <td>2021</td>\n      <td>4.0</td>\n      <td>INDL</td>\n      <td>C</td>\n      <td>D</td>\n      <td>STD</td>\n      <td>SNOW</td>\n      <td>833445109</td>\n      <td>...</td>\n      <td>4510</td>\n      <td>451020</td>\n      <td>45</td>\n      <td>45102030</td>\n      <td>1.014932</td>\n      <td>-0.344351</td>\n      <td>0.670581</td>\n      <td>2022Q1</td>\n      <td>7.868745e+10</td>\n      <td>205.035904</td>\n    </tr>\n    <tr>\n      <th>75852</th>\n      <td>347085</td>\n      <td>20210228</td>\n      <td>2020</td>\n      <td>4.0</td>\n      <td>INDL</td>\n      <td>C</td>\n      <td>D</td>\n      <td>STD</td>\n      <td>KARO</td>\n      <td>Y4600W108</td>\n      <td>...</td>\n      <td>4510</td>\n      <td>451030</td>\n      <td>45</td>\n      <td>45103010</td>\n      <td>-0.655309</td>\n      <td>0.099153</td>\n      <td>-0.556156</td>\n      <td>2021Q2</td>\n      <td>1.024185e+09</td>\n      <td>24.018787</td>\n    </tr>\n    <tr>\n      <th>75853</th>\n      <td>347085</td>\n      <td>20210531</td>\n      <td>2021</td>\n      <td>1.0</td>\n      <td>INDL</td>\n      <td>C</td>\n      <td>D</td>\n      <td>STD</td>\n      <td>KARO</td>\n      <td>Y4600W108</td>\n      <td>...</td>\n      <td>4510</td>\n      <td>451030</td>\n      <td>45</td>\n      <td>45103010</td>\n      <td>0.501583</td>\n      <td>0.140965</td>\n      <td>0.642548</td>\n      <td>2021Q3</td>\n      <td>1.020867e+09</td>\n      <td>22.425797</td>\n    </tr>\n    <tr>\n      <th>75854</th>\n      <td>347085</td>\n      <td>20210831</td>\n      <td>2021</td>\n      <td>2.0</td>\n      <td>INDL</td>\n      <td>C</td>\n      <td>D</td>\n      <td>STD</td>\n      <td>KARO</td>\n      <td>Y4600W108</td>\n      <td>...</td>\n      <td>4510</td>\n      <td>451030</td>\n      <td>45</td>\n      <td>45103010</td>\n      <td>0.279928</td>\n      <td>0.183020</td>\n      <td>0.462948</td>\n      <td>2021Q4</td>\n      <td>1.124347e+09</td>\n      <td>26.087535</td>\n    </tr>\n    <tr>\n      <th>75855</th>\n      <td>347085</td>\n      <td>20211130</td>\n      <td>2021</td>\n      <td>3.0</td>\n      <td>INDL</td>\n      <td>C</td>\n      <td>D</td>\n      <td>STD</td>\n      <td>KARO</td>\n      <td>Y4600W108</td>\n      <td>...</td>\n      <td>4510</td>\n      <td>451030</td>\n      <td>45</td>\n      <td>45103010</td>\n      <td>-0.176051</td>\n      <td>0.212845</td>\n      <td>0.036794</td>\n      <td>2022Q1</td>\n      <td>9.950045e+08</td>\n      <td>27.263385</td>\n    </tr>\n  </tbody>\n</table>\n<p>75856 rows × 30 columns</p>\n</div>"
     },
     "execution_count": 7,
     "metadata": {},
     "output_type": "execute_result"
    }
   ],
   "source": [
    "\n",
    "\n",
    "merged_data = pd.merge(financial_history, quarterly_avg_market_cap, on=['cusip', 'forward_c_qtr'])\n",
    "merged_data['PS_Ratio'] = merged_data['QAvgMktCap']/merged_data['revtq']\n",
    "merged_data = merged_data.drop(merged_data[merged_data.PS_Ratio == float('inf')].index)\n",
    "merged_data = merged_data.drop(merged_data[merged_data.PS_Ratio == float('-inf')].index)\n",
    "merged_data"
   ],
   "metadata": {
    "collapsed": false,
    "pycharm": {
     "name": "#%%\n"
    }
   }
  },
  {
   "cell_type": "code",
   "execution_count": 8,
   "outputs": [
    {
     "name": "stdout",
     "output_type": "stream",
     "text": [
      "(9.0, 10.0)\n",
      "2\n",
      "(8.5, 9.0)\n",
      "1\n",
      "(8.0, 8.5)\n",
      "4\n",
      "(7.5, 8.0)\n",
      "4\n",
      "(7.0, 7.5)\n",
      "8\n",
      "(6.5, 7.0)\n",
      "11\n",
      "(6.0, 6.5)\n",
      "8\n",
      "(5.5, 6.0)\n",
      "7\n",
      "(5.0, 5.5)\n",
      "11\n",
      "(4.5, 5.0)\n",
      "6\n",
      "(4.0, 4.5)\n",
      "11\n",
      "(3.5, 4.0)\n",
      "15\n",
      "(3.0, 3.5)\n",
      "11\n",
      "(2.5, 3.0)\n",
      "1\n",
      "(2.0, 2.5)\n",
      "5\n",
      "43\n"
     ]
    }
   ],
   "source": [
    "credit_interest_rates = pd.read_csv('BAMLC0A4CBBBEY.csv')\n",
    "credit_interest_rates['DATE'] = credit_interest_rates['DATE'].map(str)\n",
    "credit_interest_rates['DATE'] = credit_interest_rates['DATE'].str.replace('-', '')\n",
    "credit_interest_rates['DATE'] = credit_interest_rates['DATE'].map(int)\n",
    "credit_interest_rates['YEAR'] = credit_interest_rates['DATE'] // 10000\n",
    "credit_interest_rates['Month'] = credit_interest_rates['DATE'].map(str)\n",
    "credit_interest_rates['Month'] = credit_interest_rates['Month'].str[4:8]\n",
    "credit_interest_rates['Month'] = credit_interest_rates['Month'].map(int)\n",
    "def assign_quarter(row):\n",
    "    if row['Month'] < 400:\n",
    "        return 'Q1'\n",
    "    elif row['Month'] < 700:\n",
    "        return 'Q2'\n",
    "    elif row['Month'] < 1000:\n",
    "        return 'Q3'\n",
    "    else:\n",
    "        return 'Q4'\n",
    "credit_interest_rates['Quarter'] = credit_interest_rates.apply(assign_quarter, axis=1)\n",
    "credit_interest_rates['YEAR'] = credit_interest_rates['YEAR'].map(str)\n",
    "credit_interest_rates['forward_c_qtr'] = credit_interest_rates['YEAR'] + credit_interest_rates['Quarter']\n",
    "\n",
    "\n",
    "credit_interest_rates = credit_interest_rates.drop(credit_interest_rates[credit_interest_rates.BAMLC0A4CBBBEY == '.'].index)\n",
    "credit_interest_rates['bbb_interest_rate'] = credit_interest_rates['BAMLC0A4CBBBEY'].map(float)\n",
    "quarterly_interest_rates = credit_interest_rates.groupby('forward_c_qtr', as_index=False)['bbb_interest_rate'].mean()\n",
    "ir_envs = [(9.0, 10.0)]\n",
    "start = 9.0\n",
    "while start >= 2.5:\n",
    "    ir_envs.append((start - 0.5, start))\n",
    "    start = start - 0.5\n",
    "for ir_env in ir_envs:\n",
    "    low, high = ir_env\n",
    "    print(ir_env)\n",
    "    print(quarterly_interest_rates[(quarterly_interest_rates['bbb_interest_rate'] <= high) & (quarterly_interest_rates['bbb_interest_rate'] > low)].forward_c_qtr.unique().size)\n",
    "low_interest_rates = quarterly_interest_rates[(quarterly_interest_rates['bbb_interest_rate'] <= 4.5)]\n",
    "print(low_interest_rates.forward_c_qtr.unique().size)\n",
    "\n"
   ],
   "metadata": {
    "collapsed": false,
    "pycharm": {
     "name": "#%%\n"
    }
   }
  },
  {
   "cell_type": "code",
   "execution_count": 9,
   "outputs": [
    {
     "name": "stdout",
     "output_type": "stream",
     "text": [
      "count    74452.000000\n",
      "mean        10.392080\n",
      "std         16.881599\n",
      "min          0.000494\n",
      "25%          2.541393\n",
      "50%          6.100624\n",
      "75%         12.268191\n",
      "max        644.066366\n",
      "Name: PS_Ratio, dtype: float64\n",
      "count    74452.000000\n",
      "mean         5.317562\n",
      "std          1.732198\n",
      "min          2.234030\n",
      "25%          3.740794\n",
      "50%          5.140896\n",
      "75%          6.747846\n",
      "max          9.615000\n",
      "Name: bbb_interest_rate, dtype: float64\n",
      "count    74452.000000\n",
      "mean        -0.033614\n",
      "std          0.926905\n",
      "min       -123.892936\n",
      "25%         -0.043262\n",
      "50%          0.038193\n",
      "75%          0.108146\n",
      "max         36.718704\n",
      "Name: NetProfitMargin, dtype: float64\n",
      "count    74452.000000\n",
      "mean         0.162942\n",
      "std          0.586519\n",
      "min         -0.987451\n",
      "25%         -0.039563\n",
      "50%          0.088741\n",
      "75%          0.261513\n",
      "max         65.885361\n",
      "Name: RevenueGrowthRate, dtype: float64\n"
     ]
    }
   ],
   "source": [
    "full_data = pd.merge(quarterly_interest_rates, merged_data, how='outer', on='forward_c_qtr')\n",
    "full_data = full_data.dropna()\n",
    "\n",
    "print(full_data['PS_Ratio'].describe())\n",
    "print(full_data['bbb_interest_rate'].describe())\n",
    "print(full_data['NetProfitMargin'].describe())\n",
    "print(full_data['RevenueGrowthRate'].describe())\n"
   ],
   "metadata": {
    "collapsed": false,
    "pycharm": {
     "name": "#%%\n"
    }
   }
  },
  {
   "cell_type": "code",
   "execution_count": 14,
   "outputs": [
    {
     "data": {
      "text/plain": "      forward_c_qtr  bbb_interest_rate     gvkey    datadate  fyearq  fqtr  \\\n0            1996Q4           7.260000    1013.0  19961031.0  1996.0   4.0   \n1            1996Q4           7.260000    1055.0  19960930.0  1996.0   3.0   \n2            1996Q4           7.260000    1056.0  19960930.0  1997.0   1.0   \n3            1996Q4           7.260000    1072.0  19960930.0  1996.0   2.0   \n4            1996Q4           7.260000    1161.0  19960930.0  1996.0   3.0   \n...             ...                ...       ...         ...     ...   ...   \n74747        2022Q1           3.352344  317637.0  20211231.0  2021.0   4.0   \n74748        2022Q1           3.352344  325942.0  20211231.0  2021.0   4.0   \n74749        2022Q1           3.352344  327832.0  20211231.0  2021.0   4.0   \n74750        2022Q1           3.352344  339965.0  20220131.0  2021.0   4.0   \n74751        2022Q1           3.352344  347085.0  20211130.0  2021.0   3.0   \n\n      indfmt consol popsrc datafmt  ... costat  ggroup      gind gsector  \\\n0       INDL      C      D     STD  ...      I  4520.0  452010.0    45.0   \n1       INDL      C      D     STD  ...      I  4520.0  452020.0    45.0   \n2       INDL      C      D     STD  ...      I  4520.0  452030.0    45.0   \n3       INDL      C      D     STD  ...      I  4520.0  452030.0    45.0   \n4       INDL      C      D     STD  ...      A  4530.0  453010.0    45.0   \n...      ...    ...    ...     ...  ...    ...     ...       ...     ...   \n74747   INDL      C      D     STD  ...      A  5020.0  502010.0    50.0   \n74748   INDL      C      D     STD  ...      A  5010.0  501010.0    50.0   \n74749   INDL      C      D     STD  ...      A  4510.0  451030.0    45.0   \n74750   INDL      C      D     STD  ...      A  4510.0  451020.0    45.0   \n74751   INDL      C      D     STD  ...      A  4510.0  451030.0    45.0   \n\n          gsubind RevenueGrowthRate  NetProfitMargin  gp_score    QAvgMktCap  \\\n0      45201020.0          0.468754         0.110091  0.578845  4.413026e+09   \n1      45202010.0         -0.390484        -0.331147 -0.721631  2.550284e+08   \n2      45203010.0         -0.114101         0.034154 -0.079948  5.696125e+07   \n3      45203015.0         -0.129139         0.105084 -0.024055  1.829667e+09   \n4      45301020.0         -0.247286        -0.083968 -0.331254  3.064836e+09   \n...           ...               ...              ...       ...           ...   \n74747  50201010.0          0.257685         0.237970  0.495655  2.206991e+08   \n74748  50101020.0          0.440922        -0.494379 -0.053457  1.260113e+09   \n74749  45103010.0          0.275427         0.447638  0.723065  8.337900e+07   \n74750  45102030.0          1.014932        -0.344351  0.670581  7.868745e+10   \n74751  45103010.0         -0.176051         0.212845  0.036794  9.950045e+08   \n\n         PS_Ratio  \n0       17.302456  \n1        0.624330  \n2        2.988366  \n3        6.829433  \n4        6.708450  \n...           ...  \n74747    2.152448  \n74748   43.452183  \n74749    2.568194  \n74750  205.035904  \n74751   27.263385  \n\n[74452 rows x 31 columns]",
      "text/html": "<div>\n<style scoped>\n    .dataframe tbody tr th:only-of-type {\n        vertical-align: middle;\n    }\n\n    .dataframe tbody tr th {\n        vertical-align: top;\n    }\n\n    .dataframe thead th {\n        text-align: right;\n    }\n</style>\n<table border=\"1\" class=\"dataframe\">\n  <thead>\n    <tr style=\"text-align: right;\">\n      <th></th>\n      <th>forward_c_qtr</th>\n      <th>bbb_interest_rate</th>\n      <th>gvkey</th>\n      <th>datadate</th>\n      <th>fyearq</th>\n      <th>fqtr</th>\n      <th>indfmt</th>\n      <th>consol</th>\n      <th>popsrc</th>\n      <th>datafmt</th>\n      <th>...</th>\n      <th>costat</th>\n      <th>ggroup</th>\n      <th>gind</th>\n      <th>gsector</th>\n      <th>gsubind</th>\n      <th>RevenueGrowthRate</th>\n      <th>NetProfitMargin</th>\n      <th>gp_score</th>\n      <th>QAvgMktCap</th>\n      <th>PS_Ratio</th>\n    </tr>\n  </thead>\n  <tbody>\n    <tr>\n      <th>0</th>\n      <td>1996Q4</td>\n      <td>7.260000</td>\n      <td>1013.0</td>\n      <td>19961031.0</td>\n      <td>1996.0</td>\n      <td>4.0</td>\n      <td>INDL</td>\n      <td>C</td>\n      <td>D</td>\n      <td>STD</td>\n      <td>...</td>\n      <td>I</td>\n      <td>4520.0</td>\n      <td>452010.0</td>\n      <td>45.0</td>\n      <td>45201020.0</td>\n      <td>0.468754</td>\n      <td>0.110091</td>\n      <td>0.578845</td>\n      <td>4.413026e+09</td>\n      <td>17.302456</td>\n    </tr>\n    <tr>\n      <th>1</th>\n      <td>1996Q4</td>\n      <td>7.260000</td>\n      <td>1055.0</td>\n      <td>19960930.0</td>\n      <td>1996.0</td>\n      <td>3.0</td>\n      <td>INDL</td>\n      <td>C</td>\n      <td>D</td>\n      <td>STD</td>\n      <td>...</td>\n      <td>I</td>\n      <td>4520.0</td>\n      <td>452020.0</td>\n      <td>45.0</td>\n      <td>45202010.0</td>\n      <td>-0.390484</td>\n      <td>-0.331147</td>\n      <td>-0.721631</td>\n      <td>2.550284e+08</td>\n      <td>0.624330</td>\n    </tr>\n    <tr>\n      <th>2</th>\n      <td>1996Q4</td>\n      <td>7.260000</td>\n      <td>1056.0</td>\n      <td>19960930.0</td>\n      <td>1997.0</td>\n      <td>1.0</td>\n      <td>INDL</td>\n      <td>C</td>\n      <td>D</td>\n      <td>STD</td>\n      <td>...</td>\n      <td>I</td>\n      <td>4520.0</td>\n      <td>452030.0</td>\n      <td>45.0</td>\n      <td>45203010.0</td>\n      <td>-0.114101</td>\n      <td>0.034154</td>\n      <td>-0.079948</td>\n      <td>5.696125e+07</td>\n      <td>2.988366</td>\n    </tr>\n    <tr>\n      <th>3</th>\n      <td>1996Q4</td>\n      <td>7.260000</td>\n      <td>1072.0</td>\n      <td>19960930.0</td>\n      <td>1996.0</td>\n      <td>2.0</td>\n      <td>INDL</td>\n      <td>C</td>\n      <td>D</td>\n      <td>STD</td>\n      <td>...</td>\n      <td>I</td>\n      <td>4520.0</td>\n      <td>452030.0</td>\n      <td>45.0</td>\n      <td>45203015.0</td>\n      <td>-0.129139</td>\n      <td>0.105084</td>\n      <td>-0.024055</td>\n      <td>1.829667e+09</td>\n      <td>6.829433</td>\n    </tr>\n    <tr>\n      <th>4</th>\n      <td>1996Q4</td>\n      <td>7.260000</td>\n      <td>1161.0</td>\n      <td>19960930.0</td>\n      <td>1996.0</td>\n      <td>3.0</td>\n      <td>INDL</td>\n      <td>C</td>\n      <td>D</td>\n      <td>STD</td>\n      <td>...</td>\n      <td>A</td>\n      <td>4530.0</td>\n      <td>453010.0</td>\n      <td>45.0</td>\n      <td>45301020.0</td>\n      <td>-0.247286</td>\n      <td>-0.083968</td>\n      <td>-0.331254</td>\n      <td>3.064836e+09</td>\n      <td>6.708450</td>\n    </tr>\n    <tr>\n      <th>...</th>\n      <td>...</td>\n      <td>...</td>\n      <td>...</td>\n      <td>...</td>\n      <td>...</td>\n      <td>...</td>\n      <td>...</td>\n      <td>...</td>\n      <td>...</td>\n      <td>...</td>\n      <td>...</td>\n      <td>...</td>\n      <td>...</td>\n      <td>...</td>\n      <td>...</td>\n      <td>...</td>\n      <td>...</td>\n      <td>...</td>\n      <td>...</td>\n      <td>...</td>\n      <td>...</td>\n    </tr>\n    <tr>\n      <th>74747</th>\n      <td>2022Q1</td>\n      <td>3.352344</td>\n      <td>317637.0</td>\n      <td>20211231.0</td>\n      <td>2021.0</td>\n      <td>4.0</td>\n      <td>INDL</td>\n      <td>C</td>\n      <td>D</td>\n      <td>STD</td>\n      <td>...</td>\n      <td>A</td>\n      <td>5020.0</td>\n      <td>502010.0</td>\n      <td>50.0</td>\n      <td>50201010.0</td>\n      <td>0.257685</td>\n      <td>0.237970</td>\n      <td>0.495655</td>\n      <td>2.206991e+08</td>\n      <td>2.152448</td>\n    </tr>\n    <tr>\n      <th>74748</th>\n      <td>2022Q1</td>\n      <td>3.352344</td>\n      <td>325942.0</td>\n      <td>20211231.0</td>\n      <td>2021.0</td>\n      <td>4.0</td>\n      <td>INDL</td>\n      <td>C</td>\n      <td>D</td>\n      <td>STD</td>\n      <td>...</td>\n      <td>A</td>\n      <td>5010.0</td>\n      <td>501010.0</td>\n      <td>50.0</td>\n      <td>50101020.0</td>\n      <td>0.440922</td>\n      <td>-0.494379</td>\n      <td>-0.053457</td>\n      <td>1.260113e+09</td>\n      <td>43.452183</td>\n    </tr>\n    <tr>\n      <th>74749</th>\n      <td>2022Q1</td>\n      <td>3.352344</td>\n      <td>327832.0</td>\n      <td>20211231.0</td>\n      <td>2021.0</td>\n      <td>4.0</td>\n      <td>INDL</td>\n      <td>C</td>\n      <td>D</td>\n      <td>STD</td>\n      <td>...</td>\n      <td>A</td>\n      <td>4510.0</td>\n      <td>451030.0</td>\n      <td>45.0</td>\n      <td>45103010.0</td>\n      <td>0.275427</td>\n      <td>0.447638</td>\n      <td>0.723065</td>\n      <td>8.337900e+07</td>\n      <td>2.568194</td>\n    </tr>\n    <tr>\n      <th>74750</th>\n      <td>2022Q1</td>\n      <td>3.352344</td>\n      <td>339965.0</td>\n      <td>20220131.0</td>\n      <td>2021.0</td>\n      <td>4.0</td>\n      <td>INDL</td>\n      <td>C</td>\n      <td>D</td>\n      <td>STD</td>\n      <td>...</td>\n      <td>A</td>\n      <td>4510.0</td>\n      <td>451020.0</td>\n      <td>45.0</td>\n      <td>45102030.0</td>\n      <td>1.014932</td>\n      <td>-0.344351</td>\n      <td>0.670581</td>\n      <td>7.868745e+10</td>\n      <td>205.035904</td>\n    </tr>\n    <tr>\n      <th>74751</th>\n      <td>2022Q1</td>\n      <td>3.352344</td>\n      <td>347085.0</td>\n      <td>20211130.0</td>\n      <td>2021.0</td>\n      <td>3.0</td>\n      <td>INDL</td>\n      <td>C</td>\n      <td>D</td>\n      <td>STD</td>\n      <td>...</td>\n      <td>A</td>\n      <td>4510.0</td>\n      <td>451030.0</td>\n      <td>45.0</td>\n      <td>45103010.0</td>\n      <td>-0.176051</td>\n      <td>0.212845</td>\n      <td>0.036794</td>\n      <td>9.950045e+08</td>\n      <td>27.263385</td>\n    </tr>\n  </tbody>\n</table>\n<p>74452 rows × 31 columns</p>\n</div>"
     },
     "execution_count": 14,
     "metadata": {},
     "output_type": "execute_result"
    }
   ],
   "source": [
    "full_data"
   ],
   "metadata": {
    "collapsed": false,
    "pycharm": {
     "name": "#%%\n"
    }
   }
  },
  {
   "cell_type": "code",
   "execution_count": 10,
   "outputs": [
    {
     "name": "stdout",
     "output_type": "stream",
     "text": [
      "      forward_c_qtr  bbb_interest_rate     gvkey    datadate  fyearq  fqtr  \\\n",
      "12           1996Q4           7.260000    1500.0  19960930.0  1996.0   3.0   \n",
      "16           1996Q4           7.260000    1634.0  19960930.0  1997.0   1.0   \n",
      "59           1996Q4           7.260000    3798.0  19960930.0  1996.0   3.0   \n",
      "69           1996Q4           7.260000    4279.0  19960930.0  1996.0   3.0   \n",
      "130          1996Q4           7.260000    7345.0  19960930.0  1996.0   3.0   \n",
      "...             ...                ...       ...         ...     ...   ...   \n",
      "74629        2022Q1           3.352344  155894.0  20211231.0  2021.0   4.0   \n",
      "74684        2022Q1           3.352344  178377.0  20211231.0  2021.0   4.0   \n",
      "74713        2022Q1           3.352344  187118.0  20211231.0  2021.0   4.0   \n",
      "74714        2022Q1           3.352344  187122.0  20211231.0  2021.0   3.0   \n",
      "74748        2022Q1           3.352344  325942.0  20211231.0  2021.0   4.0   \n",
      "\n",
      "      indfmt consol popsrc datafmt  ... costat  ggroup      gind gsector  \\\n",
      "12      INDL      C      D     STD  ...      I  4510.0  451020.0    45.0   \n",
      "16      INDL      C      D     STD  ...      I  4510.0  451020.0    45.0   \n",
      "59      INDL      C      D     STD  ...      I  4520.0  452010.0    45.0   \n",
      "69      INDL      C      D     STD  ...      I  4520.0  452010.0    45.0   \n",
      "130     INDL      C      D     STD  ...      I  4510.0  451030.0    45.0   \n",
      "...      ...    ...    ...     ...  ...    ...     ...       ...     ...   \n",
      "74629   INDL      C      D     STD  ...      A  4510.0  451020.0    45.0   \n",
      "74684   INDL      C      D     STD  ...      A  4530.0  453010.0    45.0   \n",
      "74713   INDL      C      D     STD  ...      A  5020.0  502030.0    50.0   \n",
      "74714   INDL      C      D     STD  ...      A  5020.0  502020.0    50.0   \n",
      "74748   INDL      C      D     STD  ...      A  5010.0  501010.0    50.0   \n",
      "\n",
      "          gsubind RevenueGrowthRate  NetProfitMargin  gp_score    QAvgMktCap  \\\n",
      "12     45102010.0          0.336833         0.049195  0.386028  1.247951e+09   \n",
      "16     45102010.0          0.341462         0.039461  0.380923  3.862903e+08   \n",
      "59     45201020.0          0.317085         0.026482  0.343567  5.631554e+07   \n",
      "69     45201020.0          0.347361         0.032210  0.379570  1.501692e+08   \n",
      "130    45103010.0          1.165877        -1.034690  0.131187  7.511103e+08   \n",
      "...           ...               ...              ...       ...           ...   \n",
      "74629  45102010.0          0.335553        -0.091161  0.244392  4.550653e+07   \n",
      "74684  45301020.0          0.464641        -0.370453  0.094188  7.644504e+07   \n",
      "74713  50203010.0          0.366358        -0.040013  0.326346  1.082238e+10   \n",
      "74714  50202010.0          0.720180        -0.358444  0.361736  7.117694e+07   \n",
      "74748  50101020.0          0.440922        -0.494379 -0.053457  1.260113e+09   \n",
      "\n",
      "        PS_Ratio  \n",
      "12      5.737705  \n",
      "16      3.940853  \n",
      "59      2.297937  \n",
      "69      3.961413  \n",
      "130     8.340573  \n",
      "...          ...  \n",
      "74629   1.829923  \n",
      "74684   0.926012  \n",
      "74713   7.951366  \n",
      "74714   2.163762  \n",
      "74748  43.452183  \n",
      "\n",
      "[4066 rows x 31 columns]\n"
     ]
    }
   ],
   "source": [
    "# The Rule of 40 states that a software company’s growth rate added to its profitability should equal 40\n",
    "\n",
    "above_40 = full_data[(full_data['gp_score'] >= 0.4)]\n",
    "below_40 = full_data[(full_data['gp_score'] < 0.4)]\n",
    "\n",
    "hg_below_40 = below_40[(below_40['RevenueGrowthRate'] > 0.30)]\n",
    "lg_above_40 = above_40[(above_40['RevenueGrowthRate'] < 0.30)]\n",
    "print(hg_below_40)\n",
    "\n",
    "\n",
    "li_lg_above_40 = lg_above_40[(lg_above_40['bbb_interest_rate'] < 4)]\n",
    "li_hg_below_40 = hg_below_40[(hg_below_40['bbb_interest_rate'] < 4)]\n",
    "\n",
    "hi_lg_above_40 = lg_above_40[(lg_above_40['bbb_interest_rate'] > 5)]\n",
    "hi_hg_below_40 = hg_below_40[(hg_below_40['bbb_interest_rate'] > 5)]\n",
    "\n",
    "\n"
   ],
   "metadata": {
    "collapsed": false,
    "pycharm": {
     "name": "#%%\n"
    }
   }
  },
  {
   "cell_type": "code",
   "execution_count": 11,
   "outputs": [
    {
     "name": "stdout",
     "output_type": "stream",
     "text": [
      "       rate_env  lg_hp_mean  lg_hp_count  hg_hb_mean  hg_hb_count       diff  \\\n",
      "0   (9.0, 10.0)    9.304527           49    4.790858           60  -4.513669   \n",
      "1    (8.5, 9.0)   25.913405           37   20.259731           63  -5.653674   \n",
      "2    (8.0, 8.5)   22.867464           88   20.402994          186  -2.464471   \n",
      "3    (7.5, 8.0)   19.816549           77   12.946702          192  -6.869848   \n",
      "4    (7.0, 7.5)   16.447528          117    9.200548          282  -7.246979   \n",
      "5    (6.5, 7.0)   16.138002          222    8.365112          440  -7.772889   \n",
      "6    (6.0, 6.5)   16.968040          218    9.082081          212  -7.885959   \n",
      "7    (5.5, 6.0)   16.627233          219    7.110199          208  -9.517034   \n",
      "8    (5.0, 5.5)   17.538726          257    7.505514          298 -10.033212   \n",
      "9    (4.5, 5.0)   16.963559          183   13.464214          173  -3.499345   \n",
      "10   (4.0, 4.5)   16.423659          346   19.544191          415   3.120531   \n",
      "11   (3.5, 4.0)   20.362480          394   21.159208          664   0.796728   \n",
      "12   (3.0, 3.5)   23.057672          316   27.521934          495   4.464262   \n",
      "13   (2.5, 3.0)   29.857331           46   46.062579           92  16.205248   \n",
      "14   (2.0, 2.5)   30.173500          177   61.042120          286  30.868620   \n",
      "\n",
      "        p_diff  \n",
      "0   -48.510459  \n",
      "1   -21.817566  \n",
      "2   -10.777192  \n",
      "3   -34.667225  \n",
      "4   -44.061209  \n",
      "5   -48.165129  \n",
      "6   -46.475369  \n",
      "7   -57.237629  \n",
      "8   -57.206046  \n",
      "9   -20.628603  \n",
      "10   19.000219  \n",
      "11    3.912726  \n",
      "12   19.361285  \n",
      "13   54.275607  \n",
      "14  102.303745  \n"
     ]
    },
    {
     "data": {
      "text/plain": "<Figure size 432x288 with 1 Axes>",
      "image/png": "[encoded data removed]"
     },
     "metadata": {
      "needs_background": "light"
     },
     "output_type": "display_data"
    }
   ],
   "source": [
    "ps_ratio_diff = []\n",
    "df = pd.DataFrame(columns = ['rate_env', 'lg_hp_mean', 'lg_hp_count', 'hg_hb_mean', 'hg_hb_count', 'diff', 'p_diff'])\n",
    "for ir_env in ir_envs:\n",
    "    low, high = ir_env\n",
    "    lg_hp_subset = lg_above_40[(lg_above_40['bbb_interest_rate'] > low) & (lg_above_40['bbb_interest_rate'] <= high)]\n",
    "    hg_hb_subset = hg_below_40[(hg_below_40['bbb_interest_rate'] > low) & (hg_below_40['bbb_interest_rate'] <= high)]\n",
    "    p_diff = (hg_hb_subset['PS_Ratio'].mean() / lg_hp_subset['PS_Ratio'].mean()) * 100 - 100\n",
    "    diff = hg_hb_subset['PS_Ratio'].mean() - lg_hp_subset['PS_Ratio'].mean()\n",
    "    ps_ratio_diff.append(diff)\n",
    "    df.loc[len(df)] = [ir_env, lg_hp_subset['PS_Ratio'].mean(), lg_hp_subset['PS_Ratio'].count(), hg_hb_subset['PS_Ratio'].mean(), hg_hb_subset['PS_Ratio'].count(), diff, p_diff]\n",
    "df.plot(x=\"rate_env\", y=\"p_diff\")\n",
    "print(df)\n",
    "df.to_csv('result_data.csv', index=False)"
   ],
   "metadata": {
    "collapsed": false,
    "pycharm": {
     "name": "#%%\n"
    }
   }
  },
  {
   "cell_type": "code",
   "execution_count": 12,
   "outputs": [
    {
     "name": "stdout",
     "output_type": "stream",
     "text": [
      "21.07394390364182\n",
      "28.14542288778463\n",
      "17.373656814636867\n",
      "10.180684113103732\n"
     ]
    }
   ],
   "source": [
    "# Playing around with data\n",
    "\n",
    "lg_li_subset = lg_above_40[(lg_above_40['bbb_interest_rate'] < 5.0)]\n",
    "hg_li_subset = hg_below_40[(hg_below_40['bbb_interest_rate'] < 5.0)]\n",
    "\n",
    "lg_hi_subset = lg_above_40[(lg_above_40['bbb_interest_rate'] >= 5.0)]\n",
    "hg_hi_subset = hg_below_40[(hg_below_40['bbb_interest_rate'] >= 5.0)]\n",
    "\n",
    "print(lg_li_subset['PS_Ratio'].mean())\n",
    "print(hg_li_subset['PS_Ratio'].mean())\n",
    "print(lg_hi_subset['PS_Ratio'].mean())\n",
    "print(hg_hi_subset['PS_Ratio'].mean())\n",
    "\n",
    "\n",
    "\n"
   ],
   "metadata": {
    "collapsed": false,
    "pycharm": {
     "name": "#%%\n"
    }
   }
  },
  {
   "cell_type": "code",
   "execution_count": 22,
   "outputs": [
    {
     "name": "stderr",
     "output_type": "stream",
     "text": [
      "/var/folders/lt/jddb6ppj7lvd0bxpclxd874h0000gn/T/ipykernel_96171/1226898244.py:18: UserWarning: 'set_params()' not defined for locator of type <class 'matplotlib.category.StrCategoryLocator'>\n",
      "  plt.locator_params(axis='x', nbins=10)\n"
     ]
    },
    {
     "data": {
      "text/plain": "<function matplotlib.pyplot.show(close=None, block=None)>"
     },
     "execution_count": 22,
     "metadata": {},
     "output_type": "execute_result"
    },
    {
     "data": {
      "text/plain": "<Figure size 432x288 with 1 Axes>",
      "image/png": "[encoded data removed]"
     },
     "metadata": {
      "needs_background": "light"
     },
     "output_type": "display_data"
    }
   ],
   "source": [
    "quarters = ['Q1', 'Q2', 'Q3', 'Q4']\n",
    "year = 1996\n",
    "q_list = []\n",
    "while year < 2023:\n",
    "    for q in quarters:\n",
    "        q_list.append(str(year) + q)\n",
    "    year += 1\n",
    "\n",
    "medians_df = pd.DataFrame(columns = ['quarter', 'ps_median', 'growth_median', 'margin_median'])\n",
    "for q in q_list:\n",
    "    subset = full_data[(full_data['forward_c_qtr'] == q)]\n",
    "    medians_df.loc[len(medians_df)] = [q, subset['PS_Ratio'].median(), subset['RevenueGrowthRate'].median(), subset['NetProfitMargin'].median()]\n",
    "import numpy as np\n",
    "import matplotlib.pyplot as plt\n",
    "plt.plot(medians_df['quarter'], medians_df['ps_median'])\n",
    "plt.xlabel(\"Quarter\")\n",
    "plt.ylabel(\"Median P/S ratio\")\n",
    "plt.show"
   ],
   "metadata": {
    "collapsed": false,
    "pycharm": {
     "name": "#%%\n"
    }
   }
  },
  {
   "cell_type": "code",
   "execution_count": null,
   "outputs": [],
   "source": [],
   "metadata": {
    "collapsed": false,
    "pycharm": {
     "name": "#%%\n"
    }
   }
  }
 ],
 "metadata": {
  "kernelspec": {
   "display_name": "Python 3",
   "language": "python",
   "name": "python3"
  },
  "language_info": {
   "codemirror_mode": {
    "name": "ipython",
    "version": 2
   },
   "file_extension": ".py",
   "mimetype": "text/x-python",
   "name": "python",
   "nbconvert_exporter": "python",
   "pygments_lexer": "ipython2",
   "version": "2.7.6"
  }
 },
 "nbformat": 4,
 "nbformat_minor": 0
}